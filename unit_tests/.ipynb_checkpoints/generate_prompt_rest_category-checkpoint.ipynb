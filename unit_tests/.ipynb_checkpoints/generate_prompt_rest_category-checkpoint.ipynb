{
 "cells": [
  {
   "cell_type": "markdown",
   "id": "2f3d62dc-5774-491c-a5f4-f00171dbde50",
   "metadata": {
    "tags": []
   },
   "source": [
    "# Identifying Restaurant Category from User Query\n",
    "## Function: generate_prompt_rest_category"
   ]
  },
  {
   "cell_type": "markdown",
   "id": "e9b1578e-3606-470b-8e03-8e018ea28d68",
   "metadata": {
    "tags": []
   },
   "source": [
    "## Model Setting - Gemini pro 1.0"
   ]
  },
  {
   "cell_type": "code",
   "execution_count": 32,
   "id": "436468b2-2cd3-432a-9b5f-1ae9a17b54b3",
   "metadata": {},
   "outputs": [],
   "source": [
    "# %pip list | grep google-cloud-aiplatform\n",
    "# %pip list | grep google-api-core"
   ]
  },
  {
   "cell_type": "code",
   "execution_count": 33,
   "id": "537c98eb-8660-425a-b89a-dbc7c7073b40",
   "metadata": {},
   "outputs": [],
   "source": [
    "# %pip install google-cloud-aiplatform==1.43.0\n",
    "# %pip install google-api-core==2.17.1"
   ]
  },
  {
   "cell_type": "code",
   "execution_count": 34,
   "id": "35d3d5c4-9d1e-4a0e-af5a-ba28f2b2207b",
   "metadata": {
    "tags": []
   },
   "outputs": [],
   "source": [
    "import os\n",
    "import vertexai\n",
    "from vertexai.preview.generative_models import GenerativeModel, ChatSession, Part\n",
    "import vertexai.preview.generative_models as generative_models"
   ]
  },
  {
   "cell_type": "code",
   "execution_count": 35,
   "id": "7f1fd983-9838-4f53-a13c-b44fc888767f",
   "metadata": {
    "tags": []
   },
   "outputs": [],
   "source": [
    "vertexai.init(project=\"adsp-capstone-property-pilot\", location=\"us-central1\")"
   ]
  },
  {
   "cell_type": "code",
   "execution_count": 36,
   "id": "e726c39f-36a0-4c47-bef1-854b70647d1b",
   "metadata": {
    "tags": []
   },
   "outputs": [],
   "source": [
    "model = GenerativeModel(\"gemini-1.0-pro\")\n",
    "chat = model.start_chat()\n",
    "\n",
    "def get_chat_response(chat: ChatSession, prompt: str) -> str:\n",
    "    text_response = []\n",
    "    responses = chat.send_message(prompt, stream=True)\n",
    "    for chunk in responses:\n",
    "        text_response.append(chunk.text)\n",
    "    return \"\".join(text_response)"
   ]
  },
  {
   "cell_type": "markdown",
   "id": "debbd76e-6f01-40a6-bf0f-808bc6b4ebb0",
   "metadata": {},
   "source": [
    "### Test"
   ]
  },
  {
   "cell_type": "code",
   "execution_count": 37,
   "id": "eaedf554-ac5a-4bab-879d-bd02b5b1cbb9",
   "metadata": {
    "tags": []
   },
   "outputs": [],
   "source": [
    "# prompt = \"Hello.\"\n",
    "# print(get_chat_response(chat, prompt))"
   ]
  },
  {
   "cell_type": "markdown",
   "id": "c22efea2-79d4-4987-9e00-c41be94f1209",
   "metadata": {},
   "source": [
    "## generate_prompt_rest_category"
   ]
  },
  {
   "cell_type": "code",
   "execution_count": 38,
   "id": "e8dd6aaa-422a-4cc6-a448-d204e4db3644",
   "metadata": {
    "tags": []
   },
   "outputs": [],
   "source": [
    "os.chdir('/home/jupyter/property_pilot/prompts')\n",
    "# yelp_categories\n",
    "file_path = 'yelp_categories.txt'\n",
    "try:\n",
    "    with open(file_path, 'r') as file:\n",
    "        yelp_categories = file.read().splitlines()\n",
    "except FileNotFoundError:\n",
    "    print(\"The file does not exist\")\n",
    "except Exception as e:\n",
    "    print(f\"An error occurred: {e}\")"
   ]
  },
  {
   "cell_type": "code",
   "execution_count": 39,
   "id": "31e67582-0102-4710-8eec-dfbea64c1508",
   "metadata": {
    "tags": []
   },
   "outputs": [],
   "source": [
    "def generate_prompt_rest_category(user_query, categories):       \n",
    "        \n",
    "    # Format the list into a single string separated by commas for the model\n",
    "    categories_string = ','.join(categories)\n",
    "    \n",
    "    instruction = f\"\"\"\n",
    "    ### Instructions ###\n",
    "    Identify the category of restaurant the user is interested in based on their query. \n",
    "    If the query doesn't specify a category, return \"restaurants\".\n",
    "    Your output should be a lowercase string. \n",
    "    If there are multiple categories, separate them with a comma.\n",
    "    There should be NO WHITE SPACES OR NEW LINE CHARACTERS.\n",
    "    \n",
    "    ### Possible Categories ###\n",
    "    {categories_string}\n",
    "\n",
    "    ### User’s query ###\n",
    "    {user_query}\n",
    "\n",
    "    ### Output ###\n",
    "    \"\"\"\n",
    "    return instruction"
   ]
  },
  {
   "cell_type": "markdown",
   "id": "421906e5-84b7-41a3-b2a4-bda1f6ee015d",
   "metadata": {},
   "source": [
    "## Example - property search"
   ]
  },
  {
   "cell_type": "code",
   "execution_count": 40,
   "id": "4ea90bc4-4a07-4727-aeb5-e8fb1ae1fce0",
   "metadata": {
    "tags": []
   },
   "outputs": [
    {
     "name": "stdout",
     "output_type": "stream",
     "text": [
      "french\n"
     ]
    }
   ],
   "source": [
    "user_query = \"I am looking for an apartment in downtown chicago with two bedrooms and a pool. What are the best french restaurants nearby?\"\n",
    "\n",
    "# generate prompt\n",
    "prompt = generate_prompt_rest_category(user_query, yelp_categories)\n",
    "\n",
    "# get response from gemini\n",
    "categories = get_chat_response(chat, prompt) \n",
    "\n",
    "print(categories)"
   ]
  },
  {
   "cell_type": "markdown",
   "id": "7e499835-6329-4774-a6af-bc7cffc5cc19",
   "metadata": {},
   "source": [
    "## Example - non-property search"
   ]
  },
  {
   "cell_type": "code",
   "execution_count": 42,
   "id": "9881c332-24b4-446b-910b-b55b0f426c1a",
   "metadata": {
    "tags": []
   },
   "outputs": [
    {
     "name": "stdout",
     "output_type": "stream",
     "text": [
      "pizza\n"
     ]
    }
   ],
   "source": [
    "user_query = \"What are the best pizza places in Hyde Park?\"\n",
    "\n",
    "# generate prompt\n",
    "prompt = generate_prompt_rest_category(user_query, yelp_categories)\n",
    "\n",
    "# get response from gemini\n",
    "categories = get_chat_response(chat, prompt)\n",
    "\n",
    "print(categories)"
   ]
  },
  {
   "cell_type": "code",
   "execution_count": null,
   "id": "87e0f657-d573-437c-9f47-be297012cc13",
   "metadata": {},
   "outputs": [],
   "source": []
  }
 ],
 "metadata": {
  "environment": {
   "kernel": "python3",
   "name": "tf2-cpu.2-11.m119",
   "type": "gcloud",
   "uri": "us-docker.pkg.dev/deeplearning-platform-release/gcr.io/tf2-cpu.2-11:m119"
  },
  "kernelspec": {
   "display_name": "Python 3",
   "language": "python",
   "name": "python3"
  },
  "language_info": {
   "codemirror_mode": {
    "name": "ipython",
    "version": 3
   },
   "file_extension": ".py",
   "mimetype": "text/x-python",
   "name": "python",
   "nbconvert_exporter": "python",
   "pygments_lexer": "ipython3",
   "version": "3.10.14"
  }
 },
 "nbformat": 4,
 "nbformat_minor": 5
}
