{
 "cells": [
  {
   "cell_type": "markdown",
   "id": "8e0c83bd-939d-4374-921f-2a0dd174a311",
   "metadata": {},
   "source": [
    "# Generate Prompt Yelp Advisor"
   ]
  },
  {
   "cell_type": "code",
   "execution_count": 39,
   "id": "f1c2cf12-b62f-4c16-b7d6-44e94c5a24c8",
   "metadata": {
    "tags": []
   },
   "outputs": [],
   "source": [
    "import vertexai\n",
    "from vertexai.preview.generative_models import GenerativeModel, ChatSession, Part\n",
    "import vertexai.preview.generative_models as generative_models"
   ]
  },
  {
   "cell_type": "code",
   "execution_count": 40,
   "id": "74b03c5e-ada4-40b8-aea0-cd24906715c3",
   "metadata": {
    "tags": []
   },
   "outputs": [],
   "source": [
    "vertexai.init(project=\"adsp-capstone-property-pilot\", location=\"us-central1\")"
   ]
  },
  {
   "cell_type": "code",
   "execution_count": 41,
   "id": "025d56e8-80c6-499a-acd8-09727117c0a3",
   "metadata": {
    "tags": []
   },
   "outputs": [],
   "source": [
    "model = GenerativeModel(\"gemini-1.0-pro\")\n",
    "chat = model.start_chat()\n",
    "\n",
    "def get_chat_response(chat: ChatSession, prompt: str) -> str:\n",
    "    text_response = []\n",
    "    responses = chat.send_message(prompt, stream=True)\n",
    "    for chunk in responses:\n",
    "        text_response.append(chunk.text)\n",
    "    return \"\".join(text_response)"
   ]
  },
  {
   "cell_type": "markdown",
   "id": "e31c2e34-ae08-48b7-b5b7-effa2067f4f1",
   "metadata": {},
   "source": [
    "### Test"
   ]
  },
  {
   "cell_type": "code",
   "execution_count": 42,
   "id": "cab42930-6909-43e6-b547-6fd1007fda1a",
   "metadata": {
    "tags": []
   },
   "outputs": [
    {
     "name": "stdout",
     "output_type": "stream",
     "text": [
      "Hello! How can I help you today?\n"
     ]
    }
   ],
   "source": [
    "prompt = \"Hello.\"\n",
    "print(get_chat_response(chat, prompt))"
   ]
  },
  {
   "cell_type": "markdown",
   "id": "26cb3b5f-d812-4dee-94f4-88da042c1e7a",
   "metadata": {},
   "source": [
    "### Yelp Advisor"
   ]
  },
  {
   "cell_type": "code",
   "execution_count": 43,
   "id": "c9f15145-84a4-4d4a-a5a1-bc70e1a8f371",
   "metadata": {
    "tags": []
   },
   "outputs": [],
   "source": [
    "import http.client\n",
    "import json\n",
    "import urllib.parse\n",
    "from typing import Dict, Any\n",
    "import folium\n",
    "import os"
   ]
  },
  {
   "cell_type": "code",
   "execution_count": 44,
   "id": "ea553fcf-c8d2-4e0a-996e-aa48186867d0",
   "metadata": {
    "tags": []
   },
   "outputs": [],
   "source": [
    "os.chdir('/home/jupyter/property_pilot/prompts')\n",
    "# yelp_advisor_instructions\n",
    "file_path = 'yelp_advisor_instructions.txt'\n",
    "try:\n",
    "    with open(file_path, 'r') as file:\n",
    "        yelp_advisor_instruction = file.read()\n",
    "except FileNotFoundError:\n",
    "    print(\"The file does not exist\")\n",
    "except Exception as e:\n",
    "    print(f\"An error occurred: {e}\")"
   ]
  },
  {
   "cell_type": "code",
   "execution_count": 45,
   "id": "8432bb16-b2fe-4784-8ad1-e6f870919f73",
   "metadata": {
    "tags": []
   },
   "outputs": [],
   "source": [
    "os.chdir('/home/jupyter/property_pilot/prompts')\n",
    "# yelp_categories\n",
    "file_path = 'yelp_categories.txt'\n",
    "try:\n",
    "    with open(file_path, 'r') as file:\n",
    "        yelp_categories = file.read().splitlines()\n",
    "        # Format the list into a single string separated by commas for the model\n",
    "        categories_string = ','.join(yelp_categories)\n",
    "except FileNotFoundError:\n",
    "    print(\"The file does not exist\")\n",
    "except Exception as e:\n",
    "    print(f\"An error occurred: {e}\")"
   ]
  },
  {
   "cell_type": "code",
   "execution_count": 52,
   "id": "ef45b3e0-83c9-4f6d-8465-da869ba85d53",
   "metadata": {
    "tags": []
   },
   "outputs": [],
   "source": [
    "# Function to generate the API filter parameters based on user query\n",
    "def generate_prompt_yelp_advisor(yelp_advisor_instruction, user_query, categories_string):\n",
    "    prompt = yelp_advisor_instruction.replace(\"{USER_QUERY}\", user_query)\n",
    "    prompt = prompt.replace(\"{CATEGORIES_STRING}\", categories_string)\n",
    "    return prompt"
   ]
  },
  {
   "cell_type": "code",
   "execution_count": 53,
   "id": "d3f8d52d-9a79-45d2-a108-e24a3d1aad49",
   "metadata": {
    "tags": []
   },
   "outputs": [],
   "source": [
    "# Function to ensure valid JSON\n",
    "def extract_json_to_dict(text):\n",
    "    start = text.find('{')\n",
    "    end = text.rfind('}') + 1\n",
    "\n",
    "    if start != -1 and end != -1:\n",
    "        json_str = text[start:end]\n",
    "        try:\n",
    "            return json.loads(json_str)\n",
    "        except json.JSONDecodeError:\n",
    "            return \"Invalid JSON format\"\n",
    "    else:\n",
    "        return \"No valid JSON object found\""
   ]
  },
  {
   "cell_type": "markdown",
   "id": "d8edfaba-a4c7-4c46-b2e2-0f899d0c20d4",
   "metadata": {},
   "source": [
    "### Test"
   ]
  },
  {
   "cell_type": "code",
   "execution_count": 54,
   "id": "3b5a440e-24fa-42ae-bbce-a3c0eeb6f299",
   "metadata": {
    "tags": []
   },
   "outputs": [
    {
     "data": {
      "text/plain": [
       "str"
      ]
     },
     "execution_count": 54,
     "metadata": {},
     "output_type": "execute_result"
    }
   ],
   "source": [
    "type(yelp_advisor_instruction)"
   ]
  },
  {
   "cell_type": "code",
   "execution_count": 55,
   "id": "6d90a48d-b260-49d1-996a-25eceeb33454",
   "metadata": {
    "tags": []
   },
   "outputs": [
    {
     "data": {
      "text/plain": [
       "str"
      ]
     },
     "execution_count": 55,
     "metadata": {},
     "output_type": "execute_result"
    }
   ],
   "source": [
    "type(categories_string)"
   ]
  },
  {
   "cell_type": "code",
   "execution_count": 60,
   "id": "bd34e28a-e489-4698-b157-38fd88f69d16",
   "metadata": {
    "tags": []
   },
   "outputs": [
    {
     "name": "stdout",
     "output_type": "stream",
     "text": [
      "```json\n",
      "{\n",
      "\"term\": \"thai\",\n",
      "\"location\": \"Chicago, IL\",\n",
      "\"sort_by\": \"rating\",\n",
      "\"limit\": 5\n",
      "}\n",
      "```\n",
      "{'term': 'thai', 'location': 'Chicago, IL', 'sort_by': 'rating', 'limit': 5}\n"
     ]
    }
   ],
   "source": [
    "user_query = \"What are the best Thai restaurants in Chicago?\"\n",
    "\n",
    "yelp_prompt = generate_prompt_yelp_advisor(yelp_advisor_instruction, user_query, categories_string)\n",
    "#print(yelp_prompt)\n",
    "\n",
    "yelp_filter_str = get_chat_response(chat, yelp_prompt)\n",
    "print(yelp_filter_str)\n",
    "\n",
    "yelp_filter = extract_json_to_dict(yelp_filter_str)\n",
    "print(yelp_filter)"
   ]
  },
  {
   "cell_type": "code",
   "execution_count": 58,
   "id": "74c03e08-f68f-4eac-ae75-25194ffb7fa5",
   "metadata": {
    "tags": []
   },
   "outputs": [
    {
     "name": "stdout",
     "output_type": "stream",
     "text": [
      "```\n",
      "{\n",
      "\"location\": \"South Loop, Chicago, IL\",\n",
      "\"term\": \"restaurants\",\n",
      "\"price\": [1, 2],\n",
      "\"sort_by\": \"rating\",\n",
      "\"limit\": 5\n",
      "}\n",
      "```\n",
      "{'location': 'South Loop, Chicago, IL', 'term': 'restaurants', 'price': [1, 2], 'sort_by': 'rating', 'limit': 5}\n"
     ]
    }
   ],
   "source": [
    "user_query = \"What are the best budget-friendly restaurant options in South Loop?\"\n",
    "\n",
    "yelp_prompt = generate_prompt_yelp_advisor(yelp_advisor_instruction, user_query, categories_string)\n",
    "\n",
    "yelp_filter_str = get_chat_response(chat, yelp_prompt)\n",
    "print(yelp_filter_str)\n",
    "\n",
    "yelp_filter = extract_json_to_dict(yelp_filter_str)\n",
    "print(yelp_filter)"
   ]
  },
  {
   "cell_type": "code",
   "execution_count": 59,
   "id": "922e258e-9dfe-40bf-98a0-c73bad572648",
   "metadata": {
    "tags": []
   },
   "outputs": [
    {
     "name": "stdout",
     "output_type": "stream",
     "text": [
      "```json\n",
      "{\n",
      "\"location\":\"West Loop, IL\",\n",
      "\"term\":\"restaurants\",\n",
      "\"sort_by\":\"rating\",\n",
      "\"limit\":5\n",
      "}\n",
      "```\n",
      "{'location': 'West Loop, IL', 'term': 'restaurants', 'sort_by': 'rating', 'limit': 5}\n"
     ]
    }
   ],
   "source": [
    "user_query = \"What are the top five restaurants in West Loop?\"\n",
    "\n",
    "yelp_prompt = generate_prompt_yelp_advisor(yelp_advisor_instruction, user_query, categories_string)\n",
    "\n",
    "yelp_filter_str = get_chat_response(chat, yelp_prompt)\n",
    "print(yelp_filter_str)\n",
    "\n",
    "yelp_filter = extract_json_to_dict(yelp_filter_str)\n",
    "print(yelp_filter)"
   ]
  },
  {
   "cell_type": "code",
   "execution_count": null,
   "id": "706b0970-0b8d-4c7a-a292-c14c1ede88e3",
   "metadata": {},
   "outputs": [],
   "source": []
  }
 ],
 "metadata": {
  "environment": {
   "kernel": "python3",
   "name": "tf2-cpu.2-11.m119",
   "type": "gcloud",
   "uri": "us-docker.pkg.dev/deeplearning-platform-release/gcr.io/tf2-cpu.2-11:m119"
  },
  "kernelspec": {
   "display_name": "Python 3",
   "language": "python",
   "name": "python3"
  },
  "language_info": {
   "codemirror_mode": {
    "name": "ipython",
    "version": 3
   },
   "file_extension": ".py",
   "mimetype": "text/x-python",
   "name": "python",
   "nbconvert_exporter": "python",
   "pygments_lexer": "ipython3",
   "version": "3.10.14"
  }
 },
 "nbformat": 4,
 "nbformat_minor": 5
}
