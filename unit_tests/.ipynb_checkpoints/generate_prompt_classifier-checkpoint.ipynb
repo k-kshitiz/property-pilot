{
 "cells": [
  {
   "cell_type": "markdown",
   "id": "04e5262d-f63d-42ff-abcc-c7ccfe2cc246",
   "metadata": {
    "tags": []
   },
   "source": [
    "# User_Query_Classifier\n",
    "## Function: generate_prompt_classifier"
   ]
  },
  {
   "cell_type": "markdown",
   "id": "d63e188e-0f1a-4149-9159-9bf7d29bb83b",
   "metadata": {
    "tags": []
   },
   "source": [
    "## Model Setting - Gemini pro 1.0"
   ]
  },
  {
   "cell_type": "code",
   "execution_count": 1,
   "id": "e453cc87-ca5d-4907-a121-454951441cf3",
   "metadata": {},
   "outputs": [],
   "source": [
    "# %pip list | grep google-cloud-aiplatform\n",
    "# %pip list | grep google-api-core"
   ]
  },
  {
   "cell_type": "code",
   "execution_count": 2,
   "id": "9356612e-a512-4a97-ab07-92a06a7f04bf",
   "metadata": {},
   "outputs": [],
   "source": [
    "# %pip install google-cloud-aiplatform==1.43.0\n",
    "# %pip install google-api-core==2.17.1"
   ]
  },
  {
   "cell_type": "code",
   "execution_count": 3,
   "id": "09e7078b-9bef-427e-a1ae-9e0528a15f77",
   "metadata": {
    "tags": []
   },
   "outputs": [
    {
     "name": "stderr",
     "output_type": "stream",
     "text": [
      "2024-05-14 18:14:20.350201: I tensorflow/core/platform/cpu_feature_guard.cc:193] This TensorFlow binary is optimized with oneAPI Deep Neural Network Library (oneDNN) to use the following CPU instructions in performance-critical operations:  AVX2 FMA\n",
      "To enable them in other operations, rebuild TensorFlow with the appropriate compiler flags.\n",
      "2024-05-14 18:14:21.422284: W tensorflow/compiler/xla/stream_executor/platform/default/dso_loader.cc:64] Could not load dynamic library 'libnvinfer.so.7'; dlerror: libnvinfer.so.7: cannot open shared object file: No such file or directory; LD_LIBRARY_PATH: /usr/local/cuda/lib64:/usr/local/nccl2/lib:/usr/local/cuda/extras/CUPTI/lib64\n",
      "2024-05-14 18:14:21.422403: W tensorflow/compiler/xla/stream_executor/platform/default/dso_loader.cc:64] Could not load dynamic library 'libnvinfer_plugin.so.7'; dlerror: libnvinfer_plugin.so.7: cannot open shared object file: No such file or directory; LD_LIBRARY_PATH: /usr/local/cuda/lib64:/usr/local/nccl2/lib:/usr/local/cuda/extras/CUPTI/lib64\n",
      "2024-05-14 18:14:21.422413: W tensorflow/compiler/tf2tensorrt/utils/py_utils.cc:38] TF-TRT Warning: Cannot dlopen some TensorRT libraries. If you would like to use Nvidia GPU with TensorRT, please make sure the missing libraries mentioned above are installed properly.\n"
     ]
    }
   ],
   "source": [
    "import vertexai\n",
    "from vertexai.preview.generative_models import GenerativeModel, ChatSession, Part\n",
    "import vertexai.preview.generative_models as generative_models"
   ]
  },
  {
   "cell_type": "code",
   "execution_count": 4,
   "id": "280e74f1-21fe-46ed-bbbc-82aea16c9117",
   "metadata": {
    "tags": []
   },
   "outputs": [],
   "source": [
    "vertexai.init(project=\"adsp-capstone-property-pilot\", location=\"us-central1\")"
   ]
  },
  {
   "cell_type": "code",
   "execution_count": 5,
   "id": "1693b1ef-469d-4835-b4fb-f27ed6d7adb2",
   "metadata": {
    "tags": []
   },
   "outputs": [],
   "source": [
    "model = GenerativeModel(\"gemini-1.0-pro\")\n",
    "chat = model.start_chat()\n",
    "\n",
    "def get_chat_response(chat: ChatSession, prompt: str) -> str:\n",
    "    text_response = []\n",
    "    responses = chat.send_message(prompt, stream=True)\n",
    "    for chunk in responses:\n",
    "        text_response.append(chunk.text)\n",
    "    return \"\".join(text_response)"
   ]
  },
  {
   "cell_type": "markdown",
   "id": "096ead08-e996-4735-8856-912f7afc10dc",
   "metadata": {},
   "source": [
    "### Test"
   ]
  },
  {
   "cell_type": "code",
   "execution_count": 6,
   "id": "ba942672-c60b-46ca-9e69-f7bfcdc4af62",
   "metadata": {
    "tags": []
   },
   "outputs": [
    {
     "name": "stdout",
     "output_type": "stream",
     "text": [
      "Hello! 👋  How can I assist you today? 😊\n"
     ]
    }
   ],
   "source": [
    "prompt = \"Hello.\"\n",
    "print(get_chat_response(chat, prompt))"
   ]
  },
  {
   "cell_type": "markdown",
   "id": "9219070b-b278-4bb9-a2e1-b7e47df6113c",
   "metadata": {
    "tags": []
   },
   "source": [
    "## Create the function for user query classification"
   ]
  },
  {
   "cell_type": "code",
   "execution_count": 7,
   "id": "f6c90ebf-2e29-4f4d-b260-7c7a10aaddb1",
   "metadata": {
    "tags": []
   },
   "outputs": [],
   "source": [
    "def generate_prompt_classifier(instruction, user_query):\n",
    "    return instruction.replace(\"{USER_QUERY}\", user_query)"
   ]
  },
  {
   "cell_type": "code",
   "execution_count": 8,
   "id": "ca330e01-026c-4472-afd5-1f45d97fd6b2",
   "metadata": {
    "tags": []
   },
   "outputs": [],
   "source": [
    "instruction_classifier = \"\"\"\n",
    "### Instructions ###\n",
    "I want you to act as a sentence classifier. Based on \"User's query\" below, classify it into one of the categories listed, and respond with an integer from 0 to 4. \n",
    "Provide only the number as your answer. Do not include any other explanations in your response. Read the instructions below:\n",
    "\n",
    "- If the question is about searching for rentals or real estate: output \"1\".\n",
    "- If the question is about restaurant information: output \"2\".\n",
    "- If the question is about Chicago local information (e.g., neighborhoods, schools, transportation): output \"3\".\n",
    "- For any other questions: output \"0\".\n",
    "\n",
    "Now, use the following query to determine the number.\n",
    "\n",
    "### Example query ###\n",
    "I want to buy a house in River North with at least two bedrooms.\n",
    "\n",
    "### Example Output ###\n",
    "1\n",
    "\n",
    "### Example query ###\n",
    "I am looking for a rental around Wicker Park in Chicago with a gym and a pool. It should be built within the last 10 years.\n",
    "\n",
    "### Example Output ###\n",
    "1\n",
    "\n",
    "\n",
    "### Example query ###\n",
    "Could you recommend an Italian restaurant in Chicago?\n",
    "\n",
    "### Example Output ###\n",
    "2\n",
    "\n",
    "### Example query ###\n",
    "What is the top-rated Japanese food in Chicago?\n",
    "\n",
    "### Example Output ###\n",
    "2\n",
    "\n",
    "\n",
    "### Example query ###\n",
    "What is the West Loop neighborhood in Chicago like?\n",
    "\n",
    "### Example Output ###\n",
    "3\n",
    "\n",
    "### Example query ###\n",
    "What is the nearest station to Lincoln Park?\n",
    "\n",
    "### Example Output ###\n",
    "3\n",
    "\n",
    "\n",
    "### Example query ###\n",
    "When was Llama 3 announced?\n",
    "\n",
    "### Example Output ###\n",
    "0\n",
    "\n",
    "### Example query ###\n",
    "How is Amazon's stock price doing?\n",
    "\n",
    "### Example Output ###\n",
    "0\n",
    "\n",
    "\n",
    "### User’s query ###\n",
    "{USER_QUERY}\n",
    "\n",
    "### Output ###\n",
    "\"\"\""
   ]
  },
  {
   "cell_type": "code",
   "execution_count": 9,
   "id": "307520a9-ff17-44f7-8bb7-5bde2fef5c4e",
   "metadata": {
    "tags": []
   },
   "outputs": [],
   "source": [
    "# # For more comclicated case(in the next quarter)\n",
    "\n",
    "# instruction_classifier = \"\"\"\n",
    "# ### Instructions ###\n",
    "# I want you to act as a sentence classifier. Based on \"User's query\" below, classify it into one of the categories listed, and respond with an integer from 0 to 4. \n",
    "# Provide only the number as your answer. Do not include any other explanations in your response. Read the instructions below:\n",
    "\n",
    "# - If the question is about searching for rentals or real estate: output \"1\".\n",
    "# - If the question is about restaurant information: output \"2\".\n",
    "# - If the question is about Chicago local information (e.g., neighborhoods, schools, transportation): output \"3\".\n",
    "# - If there is sufficient information from the current or recent conversations related to a specific property regarding restaurants or Chicago local information, then output \"4\".\n",
    "# - For any other questions: output \"0\".\n",
    "\n",
    "# Now, use the following query to determine the number.\n",
    "\n",
    "# ### Example query ###\n",
    "# I want to buy a house in River North with at least two bedrooms.\n",
    "\n",
    "# ### Example Output ###\n",
    "# 1\n",
    "\n",
    "# ### Example query ###\n",
    "# I am looking for a rental around Wicker Park in Chicago with a gym and a pool. It should be built within the last 10 years.\n",
    "\n",
    "# ### Example Output ###\n",
    "# 1\n",
    "\n",
    "\n",
    "# ### Example query ###\n",
    "# Could you recommend an Italian restaurant in Chicago?\n",
    "\n",
    "# ### Example Output ###\n",
    "# 2\n",
    "\n",
    "# ### Example query ###\n",
    "# What is the top-rated Japanese food in Chicago?\n",
    "\n",
    "# ### Example Output ###\n",
    "# 2\n",
    "\n",
    "\n",
    "# ### Example query ###\n",
    "# What is the West Loop neighborhood in Chicago like?\n",
    "\n",
    "# ### Example Output ###\n",
    "# 3\n",
    "\n",
    "# ### Example query ###\n",
    "# What is the nearest station to Lincoln Park?\n",
    "\n",
    "# ### Example Output ###\n",
    "# 3\n",
    "\n",
    "\n",
    "# ### Example query ### \n",
    "# \"Is this property close to public transportation facilities?\"\n",
    "\n",
    "# *Option*\n",
    "# - Address: **938 W 34th St, Chicago, IL 60608**\n",
    "# - Price: **$1,300**\n",
    "# - Bedrooms: **2**\n",
    "# - Bathrooms: **1**\n",
    "# - Link: https://www.zillow.com/homedetails/938-W-34th-St-Chicago-IL-60608/2103556011_zpid/\n",
    "# - Image: https://photos.zillowstatic.com/fp/39271ea4416452453259cd89b55d1170-p_e.jpg\n",
    "# - Description: Sunny two-bedroom, one-bathroom apartment in vintage Bridgeport 6-flat. Offers new kitchen, hardwood floors, high ceilings, and more. \n",
    "# - Resofacts:\n",
    "#     - Has Garage: False\n",
    "#     - Has Pets Allowed: Yes\n",
    "#     - Living Area: 600 sqft\n",
    "#     - Annual tax amount: $25\n",
    "# - Schools: \n",
    "#     - Armour Elementary School (Rating:6, Grades PK-8, Public)\n",
    "#     - Tilden Career Community Academy High School (Rating: 1, Grades 9-12, Public)\n",
    "# - Restaurants nearby:\n",
    "#     - Franco's Ristorante (Italian, 4.4 stars): https://www.yelp.com/biz/francos-ristorante-chicago?adjust_creative=GgXKz4qBvfURJxuhy6g81Q&utm_campaign=yelp_api_v3&utm_medium=api_v3_business_search&utm_source=GgXKz4qBvfURJxuhy6g81Q\n",
    "#     - Gio's Cafe & Deli (Delis & Italian, 4.3 stars): https://www.yelp.com/biz/gios-cafe-and-deli-chicago?adjust_creative=GgXKz4qBvfURJxuhy6g81Q&utm_campaign=yelp_api_v3&utm_medium=api_v3_business_search&utm_source=GgXKz4qBvfURJxuhy6g81Q\n",
    "\n",
    "# ### Example Output ###\n",
    "# 4\n",
    "\n",
    "\n",
    "# ### Example query ### \n",
    "# \"Can you recommend some good schools near this property?\"\n",
    "\n",
    "# *Option*\n",
    "# - Address: **2701 S Indiana Ave, Chicago, IL**\n",
    "# - Price: *$2,000**\n",
    "# - Bedrooms: **1**\n",
    "# - Bathrooms: **1**\n",
    "# - Link: https://www.zillow.com/apartments/chicago-il/eden-commons/5XjNY3/\n",
    "# - Image: https://photos.zillowstatic.com/fp/c533fb4ba892997a014b728e64db7108-p_e.jpg\n",
    "# - Description: No description available\n",
    "# - Resofacts: Unavailable\n",
    "# - Schools: Unavailable\n",
    "# - Restaurants nearby:\n",
    "#     - Franco's Ristorante (Italian, 4.4 stars): https://www.yelp.com/biz/francos-ristorante-chicago?adjust_creative=GgXKz4qBvfURJxuhy6g81Q&utm_campaign=yelp_api_v3&utm_medium=api_v3_business_search&utm_source=GgXKz4qBvfURJxuhy6g81Q\n",
    "#     - Il Culaccino (Italian, 4.0 stars): https://www.yelp.com/biz/il-culaccino-chicago-2?adjust_creative=GgXKz4qBvfURJxuhy6g81Q&utm_campaign=yelp_api_v3&utm_medium=api_v3_business_search&utm_source=GgXKz4qBvfURJxuhy6g81Q\n",
    "\n",
    "# ### Example Output ###\n",
    "# 4\n",
    "\n",
    "\n",
    "# ### Example query ###\n",
    "# When was Llama 3 announced?\n",
    "\n",
    "# ### Example Output ###\n",
    "# 0\n",
    "\n",
    "# ### Example query ###\n",
    "# How is Amazon's stock price doing?\n",
    "\n",
    "# ### Example Output ###\n",
    "# 0\n",
    "\n",
    "\n",
    "# ### User’s query ###\n",
    "# {USER_QUERY}\n",
    "\n",
    "# ### Output ###\n",
    "# \"\"\""
   ]
  },
  {
   "cell_type": "code",
   "execution_count": 10,
   "id": "95a85ea4-e208-4ac8-930d-eb8df0d2d3a6",
   "metadata": {
    "scrolled": true,
    "tags": []
   },
   "outputs": [
    {
     "name": "stdout",
     "output_type": "stream",
     "text": [
      "\n",
      "### Instructions ###\n",
      "I want you to act as a sentence classifier. Based on \"User's query\" below, classify it into one of the categories listed, and respond with an integer from 0 to 4. \n",
      "Provide only the number as your answer. Do not include any other explanations in your response. Read the instructions below:\n",
      "\n",
      "- If the question is about searching for rentals or real estate: output \"1\".\n",
      "- If the question is about restaurant information: output \"2\".\n",
      "- If the question is about Chicago local information (e.g., neighborhoods, schools, transportation): output \"3\".\n",
      "- For any other questions: output \"0\".\n",
      "\n",
      "Now, use the following query to determine the number.\n",
      "\n",
      "### Example query ###\n",
      "I want to buy a house in River North with at least two bedrooms.\n",
      "\n",
      "### Example Output ###\n",
      "1\n",
      "\n",
      "### Example query ###\n",
      "I am looking for a rental around Wicker Park in Chicago with a gym and a pool. It should be built within the last 10 years.\n",
      "\n",
      "### Example Output ###\n",
      "1\n",
      "\n",
      "\n",
      "### Example query ###\n",
      "Could you recommend an Italian restaurant in Chicago?\n",
      "\n",
      "### Example Output ###\n",
      "2\n",
      "\n",
      "### Example query ###\n",
      "What is the top-rated Japanese food in Chicago?\n",
      "\n",
      "### Example Output ###\n",
      "2\n",
      "\n",
      "\n",
      "### Example query ###\n",
      "What is the West Loop neighborhood in Chicago like?\n",
      "\n",
      "### Example Output ###\n",
      "3\n",
      "\n",
      "### Example query ###\n",
      "What is the nearest station to Lincoln Park?\n",
      "\n",
      "### Example Output ###\n",
      "3\n",
      "\n",
      "\n",
      "### Example query ###\n",
      "When was Llama 3 announced?\n",
      "\n",
      "### Example Output ###\n",
      "0\n",
      "\n",
      "### Example query ###\n",
      "How is Amazon's stock price doing?\n",
      "\n",
      "### Example Output ###\n",
      "0\n",
      "\n",
      "\n",
      "### User’s query ###\n",
      "I am looking for a two-bedroom.\n",
      "\n",
      "### Output ###\n",
      "\n"
     ]
    }
   ],
   "source": [
    "user_query = \"I am looking for a two-bedroom.\"\n",
    "print(generate_prompt_classifier(instruction_classifier, user_query))"
   ]
  },
  {
   "cell_type": "markdown",
   "id": "ee9ef9f4-bc65-4980-89aa-7dad0dad4bb9",
   "metadata": {},
   "source": [
    "### Test"
   ]
  },
  {
   "cell_type": "code",
   "execution_count": 11,
   "id": "bbc789aa-8430-4ef1-8b97-b98a12d4701a",
   "metadata": {
    "tags": []
   },
   "outputs": [
    {
     "name": "stdout",
     "output_type": "stream",
     "text": [
      "1\n"
     ]
    }
   ],
   "source": [
    "user_query = \"I am looking for a two-bedroom.\"\n",
    "prompt = generate_prompt_classifier(instruction_classifier, user_query)\n",
    "print(get_chat_response(chat, prompt))"
   ]
  },
  {
   "cell_type": "code",
   "execution_count": 12,
   "id": "4d581d11-4ec8-447d-9e23-68e88ec8e7f3",
   "metadata": {
    "tags": []
   },
   "outputs": [
    {
     "name": "stdout",
     "output_type": "stream",
     "text": [
      "1\n"
     ]
    }
   ],
   "source": [
    "user_query = \"Are there any pet-friendly condos available for sale right now?\"\n",
    "prompt = generate_prompt_classifier(instruction_classifier, user_query)\n",
    "print(get_chat_response(chat, prompt))"
   ]
  },
  {
   "cell_type": "code",
   "execution_count": 13,
   "id": "7570f92c-5d4a-4300-b045-6c3b6d7a1876",
   "metadata": {
    "tags": []
   },
   "outputs": [
    {
     "name": "stdout",
     "output_type": "stream",
     "text": [
      "2\n"
     ]
    }
   ],
   "source": [
    "user_query = \"Can you recommend a good sushi restaurant near Millennium Park in Chicago?\"\n",
    "prompt = generate_prompt_classifier(instruction_classifier, user_query)\n",
    "print(get_chat_response(chat, prompt))"
   ]
  },
  {
   "cell_type": "code",
   "execution_count": 14,
   "id": "3018cab9-842a-4c96-86ac-547ddd7c7f1d",
   "metadata": {
    "tags": []
   },
   "outputs": [
    {
     "name": "stdout",
     "output_type": "stream",
     "text": [
      "2\n"
     ]
    }
   ],
   "source": [
    "user_query = \"I want to eat Chicago pizza\"\n",
    "prompt = generate_prompt_classifier(instruction_classifier, user_query)\n",
    "print(get_chat_response(chat, prompt))"
   ]
  },
  {
   "cell_type": "code",
   "execution_count": 15,
   "id": "1f478145-be82-45c7-ac92-550149b902a3",
   "metadata": {
    "tags": []
   },
   "outputs": [
    {
     "name": "stdout",
     "output_type": "stream",
     "text": [
      "3\n"
     ]
    }
   ],
   "source": [
    "user_query = \"What are the top-rated elementary schools in Chicago's Lakeview neighborhood?\"\n",
    "prompt = generate_prompt_classifier(instruction_classifier, user_query)\n",
    "print(get_chat_response(chat, prompt))"
   ]
  },
  {
   "cell_type": "code",
   "execution_count": 16,
   "id": "2da5b70e-61bf-44cf-8f4b-35b9382af2d9",
   "metadata": {
    "tags": []
   },
   "outputs": [
    {
     "name": "stdout",
     "output_type": "stream",
     "text": [
      "3\n",
      "\n",
      "\n"
     ]
    }
   ],
   "source": [
    "user_query = \"What is the nearest station from The Loop?\"\n",
    "prompt = generate_prompt_classifier(instruction_classifier, user_query)\n",
    "print(get_chat_response(chat, prompt))"
   ]
  },
  {
   "cell_type": "code",
   "execution_count": 17,
   "id": "cd3f1a26-4f45-4f82-b2fc-6c7bfe93e721",
   "metadata": {
    "tags": []
   },
   "outputs": [
    {
     "name": "stdout",
     "output_type": "stream",
     "text": [
      "0\n"
     ]
    }
   ],
   "source": [
    "user_query = \"Can you explain how a blockchain transaction works?\"\n",
    "prompt = generate_prompt_classifier(instruction_classifier, user_query)\n",
    "print(get_chat_response(chat, prompt))"
   ]
  },
  {
   "cell_type": "code",
   "execution_count": 18,
   "id": "28297adc-0e0e-4046-987a-e0ee6a39058a",
   "metadata": {
    "tags": []
   },
   "outputs": [
    {
     "name": "stdout",
     "output_type": "stream",
     "text": [
      "2\n"
     ]
    }
   ],
   "source": [
    "user_query = \"Hello!\"\n",
    "prompt = generate_prompt_classifier(instruction_classifier, user_query)\n",
    "print(get_chat_response(chat, prompt))"
   ]
  },
  {
   "cell_type": "code",
   "execution_count": 19,
   "id": "a1abbbb8-bcf7-4d4f-b123-e8074e4c2706",
   "metadata": {
    "tags": []
   },
   "outputs": [],
   "source": [
    "# # For more comclicated case(in the next quarter)\n",
    "\n",
    "# add property detail conversation\n",
    "# prompt = '''\n",
    "# *Option*\n",
    "# - Address: **2701 S Indiana Ave, Chicago, IL**\n",
    "# - Price: *$2,000**\n",
    "# - Bedrooms: **1**\n",
    "# - Bathrooms: **1**\n",
    "# - Link: https://www.zillow.com/apartments/chicago-il/eden-commons/5XjNY3/\n",
    "# - Image: https://photos.zillowstatic.com/fp/c533fb4ba892997a014b728e64db7108-p_e.jpg\n",
    "# - Description: No description available\n",
    "# - Resofacts: Unavailable\n",
    "# - Schools: Unavailable\n",
    "# - Restaurants nearby:\n",
    "#     - Franco's Ristorante (Italian, 4.4 stars): https://www.yelp.com/biz/francos-ristorante-chicago?adjust_creative=GgXKz4qBvfURJxuhy6g81Q&utm_campaign=yelp_api_v3&utm_medium=api_v3_business_search&utm_source=GgXKz4qBvfURJxuhy6g81Q\n",
    "#     - Il Culaccino (Italian, 4.0 stars): https://www.yelp.com/biz/il-culaccino-chicago-2?adjust_creative=GgXKz4qBvfURJxuhy6g81Q&utm_campaign=yelp_api_v3&utm_medium=api_v3_business_search&utm_source=GgXKz4qBvfURJxuhy6g81Q\n",
    "\n",
    "# '''\n",
    "\n",
    "\n",
    "# print(get_chat_response(chat, prompt))\n"
   ]
  },
  {
   "cell_type": "code",
   "execution_count": 20,
   "id": "2c08d987-f0d6-4cc6-8958-9077ff239536",
   "metadata": {
    "tags": []
   },
   "outputs": [],
   "source": [
    "# # For more comclicated case(in the next quarter)\n",
    "\n",
    "# user_query = \"Can you recommend a good restaurant near the property?\"\n",
    "# prompt = generate_prompt_classifier(instruction_classifier, user_query)\n",
    "# print(get_chat_response(chat, prompt))"
   ]
  },
  {
   "cell_type": "markdown",
   "id": "1099b7a3-9df7-4203-975d-89f57f57e53c",
   "metadata": {},
   "source": [
    "It should be 4, we need to solve this issue."
   ]
  },
  {
   "cell_type": "markdown",
   "id": "53e28092-597b-4313-ad1a-90982fed6fc5",
   "metadata": {},
   "source": [
    "## Check if the response can be used as a condition in an if statement"
   ]
  },
  {
   "cell_type": "code",
   "execution_count": 21,
   "id": "3918d490-62b2-4bd1-a24f-ce6a28b01cbf",
   "metadata": {
    "tags": []
   },
   "outputs": [
    {
     "name": "stdout",
     "output_type": "stream",
     "text": [
      "2\n"
     ]
    }
   ],
   "source": [
    "user_query = \"Can you recommend a good sushi restaurant near Millennium Park in Chicago?\"\n",
    "prompt = generate_prompt_classifier(instruction_classifier, user_query)\n",
    "response_int = int(get_chat_response(chat, prompt))\n",
    "print(response_int)"
   ]
  },
  {
   "cell_type": "code",
   "execution_count": 22,
   "id": "9939459f-eeb1-4678-b8f9-f08a66466729",
   "metadata": {
    "tags": []
   },
   "outputs": [
    {
     "name": "stdout",
     "output_type": "stream",
     "text": [
      "It works\n"
     ]
    }
   ],
   "source": [
    "if response_int == 2:\n",
    "    print('It works')\n",
    "else:\n",
    "    print('Error')"
   ]
  }
 ],
 "metadata": {
  "environment": {
   "kernel": "python3",
   "name": "tf2-cpu.2-11.m119",
   "type": "gcloud",
   "uri": "us-docker.pkg.dev/deeplearning-platform-release/gcr.io/tf2-cpu.2-11:m119"
  },
  "kernelspec": {
   "display_name": "Python 3",
   "language": "python",
   "name": "python3"
  },
  "language_info": {
   "codemirror_mode": {
    "name": "ipython",
    "version": 3
   },
   "file_extension": ".py",
   "mimetype": "text/x-python",
   "name": "python",
   "nbconvert_exporter": "python",
   "pygments_lexer": "ipython3",
   "version": "3.10.14"
  }
 },
 "nbformat": 4,
 "nbformat_minor": 5
}
