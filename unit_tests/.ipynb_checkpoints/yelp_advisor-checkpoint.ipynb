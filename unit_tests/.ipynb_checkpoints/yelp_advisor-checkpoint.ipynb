{
 "cells": [
  {
   "cell_type": "markdown",
   "id": "6762b25b-60d1-4f02-8c70-74d1f6f03beb",
   "metadata": {},
   "source": [
    "# Calling Yelp API for local advisor feature\n",
    "### Function: yelp_advisor"
   ]
  },
  {
   "cell_type": "code",
   "execution_count": 1,
   "id": "86fc40bf-7b3e-4d84-93f7-428817a1d7a8",
   "metadata": {
    "tags": []
   },
   "outputs": [],
   "source": [
    "import http.client\n",
    "import json\n",
    "import urllib.parse\n",
    "from typing import Dict, Any\n",
    "import folium"
   ]
  },
  {
   "cell_type": "code",
   "execution_count": 2,
   "id": "e22caf10-bae7-43eb-9e2a-9686217d1168",
   "metadata": {
    "tags": []
   },
   "outputs": [],
   "source": [
    "#Function to call the Yelp API\n",
    "def yelp_advisor(api_key: str, yelp_filter: Dict[str, Any]):\n",
    "    \"\"\"Fetches top-rated businesses near a given location from Yelp.\"\"\"\n",
    "    conn = http.client.HTTPSConnection(\"api.yelp.com\")\n",
    "    \n",
    "    headers = {\n",
    "        'Authorization': f'Bearer {api_key}'\n",
    "    }\n",
    "    \n",
    "    params = yelp_filter\n",
    "    #print(params)\n",
    "    \n",
    "    # Encode parameters into URL query string\n",
    "    query_string = urllib.parse.urlencode(params, doseq=True)\n",
    "    #print(query_string)\n",
    "    url = f\"/v3/businesses/search?{query_string}\"\n",
    "    \n",
    "    conn.request(\"GET\", url, headers=headers)\n",
    "    \n",
    "    response = conn.getresponse()\n",
    "    data = response.read()\n",
    "    conn.close()\n",
    "    \n",
    "    if response.status == 200:\n",
    "        return json.loads(data)\n",
    "    else:\n",
    "        print(f\"Failed to fetch data: {response.status} - {data.decode('utf-8')}\")\n",
    "        return None  # Handle the failure as appropriate in your application\n"
   ]
  },
  {
   "cell_type": "markdown",
   "id": "964e8444-6e71-41e5-8144-1c30a3d37b5a",
   "metadata": {},
   "source": [
    "### Test"
   ]
  },
  {
   "cell_type": "code",
   "execution_count": 3,
   "id": "6d8bf51d-0aae-4b9c-a3d4-9b00e1d25549",
   "metadata": {
    "tags": []
   },
   "outputs": [],
   "source": [
    "yelp_api_key = ''"
   ]
  },
  {
   "cell_type": "code",
   "execution_count": 4,
   "id": "298b3a08-8446-434d-b452-de7ec1f5d10a",
   "metadata": {
    "tags": []
   },
   "outputs": [
    {
     "name": "stdout",
     "output_type": "stream",
     "text": [
      "{'businesses': [{'id': '17BM3-UHFsmPJdaIgAu0nA', 'alias': 'gaoku-izakaya-chicago', 'name': 'Gaoku Izakaya', 'image_url': 'https://s3-media1.fl.yelpcdn.com/bphoto/2Z5BlxjdUUVuIPQknRAIIQ/o.jpg', 'is_closed': False, 'url': 'https://www.yelp.com/biz/gaoku-izakaya-chicago?adjust_creative=6Rl6qXMI6EN3VkijeNTf0A&utm_campaign=yelp_api_v3&utm_medium=api_v3_business_search&utm_source=6Rl6qXMI6EN3VkijeNTf0A', 'review_count': 5, 'categories': [{'alias': 'izakaya', 'title': 'Izakaya'}, {'alias': 'cocktailbars', 'title': 'Cocktail Bars'}, {'alias': 'thai', 'title': 'Thai'}], 'rating': 4.6, 'coordinates': {'latitude': 41.899033, 'longitude': -87.696617}, 'transactions': [], 'location': {'address1': '2759 W Augusta Blvd', 'address2': None, 'address3': '', 'city': 'Chicago', 'zip_code': '60622', 'country': 'US', 'state': 'IL', 'display_address': ['2759 W Augusta Blvd', 'Chicago, IL 60622']}, 'phone': '+17736986261', 'display_phone': '(773) 698-6261', 'distance': 1707.927209270195, 'attributes': {'business_temp_closed': None, 'menu_url': 'https://www.gaokuchicago.com/menu', 'open24_hours': None, 'waitlist_reservation': None}}, {'id': 'p2cCK4Vu-3L-skOMd93VVg', 'alias': 'jj-thai-street-food-chicago', 'name': 'JJ Thai Street Food', 'image_url': 'https://s3-media3.fl.yelpcdn.com/bphoto/Fab5uQe-lYI3zD_zyY-XSQ/o.jpg', 'is_closed': False, 'url': 'https://www.yelp.com/biz/jj-thai-street-food-chicago?adjust_creative=6Rl6qXMI6EN3VkijeNTf0A&utm_campaign=yelp_api_v3&utm_medium=api_v3_business_search&utm_source=6Rl6qXMI6EN3VkijeNTf0A', 'review_count': 492, 'categories': [{'alias': 'thai', 'title': 'Thai'}], 'rating': 4.3, 'coordinates': {'latitude': 41.8958251, 'longitude': -87.6703764}, 'transactions': ['pickup', 'delivery'], 'price': '$$', 'location': {'address1': '1715 W Chicago Ave', 'address2': '', 'address3': '', 'city': 'Chicago', 'zip_code': '60622', 'country': 'US', 'state': 'IL', 'display_address': ['1715 W Chicago Ave', 'Chicago, IL 60622']}, 'phone': '+13129294435', 'display_phone': '(312) 929-4435', 'distance': 1213.2445718085296, 'attributes': {'business_temp_closed': None, 'menu_url': 'https://www.jjthaistreetfood.com/menu', 'open24_hours': None, 'waitlist_reservation': None}}, {'id': 'VH6O_2qSPkTme_s-1Y1nXQ', 'alias': 'trike-noodle-chicago', 'name': 'Trike Noodle', 'image_url': 'https://s3-media1.fl.yelpcdn.com/bphoto/B4gkadXkjXOO0V4sPsFuZQ/o.jpg', 'is_closed': False, 'url': 'https://www.yelp.com/biz/trike-noodle-chicago?adjust_creative=6Rl6qXMI6EN3VkijeNTf0A&utm_campaign=yelp_api_v3&utm_medium=api_v3_business_search&utm_source=6Rl6qXMI6EN3VkijeNTf0A', 'review_count': 168, 'categories': [{'alias': 'thai', 'title': 'Thai'}, {'alias': 'asianfusion', 'title': 'Asian Fusion'}], 'rating': 4.6, 'coordinates': {'latitude': 41.92396, 'longitude': -87.69839}, 'transactions': ['pickup', 'delivery'], 'price': '$$', 'location': {'address1': '2339 N Milwaukee Ave', 'address2': '', 'address3': None, 'city': 'Chicago', 'zip_code': '60647', 'country': 'US', 'state': 'IL', 'display_address': ['2339 N Milwaukee Ave', 'Chicago, IL 60647']}, 'phone': '+17733608288', 'display_phone': '(773) 360-8288', 'distance': 2689.333851165679, 'attributes': {'business_temp_closed': None, 'menu_url': None, 'open24_hours': None, 'waitlist_reservation': None}}, {'id': 'IMZE58oaY-gRlv3qK9BCdw', 'alias': 'tuk-tuk-thai-isan-street-food-chicago', 'name': 'Tuk Tuk Thai Isan Street Food', 'image_url': 'https://s3-media2.fl.yelpcdn.com/bphoto/W8L_dz-hopXc9ZvD4HHL5g/o.jpg', 'is_closed': False, 'url': 'https://www.yelp.com/biz/tuk-tuk-thai-isan-street-food-chicago?adjust_creative=6Rl6qXMI6EN3VkijeNTf0A&utm_campaign=yelp_api_v3&utm_medium=api_v3_business_search&utm_source=6Rl6qXMI6EN3VkijeNTf0A', 'review_count': 178, 'categories': [{'alias': 'thai', 'title': 'Thai'}], 'rating': 4.4, 'coordinates': {'latitude': 41.934138, 'longitude': -87.64626}, 'transactions': ['pickup', 'delivery'], 'price': '$$', 'location': {'address1': '2852 N Clark St', 'address2': None, 'address3': '', 'city': 'Chicago', 'zip_code': '60657', 'country': 'US', 'state': 'IL', 'display_address': ['2852 N Clark St', 'Chicago, IL 60657']}, 'phone': '+17736619739', 'display_phone': '(773) 661-9739', 'distance': 4143.974916968981, 'attributes': {'business_temp_closed': None, 'menu_url': 'https://www.tuktukthai-isan.com/menu', 'open24_hours': None, 'waitlist_reservation': None}}, {'id': 'xJEA6P6VS-Ukl9dmjleDkw', 'alias': 'silli-kori-chicago', 'name': 'Silli Kori', 'image_url': 'https://s3-media4.fl.yelpcdn.com/bphoto/dOZes2V6IT5KWp3otOixwg/o.jpg', 'is_closed': False, 'url': 'https://www.yelp.com/biz/silli-kori-chicago?adjust_creative=6Rl6qXMI6EN3VkijeNTf0A&utm_campaign=yelp_api_v3&utm_medium=api_v3_business_search&utm_source=6Rl6qXMI6EN3VkijeNTf0A', 'review_count': 349, 'categories': [{'alias': 'thai', 'title': 'Thai'}, {'alias': 'asianfusion', 'title': 'Asian Fusion'}], 'rating': 4.4, 'coordinates': {'latitude': 41.90286, 'longitude': -87.67935}, 'transactions': ['pickup', 'delivery'], 'price': '$$', 'location': {'address1': '2053 W Division St', 'address2': '', 'address3': '', 'city': 'Chicago', 'zip_code': '60622', 'country': 'US', 'state': 'IL', 'display_address': ['2053 W Division St', 'Chicago, IL 60622']}, 'phone': '+17733845352', 'display_phone': '(773) 384-5352', 'distance': 292.5828515796275, 'attributes': {'business_temp_closed': None, 'menu_url': 'https://www.sillikori.com/menu.html', 'open24_hours': None, 'waitlist_reservation': None}}], 'total': 151, 'region': {'center': {'longitude': -87.67776489257812, 'latitude': 41.90515925618311}}}\n"
     ]
    }
   ],
   "source": [
    "yelp_filter = {'location': 'Chicago, IL', 'term': 'restaurants', 'categories': 'thai', 'sort_by': 'best_match', 'limit': 5}\n",
    "\n",
    "yelp_advisor_results = yelp_advisor(yelp_api_key, yelp_filter)\n",
    "print(yelp_advisor_results)"
   ]
  },
  {
   "cell_type": "code",
   "execution_count": 5,
   "id": "161e0da3-f376-4c5a-aafb-a643c4614b83",
   "metadata": {
    "tags": []
   },
   "outputs": [
    {
     "name": "stdout",
     "output_type": "stream",
     "text": [
      "{'businesses': [{'id': 'fl3-y_U5oJrGLCCW7FN2ow', 'alias': 'happy-monday-coffee-loop-chicago', 'name': 'Happy Monday Coffee - Loop', 'image_url': 'https://s3-media4.fl.yelpcdn.com/bphoto/pbUYSOwphD5CgB_JK4a4Ew/o.jpg', 'is_closed': False, 'url': 'https://www.yelp.com/biz/happy-monday-coffee-loop-chicago?adjust_creative=6Rl6qXMI6EN3VkijeNTf0A&utm_campaign=yelp_api_v3&utm_medium=api_v3_business_search&utm_source=6Rl6qXMI6EN3VkijeNTf0A', 'review_count': 57, 'categories': [{'alias': 'coffee', 'title': 'Coffee & Tea'}, {'alias': 'coffeeroasteries', 'title': 'Coffee Roasteries'}, {'alias': 'breakfast_brunch', 'title': 'Breakfast & Brunch'}], 'rating': 4.8, 'coordinates': {'latitude': 41.87978, 'longitude': -87.62655}, 'transactions': [], 'price': '$', 'location': {'address1': '30 E Adams St', 'address2': None, 'address3': '', 'city': 'Chicago', 'zip_code': '60603', 'country': 'US', 'state': 'IL', 'display_address': ['30 E Adams St', 'Chicago, IL 60603']}, 'phone': '', 'display_phone': '', 'distance': 921.9858430963941, 'attributes': {'business_temp_closed': None, 'menu_url': 'https://www.happymondayloop.com/uploads/b/d6396820-7b5d-11ea-9dc5-f1f3c999e47b/Happy%20Monday%20Coffee%20-%20Loop.pdf', 'open24_hours': None, 'waitlist_reservation': None}}, {'id': '1v9LafJqZFBWJi8ap8eKow', 'alias': 'lashuk-street-food-chicago', 'name': 'LaShuk Street Food', 'image_url': 'https://s3-media2.fl.yelpcdn.com/bphoto/GvT6rWWLvJQ-Q0Xuc1ZzxQ/o.jpg', 'is_closed': False, 'url': 'https://www.yelp.com/biz/lashuk-street-food-chicago?adjust_creative=6Rl6qXMI6EN3VkijeNTf0A&utm_campaign=yelp_api_v3&utm_medium=api_v3_business_search&utm_source=6Rl6qXMI6EN3VkijeNTf0A', 'review_count': 98, 'categories': [{'alias': 'mideastern', 'title': 'Middle Eastern'}], 'rating': 4.7, 'coordinates': {'latitude': 41.87994047190069, 'longitude': -87.63052055476835}, 'transactions': ['pickup', 'delivery'], 'price': '$$', 'location': {'address1': '125 South Clark St', 'address2': None, 'address3': '', 'city': 'Chicago', 'zip_code': '60603', 'country': 'US', 'state': 'IL', 'display_address': ['125 South Clark St', 'Chicago, IL 60603']}, 'phone': '+12245549791', 'display_phone': '(224) 554-9791', 'distance': 1057.9038260961547, 'attributes': {'business_temp_closed': None, 'menu_url': 'https://www.lashukstreetfood.com/menu-1', 'open24_hours': None, 'waitlist_reservation': None}}, {'id': 'TFqM5xDgJTLd6AQNMxNkwg', 'alias': 'bereket-turkish-mediterranean-restaurant-chicago', 'name': 'Bereket Turkish Mediterranean Restaurant', 'image_url': 'https://s3-media4.fl.yelpcdn.com/bphoto/EEY1FwhhJGsrX_xt008cMg/o.jpg', 'is_closed': False, 'url': 'https://www.yelp.com/biz/bereket-turkish-mediterranean-restaurant-chicago?adjust_creative=6Rl6qXMI6EN3VkijeNTf0A&utm_campaign=yelp_api_v3&utm_medium=api_v3_business_search&utm_source=6Rl6qXMI6EN3VkijeNTf0A', 'review_count': 144, 'categories': [{'alias': 'mediterranean', 'title': 'Mediterranean'}], 'rating': 4.6, 'coordinates': {'latitude': 41.87713, 'longitude': -87.63477}, 'transactions': ['pickup', 'restaurant_reservation', 'delivery'], 'price': '$$', 'location': {'address1': '333 South Franklin', 'address2': None, 'address3': '', 'city': 'Chicago', 'zip_code': '60606', 'country': 'US', 'state': 'IL', 'display_address': ['333 South Franklin', 'Chicago, IL 60606']}, 'phone': '+13125003663', 'display_phone': '(312) 500-3663', 'distance': 1071.0678312147347, 'attributes': {'business_temp_closed': None, 'menu_url': None, 'open24_hours': None, 'waitlist_reservation': True}}, {'id': '3NeJcGGOSGn2xbNzx6SBFA', 'alias': 'relish-chicago-hot-dogs-chicago-2', 'name': 'Relish Chicago Hot Dogs', 'image_url': 'https://s3-media1.fl.yelpcdn.com/bphoto/0cfL0GHCnyiUdPdfYchjVQ/o.jpg', 'is_closed': False, 'url': 'https://www.yelp.com/biz/relish-chicago-hot-dogs-chicago-2?adjust_creative=6Rl6qXMI6EN3VkijeNTf0A&utm_campaign=yelp_api_v3&utm_medium=api_v3_business_search&utm_source=6Rl6qXMI6EN3VkijeNTf0A', 'review_count': 69, 'categories': [{'alias': 'hotdog', 'title': 'Hot Dogs'}, {'alias': 'shavedice', 'title': 'Shaved Ice'}, {'alias': 'vegetarian', 'title': 'Vegetarian'}], 'rating': 4.6, 'coordinates': {'latitude': 41.87807, 'longitude': -87.624}, 'transactions': [], 'price': '$', 'location': {'address1': '315 S Michigan Ave', 'address2': None, 'address3': '', 'city': 'Chicago', 'zip_code': '60603', 'country': 'US', 'state': 'IL', 'display_address': ['315 S Michigan Ave', 'Chicago, IL 60603']}, 'phone': '+13126203299', 'display_phone': '(312) 620-3299', 'distance': 677.8486088174085, 'attributes': {'business_temp_closed': None, 'menu_url': None, 'open24_hours': None, 'waitlist_reservation': None}}, {'id': 'RnR_zPbkVcG9G52hgYov_g', 'alias': 'maharaj-indian-grill-chicago-2', 'name': 'Maharaj Indian Grill', 'image_url': 'https://s3-media4.fl.yelpcdn.com/bphoto/7IU3ceKFKbVTNCsinh1FKA/o.jpg', 'is_closed': False, 'url': 'https://www.yelp.com/biz/maharaj-indian-grill-chicago-2?adjust_creative=6Rl6qXMI6EN3VkijeNTf0A&utm_campaign=yelp_api_v3&utm_medium=api_v3_business_search&utm_source=6Rl6qXMI6EN3VkijeNTf0A', 'review_count': 167, 'categories': [{'alias': 'indpak', 'title': 'Indian'}, {'alias': 'bars', 'title': 'Bars'}], 'rating': 4.5, 'coordinates': {'latitude': 41.87709215177034, 'longitude': -87.62720908557776}, 'transactions': ['pickup', 'delivery'], 'price': '$$', 'location': {'address1': '333 S State St', 'address2': 'Ste C 13', 'address3': '', 'city': 'Chicago', 'zip_code': '60604', 'country': 'US', 'state': 'IL', 'display_address': ['333 S State St', 'Ste C 13', 'Chicago, IL 60604']}, 'phone': '+13128775376', 'display_phone': '(312) 877-5376', 'distance': 652.2316750033907, 'attributes': {'business_temp_closed': None, 'menu_url': None, 'open24_hours': None, 'waitlist_reservation': None}}], 'total': 184, 'region': {'center': {'longitude': -87.62420654296875, 'latitude': 41.87166927538171}}}\n"
     ]
    }
   ],
   "source": [
    "yelp_filter = {'location': 'South Loop, Chicago, IL', 'term': 'restaurants', 'price': [1, 2], 'sort_by': 'rating', 'limit': 5}\n",
    "\n",
    "yelp_advisor_results = yelp_advisor(yelp_api_key, yelp_filter)\n",
    "print(yelp_advisor_results)"
   ]
  },
  {
   "cell_type": "code",
   "execution_count": 6,
   "id": "d258b356-d59f-469f-889d-1d1b0410bdbc",
   "metadata": {
    "tags": []
   },
   "outputs": [
    {
     "name": "stdout",
     "output_type": "stream",
     "text": [
      "{'businesses': [{'id': '3PULPAQ_7OUhdkHlRNEg0A', 'alias': 'gold-coast-market-chicago', 'name': 'Gold Coast Market', 'image_url': 'https://s3-media1.fl.yelpcdn.com/bphoto/vcMo38DC_6TnqkQ7K3kxIA/o.jpg', 'is_closed': False, 'url': 'https://www.yelp.com/biz/gold-coast-market-chicago?adjust_creative=6Rl6qXMI6EN3VkijeNTf0A&utm_campaign=yelp_api_v3&utm_medium=api_v3_business_search&utm_source=6Rl6qXMI6EN3VkijeNTf0A', 'review_count': 20, 'categories': [{'alias': 'tobaccoshops', 'title': 'Tobacco Shops'}, {'alias': 'beer_and_wine', 'title': 'Beer, Wine & Spirits'}, {'alias': 'delis', 'title': 'Delis'}], 'rating': 5.0, 'coordinates': {'latitude': 41.89651, 'longitude': -87.630544}, 'transactions': ['pickup', 'delivery'], 'location': {'address1': '71 W Chicago Ave', 'address2': '', 'address3': None, 'city': 'Chicago', 'zip_code': '60654', 'country': 'US', 'state': 'IL', 'display_address': ['71 W Chicago Ave', 'Chicago, IL 60654']}, 'phone': '+13122650439', 'display_phone': '(312) 265-0439', 'distance': 2381.5964530705323, 'attributes': {'business_temp_closed': None, 'menu_url': None, 'open24_hours': None, 'waitlist_reservation': None}}, {'id': 'o7axg6eu7wE_NJSfiaGqAw', 'alias': 'sushi-by-bou-river-north-chicago-2', 'name': 'Sushi By Bou - River North', 'image_url': 'https://s3-media2.fl.yelpcdn.com/bphoto/pB3P-pJJP9Gm5UIzOwopxw/o.jpg', 'is_closed': False, 'url': 'https://www.yelp.com/biz/sushi-by-bou-river-north-chicago-2?adjust_creative=6Rl6qXMI6EN3VkijeNTf0A&utm_campaign=yelp_api_v3&utm_medium=api_v3_business_search&utm_source=6Rl6qXMI6EN3VkijeNTf0A', 'review_count': 6, 'categories': [{'alias': 'sushi', 'title': 'Sushi Bars'}, {'alias': 'japanese', 'title': 'Japanese'}, {'alias': 'speakeasies', 'title': 'Speakeasies'}], 'rating': 5.0, 'coordinates': {'latitude': 41.895179, 'longitude': -87.6343}, 'transactions': [], 'location': {'address1': '712 N Wells St', 'address2': '', 'address3': None, 'city': 'Chicago', 'zip_code': '60654', 'country': 'US', 'state': 'IL', 'display_address': ['712 N Wells St', 'Chicago, IL 60654']}, 'phone': '+13128181156', 'display_phone': '(312) 818-1156', 'distance': 2039.652337761816, 'attributes': {'business_temp_closed': 1735632000, 'menu_url': None, 'open24_hours': None, 'waitlist_reservation': True}}, {'id': 'Ws3tGglpeZNsA4_26I0_bw', 'alias': 'bulsho-restaurant-chicago', 'name': 'BULSHO restaurant', 'image_url': 'https://s3-media1.fl.yelpcdn.com/bphoto/vqBvD2ibCQaz155dFFqx2g/o.jpg', 'is_closed': False, 'url': 'https://www.yelp.com/biz/bulsho-restaurant-chicago?adjust_creative=6Rl6qXMI6EN3VkijeNTf0A&utm_campaign=yelp_api_v3&utm_medium=api_v3_business_search&utm_source=6Rl6qXMI6EN3VkijeNTf0A', 'review_count': 10, 'categories': [{'alias': 'african', 'title': 'African'}, {'alias': 'somali', 'title': 'Somali'}], 'rating': 5.0, 'coordinates': {'latitude': 41.899569, 'longitude': -87.63488467}, 'transactions': ['pickup', 'delivery'], 'location': {'address1': '211 W Walton St', 'address2': '', 'address3': None, 'city': 'Chicago', 'zip_code': '60610', 'country': 'US', 'state': 'IL', 'display_address': ['211 W Walton St', 'Chicago, IL 60610']}, 'phone': '+17739349529', 'display_phone': '(773) 934-9529', 'distance': 2349.5657789640068, 'attributes': {'business_temp_closed': None, 'menu_url': None, 'open24_hours': None, 'waitlist_reservation': None}}, {'id': 'RrdgbVDnePzP_YwE0xIAcQ', 'alias': 'modern-relish-chicago', 'name': 'Modern Relish', 'image_url': 'https://s3-media1.fl.yelpcdn.com/bphoto/GvFazD-2PoiUF4skNzqLzw/o.jpg', 'is_closed': False, 'url': 'https://www.yelp.com/biz/modern-relish-chicago?adjust_creative=6Rl6qXMI6EN3VkijeNTf0A&utm_campaign=yelp_api_v3&utm_medium=api_v3_business_search&utm_source=6Rl6qXMI6EN3VkijeNTf0A', 'review_count': 6, 'categories': [{'alias': 'hotdog', 'title': 'Hot Dogs'}, {'alias': 'burgers', 'title': 'Burgers'}, {'alias': 'sandwiches', 'title': 'Sandwiches'}], 'rating': 5.0, 'coordinates': {'latitude': 41.8934627, 'longitude': -87.6674949}, 'transactions': ['pickup', 'delivery'], 'location': {'address1': '632-636 N Ashland Ave', 'address2': None, 'address3': '', 'city': 'Chicago', 'zip_code': '60622', 'country': 'US', 'state': 'IL', 'display_address': ['632-636 N Ashland Ave', 'Chicago, IL 60622']}, 'phone': '+13127330069', 'display_phone': '(312) 733-0069', 'distance': 1610.3248228199675, 'attributes': {'business_temp_closed': None, 'menu_url': 'https://www.modernrelish.com/_files/ugd/34e7b7_3fa769ba6a694f05a927e5d7d760ed07.pdf', 'open24_hours': None, 'waitlist_reservation': False}}, {'id': 'H1FcedlGJtsmA8efpypFow', 'alias': 'bob-s-pizza-chicago', 'name': 'Bob’s Pizza', 'image_url': 'https://s3-media3.fl.yelpcdn.com/bphoto/zjPwC9j4Ie6UzBd5hk1pqg/o.jpg', 'is_closed': False, 'url': 'https://www.yelp.com/biz/bob-s-pizza-chicago?adjust_creative=6Rl6qXMI6EN3VkijeNTf0A&utm_campaign=yelp_api_v3&utm_medium=api_v3_business_search&utm_source=6Rl6qXMI6EN3VkijeNTf0A', 'review_count': 8, 'categories': [{'alias': 'pizza', 'title': 'Pizza'}], 'rating': 5.0, 'coordinates': {'latitude': 41.8891862295013, 'longitude': -87.6492763290888}, 'transactions': ['pickup', 'delivery'], 'location': {'address1': '838 W Kinzie St', 'address2': '', 'address3': None, 'city': 'Chicago', 'zip_code': '60642', 'country': 'US', 'state': 'IL', 'display_address': ['838 W Kinzie St', 'Chicago, IL 60642']}, 'phone': '', 'display_phone': '', 'distance': 719.095118035954, 'attributes': {'business_temp_closed': None, 'menu_url': None, 'open24_hours': None, 'waitlist_reservation': None}}], 'total': 1400, 'region': {'center': {'longitude': -87.65338897705078, 'latitude': 41.883489949617456}}}\n"
     ]
    }
   ],
   "source": [
    "yelp_filter = {'location': 'West Loop, Chicago, IL', 'term': 'restaurants', 'sort_by': 'rating', 'limit': 5}\n",
    "\n",
    "yelp_advisor_results = yelp_advisor(yelp_api_key, yelp_filter)\n",
    "print(yelp_advisor_results)"
   ]
  },
  {
   "cell_type": "code",
   "execution_count": null,
   "id": "5bb42dc4-7eb7-4242-8bdc-01092644d634",
   "metadata": {},
   "outputs": [],
   "source": []
  },
  {
   "cell_type": "code",
   "execution_count": null,
   "id": "36c690b1-2653-4179-9817-ffa8c150ca0f",
   "metadata": {},
   "outputs": [],
   "source": []
  }
 ],
 "metadata": {
  "environment": {
   "kernel": "python3",
   "name": "tf2-cpu.2-11.m121",
   "type": "gcloud",
   "uri": "us-docker.pkg.dev/deeplearning-platform-release/gcr.io/tf2-cpu.2-11:m121"
  },
  "kernelspec": {
   "display_name": "Python 3 (Local)",
   "language": "python",
   "name": "python3"
  },
  "language_info": {
   "codemirror_mode": {
    "name": "ipython",
    "version": 3
   },
   "file_extension": ".py",
   "mimetype": "text/x-python",
   "name": "python",
   "nbconvert_exporter": "python",
   "pygments_lexer": "ipython3",
   "version": "3.10.14"
  }
 },
 "nbformat": 4,
 "nbformat_minor": 5
}
