{
 "cells": [
  {
   "cell_type": "markdown",
   "id": "cc4a405c-52fc-402c-8c22-a440774d2ea6",
   "metadata": {
    "tags": []
   },
   "source": [
    "# Retrieving n top-rated restaurants NEARBY SPECIFIC PROPERTIES\n",
    "## Function: fetch_top_businesses_near_properties"
   ]
  },
  {
   "cell_type": "code",
   "execution_count": 26,
   "id": "bd741909-7805-4120-b251-d410a7f598e3",
   "metadata": {
    "tags": []
   },
   "outputs": [],
   "source": [
    "import http.client\n",
    "import json\n",
    "import urllib.parse\n",
    "import os"
   ]
  },
  {
   "cell_type": "markdown",
   "id": "e5a84aa1-899f-4bc0-9599-11362b7a63db",
   "metadata": {
    "tags": []
   },
   "source": [
    "## Model Setting - Gemini pro 1.0"
   ]
  },
  {
   "cell_type": "code",
   "execution_count": 27,
   "id": "58e4d0bc-6661-4275-ae0c-c2c0f4e1ad34",
   "metadata": {},
   "outputs": [],
   "source": [
    "# %pip list | grep google-cloud-aiplatform\n",
    "# %pip list | grep google-api-core"
   ]
  },
  {
   "cell_type": "code",
   "execution_count": 28,
   "id": "2bb674da-e383-4d10-9f47-85e375f6026b",
   "metadata": {},
   "outputs": [],
   "source": [
    "# %pip install google-cloud-aiplatform==1.43.0\n",
    "# %pip install google-api-core==2.17.1"
   ]
  },
  {
   "cell_type": "code",
   "execution_count": 29,
   "id": "a43ee5be-8850-4ebf-ac55-b0497085f69f",
   "metadata": {
    "tags": []
   },
   "outputs": [],
   "source": [
    "import vertexai\n",
    "from vertexai.preview.generative_models import GenerativeModel, ChatSession, Part\n",
    "import vertexai.preview.generative_models as generative_models"
   ]
  },
  {
   "cell_type": "code",
   "execution_count": 30,
   "id": "fac4e8eb-3908-4f0b-8146-31591df6ea45",
   "metadata": {
    "tags": []
   },
   "outputs": [],
   "source": [
    "vertexai.init(project=\"adsp-capstone-property-pilot\", location=\"us-central1\")"
   ]
  },
  {
   "cell_type": "code",
   "execution_count": 31,
   "id": "1974bdcc-f54a-485f-b683-40d4ea11830e",
   "metadata": {
    "tags": []
   },
   "outputs": [],
   "source": [
    "model = GenerativeModel(\"gemini-1.0-pro\")\n",
    "chat = model.start_chat()\n",
    "\n",
    "def get_chat_response(chat: ChatSession, prompt: str) -> str:\n",
    "    text_response = []\n",
    "    responses = chat.send_message(prompt, stream=True)\n",
    "    for chunk in responses:\n",
    "        text_response.append(chunk.text)\n",
    "    return \"\".join(text_response)"
   ]
  },
  {
   "cell_type": "markdown",
   "id": "29008c21-7133-4291-9e3a-5681a3770e70",
   "metadata": {},
   "source": [
    "## Define generate_prompt_rest_category and get_top_rated_businesses function"
   ]
  },
  {
   "cell_type": "markdown",
   "id": "540ca65c-eb50-41c6-8976-d44ba73a62cd",
   "metadata": {},
   "source": [
    "## generate_prompt_rest_category"
   ]
  },
  {
   "cell_type": "code",
   "execution_count": 32,
   "id": "6b673871-8b30-4089-a80c-9abf757f9707",
   "metadata": {
    "tags": []
   },
   "outputs": [],
   "source": [
    "os.chdir('/home/jupyter/property_pilot/prompts')\n",
    "# yelp_categories\n",
    "file_path = 'yelp_categories.txt'\n",
    "try:\n",
    "    with open(file_path, 'r') as file:\n",
    "        yelp_categories = file.read().splitlines()\n",
    "except FileNotFoundError:\n",
    "    print(\"The file does not exist\")\n",
    "except Exception as e:\n",
    "    print(f\"An error occurred: {e}\")"
   ]
  },
  {
   "cell_type": "code",
   "execution_count": 33,
   "id": "4c4f4cbe-edbc-487f-ac4e-2c287d1b8567",
   "metadata": {
    "tags": []
   },
   "outputs": [],
   "source": [
    "def generate_prompt_rest_category(user_query, categories):       \n",
    "        \n",
    "    # Format the list into a single string separated by commas for the model\n",
    "    categories_string = ','.join(categories)\n",
    "    \n",
    "    instruction = f\"\"\"\n",
    "    ### Instructions ###\n",
    "    Identify the category of restaurant the user is interested in based on their query. \n",
    "    If the query doesn't specify a category, return \"restaurants\".\n",
    "    Your output should be a lowercase string. \n",
    "    If there are multiple categories, separate them with a comma.\n",
    "    There should be NO WHITE SPACES OR NEW LINE CHARACTERS.\n",
    "    \n",
    "    ### Possible Categories ###\n",
    "    {categories_string}\n",
    "\n",
    "    ### User’s query ###\n",
    "    {user_query}\n",
    "\n",
    "    ### Output ###\n",
    "    \"\"\"\n",
    "    return instruction"
   ]
  },
  {
   "cell_type": "markdown",
   "id": "d9d9d93e-5d57-43fe-9986-1d1df4959eb8",
   "metadata": {},
   "source": [
    "## get_top_rated_businesses"
   ]
  },
  {
   "cell_type": "code",
   "execution_count": 34,
   "id": "0036a6c4-9b8c-41c9-b452-c26fa5e2fe0b",
   "metadata": {
    "tags": []
   },
   "outputs": [],
   "source": [
    "def get_top_rated_businesses(api_key, location, category, top_n=2):\n",
    "    \"\"\"Fetches top-rated businesses near a given location from Yelp.\"\"\"\n",
    "    conn = http.client.HTTPSConnection(\"api.yelp.com\")\n",
    "    \n",
    "    headers = {\n",
    "        'Authorization': f'Bearer {api_key}'\n",
    "    }\n",
    "    \n",
    "    params = {\n",
    "        'location': location,\n",
    "        'term': 'restaurants',\n",
    "        'radius': 2000,\n",
    "        'categories': category,\n",
    "        'sort_by': 'rating',\n",
    "        'limit': top_n\n",
    "    }\n",
    "    \n",
    "    # Encode parameters into URL query string\n",
    "    query_string = urllib.parse.urlencode(params)\n",
    "    url = f\"/v3/businesses/search?{query_string}\"\n",
    "    \n",
    "    conn.request(\"GET\", url, headers=headers)\n",
    "    \n",
    "    response = conn.getresponse()\n",
    "    data = response.read()\n",
    "    conn.close()\n",
    "    \n",
    "    if response.status == 200:\n",
    "        return json.loads(data)\n",
    "    else:\n",
    "        print(f\"Failed to fetch data: {response.status} - {data.decode('utf-8')}\")\n",
    "        return None  # Handle the failure as appropriate in your application"
   ]
  },
  {
   "cell_type": "markdown",
   "id": "8cd30f15-accb-4529-86b2-dc9f293280bf",
   "metadata": {},
   "source": [
    "## fetch_top_businesses_near_properties"
   ]
  },
  {
   "cell_type": "code",
   "execution_count": 35,
   "id": "2a15046c-f981-472a-8492-f629a7d3afe1",
   "metadata": {
    "tags": []
   },
   "outputs": [],
   "source": [
    "def fetch_top_businesses_near_properties(api_key, properties, user_query, categories, chat):\n",
    "    \"\"\"\n",
    "    Fetches top-rated businesses of a specified category near each property in a given list,\n",
    "    using a category inferred from a user query processed by Gemini LLM.\n",
    "    \"\"\"\n",
    "    prompt = generate_prompt_rest_category(user_query, categories)\n",
    "    category = get_chat_response(chat, prompt)  # Get the category from the LLM\n",
    "    category = category.strip().replace('\"', '')  # Strip any quotation marks or white space from the category\n",
    "    if not category or category.lower() == \"restaurants\":\n",
    "        category = \"restaurants\"  # default to 'restaurants' if no specific category identified\n",
    "\n",
    "    top_restaurants_yelp = []\n",
    "    for property in properties:\n",
    "        location = f\"{property['latitude']}, {property['longitude']}\"\n",
    "        top_businesses = get_top_rated_businesses(api_key, location, category)\n",
    "        top_restaurants_yelp.append({\n",
    "            'address': property['address'],\n",
    "            'top_businesses': top_businesses\n",
    "        })\n",
    "    \n",
    "    return top_restaurants_yelp"
   ]
  },
  {
   "cell_type": "markdown",
   "id": "8267cb75-2d1a-4701-bbfa-3eabb9724671",
   "metadata": {},
   "source": [
    "## Example Inputs"
   ]
  },
  {
   "cell_type": "code",
   "execution_count": 39,
   "id": "7b134167-7f14-4958-8a75-35a862458ee2",
   "metadata": {
    "tags": []
   },
   "outputs": [],
   "source": [
    "# yelp api_key\n",
    "yelp_api_key = ''\n",
    "\n",
    "# user query\n",
    "user_query = \"I am looking for an apartment in the Hyde Park neighborhood of Chicago. I want two bedrooms and at least one bathroom. Rent should be less than $1500 per month. What are the best bars nearby?\"\n",
    "\n",
    "# Example top properties\n",
    "top_properties = [{'propertyType': 'APARTMENT',\n",
    "  'address': '2253 W Iowa St #3F, Chicago, IL 60622',\n",
    "  'price': 2695,\n",
    "  'bedrooms': 3,\n",
    "  'bathrooms': 1,\n",
    "  'detailUrl': 'https://www.zillow.com/homedetails/2253-W-Iowa-St-3F-Chicago-IL-60622/2069892388_zpid/',\n",
    "  'imgSrc': 'https://photos.zillowstatic.com/fp/24cfac4e50b54ac036925874a4d4b395-p_e.jpg',\n",
    "  'longitude': -87.68405,\n",
    "  'latitude': 41.897385},\n",
    " {'propertyType': None,\n",
    "  'address': '1210 S Indiana Ave, Chicago, IL',\n",
    "  'price': None,\n",
    "  'bedrooms': None,\n",
    "  'bathrooms': None,\n",
    "  'detailUrl': 'https://www.zillow.com/apartments/chicago-il/nema-chicago/9RwqTm/',\n",
    "  'imgSrc': 'https://photos.zillowstatic.com/fp/35f6b1437825b0cf43201316158e8000-p_e.jpg',\n",
    "  'longitude': -87.62358,\n",
    "  'latitude': 41.86681},\n",
    " {'propertyType': 'APARTMENT',\n",
    "  'address': '2065 N. Hoyne Ave., 2065 N Hoyne Ave #3R, Chicago, IL 60647',\n",
    "  'price': 2295,\n",
    "  'bedrooms': 3,\n",
    "  'bathrooms': 2,\n",
    "  'detailUrl': 'https://www.zillow.com/apartments/chicago-il/2065-n.-hoyne-ave./5XgKsR/',\n",
    "  'imgSrc': 'https://photos.zillowstatic.com/fp/8094800d8257833f346cfb9030093cee-p_e.jpg',\n",
    "  'longitude': -87.67988,\n",
    "  'latitude': 41.91961}]"
   ]
  },
  {
   "cell_type": "markdown",
   "id": "daa3727c-1496-435c-9f32-55b5238272b9",
   "metadata": {},
   "source": [
    "## Example"
   ]
  },
  {
   "cell_type": "code",
   "execution_count": 37,
   "id": "ef9134b7-b7a3-4cb4-ae4d-52787c031d49",
   "metadata": {
    "tags": []
   },
   "outputs": [
    {
     "name": "stdout",
     "output_type": "stream",
     "text": [
      "{'address': '2253 W Iowa St #3F, Chicago, IL 60622', 'top_businesses': {'businesses': [{'id': '0ucCbCekcn5XdzvRXnHl2w', 'alias': 'desert-hawk-chicago', 'name': 'Desert Hawk', 'image_url': 'https://s3-media1.fl.yelpcdn.com/bphoto/Wvt0tJNb-HbxRnBQ7iUUPQ/o.jpg', 'is_closed': False, 'url': 'https://www.yelp.com/biz/desert-hawk-chicago?adjust_creative=6Rl6qXMI6EN3VkijeNTf0A&utm_campaign=yelp_api_v3&utm_medium=api_v3_business_search&utm_source=6Rl6qXMI6EN3VkijeNTf0A', 'review_count': 23, 'categories': [{'alias': 'tradamerican', 'title': 'American'}, {'alias': 'bars', 'title': 'Bars'}], 'rating': 4.8, 'coordinates': {'latitude': 41.90288666670101, 'longitude': -87.67917606979607}, 'transactions': [], 'location': {'address1': '2049 W Division St', 'address2': '', 'address3': None, 'city': 'Chicago', 'zip_code': '60622', 'country': 'US', 'state': 'IL', 'display_address': ['2049 W Division St', 'Chicago, IL 60622']}, 'phone': '', 'display_phone': '', 'distance': 724.8516782251801, 'attributes': {'business_temp_closed': None, 'menu_url': None, 'open24_hours': None, 'waitlist_reservation': None}}, {'id': 'faOpq9ORL0FlsMrou2NYug', 'alias': 'amaru-chicago', 'name': 'Amaru', 'image_url': 'https://s3-media1.fl.yelpcdn.com/bphoto/NxJ1RJiqiUtFlU4adIKyVQ/o.jpg', 'is_closed': False, 'url': 'https://www.yelp.com/biz/amaru-chicago?adjust_creative=6Rl6qXMI6EN3VkijeNTf0A&utm_campaign=yelp_api_v3&utm_medium=api_v3_business_search&utm_source=6Rl6qXMI6EN3VkijeNTf0A', 'review_count': 415, 'categories': [{'alias': 'latin', 'title': 'Latin American'}, {'alias': 'caribbean', 'title': 'Caribbean'}, {'alias': 'cocktailbars', 'title': 'Cocktail Bars'}], 'rating': 4.7, 'coordinates': {'latitude': 41.910699, 'longitude': -87.675507}, 'transactions': [], 'price': '$$$', 'location': {'address1': '1904 W North Ave', 'address2': None, 'address3': '', 'city': 'Chicago', 'zip_code': '60622', 'country': 'US', 'state': 'IL', 'display_address': ['1904 W North Ave', 'Chicago, IL 60622']}, 'phone': '+17736879790', 'display_phone': '(773) 687-9790', 'distance': 1638.2138654797925, 'attributes': {'business_temp_closed': None, 'menu_url': 'https://amaruchicago.com/food-menu.html', 'open24_hours': None, 'waitlist_reservation': None}}], 'total': 67, 'region': {'center': {'longitude': -87.68394470214844, 'latitude': 41.89741891078323}}}}\n",
      "{'address': '1210 S Indiana Ave, Chicago, IL', 'top_businesses': {'businesses': [{'id': 'PdbRfCs6fHZacu6L_5oHnA', 'alias': 'bistro-monadnock-chicago', 'name': 'Bistro Monadnock', 'image_url': 'https://s3-media3.fl.yelpcdn.com/bphoto/bjJCGDAX7nYFtPnQiClPcA/o.jpg', 'is_closed': False, 'url': 'https://www.yelp.com/biz/bistro-monadnock-chicago?adjust_creative=6Rl6qXMI6EN3VkijeNTf0A&utm_campaign=yelp_api_v3&utm_medium=api_v3_business_search&utm_source=6Rl6qXMI6EN3VkijeNTf0A', 'review_count': 79, 'categories': [{'alias': 'french', 'title': 'French'}, {'alias': 'cocktailbars', 'title': 'Cocktail Bars'}], 'rating': 4.8, 'coordinates': {'latitude': 41.877754, 'longitude': -87.629628}, 'transactions': [], 'location': {'address1': '325 S Federal St', 'address2': None, 'address3': '', 'city': 'Chicago', 'zip_code': '60604', 'country': 'US', 'state': 'IL', 'display_address': ['325 S Federal St', 'Chicago, IL 60604']}, 'phone': '+13129457040', 'display_phone': '(312) 945-7040', 'distance': 1262.3796915690807, 'attributes': {'business_temp_closed': None, 'menu_url': None, 'open24_hours': None, 'waitlist_reservation': None}}, {'id': '0el56DjEFkOFnIqWX4NOcQ', 'alias': 'panchos-rooftop-cantina-chicago', 'name': \"Pancho's Rooftop Cantina\", 'image_url': 'https://s3-media1.fl.yelpcdn.com/bphoto/dLQCO8eXtBsBogHc9luncw/o.jpg', 'is_closed': False, 'url': 'https://www.yelp.com/biz/panchos-rooftop-cantina-chicago?adjust_creative=6Rl6qXMI6EN3VkijeNTf0A&utm_campaign=yelp_api_v3&utm_medium=api_v3_business_search&utm_source=6Rl6qXMI6EN3VkijeNTf0A', 'review_count': 6, 'categories': [{'alias': 'mexican', 'title': 'Mexican'}, {'alias': 'cocktailbars', 'title': 'Cocktail Bars'}, {'alias': 'tradamerican', 'title': 'American'}], 'rating': 4.7, 'coordinates': {'latitude': 41.87748932283888, 'longitude': -87.62856087686731}, 'transactions': [], 'location': {'address1': '327 S Plymouth Ct', 'address2': None, 'address3': '', 'city': 'Chicago', 'zip_code': '60604', 'country': 'US', 'state': 'IL', 'display_address': ['327 S Plymouth Ct', 'Chicago, IL 60604']}, 'phone': '+13123621212', 'display_phone': '(312) 362-1212', 'distance': 1233.9401771678035, 'attributes': {'business_temp_closed': None, 'menu_url': 'https://panchos.webflow.io/static-pages/food-menu', 'open24_hours': None, 'waitlist_reservation': None}}], 'total': 99, 'region': {'center': {'longitude': -87.62369155883789, 'latitude': 41.86700129154579}}}}\n",
      "{'address': '2065 N. Hoyne Ave., 2065 N Hoyne Ave #3R, Chicago, IL 60647', 'top_businesses': {'businesses': [{'id': '0ucCbCekcn5XdzvRXnHl2w', 'alias': 'desert-hawk-chicago', 'name': 'Desert Hawk', 'image_url': 'https://s3-media1.fl.yelpcdn.com/bphoto/Wvt0tJNb-HbxRnBQ7iUUPQ/o.jpg', 'is_closed': False, 'url': 'https://www.yelp.com/biz/desert-hawk-chicago?adjust_creative=6Rl6qXMI6EN3VkijeNTf0A&utm_campaign=yelp_api_v3&utm_medium=api_v3_business_search&utm_source=6Rl6qXMI6EN3VkijeNTf0A', 'review_count': 23, 'categories': [{'alias': 'tradamerican', 'title': 'American'}, {'alias': 'bars', 'title': 'Bars'}], 'rating': 4.8, 'coordinates': {'latitude': 41.90288666670101, 'longitude': -87.67917606979607}, 'transactions': [], 'location': {'address1': '2049 W Division St', 'address2': '', 'address3': None, 'city': 'Chicago', 'zip_code': '60622', 'country': 'US', 'state': 'IL', 'display_address': ['2049 W Division St', 'Chicago, IL 60622']}, 'phone': '', 'display_phone': '', 'distance': 1864.528247150318, 'attributes': {'business_temp_closed': None, 'menu_url': None, 'open24_hours': None, 'waitlist_reservation': None}}, {'id': 'CsOBdkThymA-WUlwf_xa_Q', 'alias': 'tama-chicago-2', 'name': 'Tama', 'image_url': 'https://s3-media1.fl.yelpcdn.com/bphoto/zPNeCsHHCFZv6F_8pGKZ6g/o.jpg', 'is_closed': False, 'url': 'https://www.yelp.com/biz/tama-chicago-2?adjust_creative=6Rl6qXMI6EN3VkijeNTf0A&utm_campaign=yelp_api_v3&utm_medium=api_v3_business_search&utm_source=6Rl6qXMI6EN3VkijeNTf0A', 'review_count': 9, 'categories': [{'alias': 'greek', 'title': 'Greek'}, {'alias': 'bars', 'title': 'Bars'}], 'rating': 4.8, 'coordinates': {'latitude': 41.91745673780549, 'longitude': -87.67789549999999}, 'transactions': [], 'location': {'address1': '1952 N Damen Ave', 'address2': '', 'address3': None, 'city': 'Chicago', 'zip_code': '60647', 'country': 'US', 'state': 'IL', 'display_address': ['1952 N Damen Ave', 'Chicago, IL 60647']}, 'phone': '+13129550212', 'display_phone': '(312) 955-0212', 'distance': 291.2769993611359, 'attributes': {'business_temp_closed': None, 'menu_url': None, 'open24_hours': None, 'waitlist_reservation': None}}], 'total': 79, 'region': {'center': {'longitude': -87.67982482910156, 'latitude': 41.919647838846274}}}}\n"
     ]
    }
   ],
   "source": [
    "yelp_results = fetch_top_businesses_near_properties(yelp_api_key, top_properties, user_query, yelp_categories, chat)\n",
    "\n",
    "for result in yelp_results:\n",
    "    print(result)"
   ]
  },
  {
   "cell_type": "code",
   "execution_count": 38,
   "id": "e4280e9a-d66a-4d0a-8f10-b719fd420628",
   "metadata": {},
   "outputs": [
    {
     "data": {
      "text/plain": [
       "[{'address': '2253 W Iowa St #3F, Chicago, IL 60622',\n",
       "  'top_businesses': {'businesses': [{'id': '0ucCbCekcn5XdzvRXnHl2w',\n",
       "     'alias': 'desert-hawk-chicago',\n",
       "     'name': 'Desert Hawk',\n",
       "     'image_url': 'https://s3-media1.fl.yelpcdn.com/bphoto/Wvt0tJNb-HbxRnBQ7iUUPQ/o.jpg',\n",
       "     'is_closed': False,\n",
       "     'url': 'https://www.yelp.com/biz/desert-hawk-chicago?adjust_creative=6Rl6qXMI6EN3VkijeNTf0A&utm_campaign=yelp_api_v3&utm_medium=api_v3_business_search&utm_source=6Rl6qXMI6EN3VkijeNTf0A',\n",
       "     'review_count': 23,\n",
       "     'categories': [{'alias': 'tradamerican', 'title': 'American'},\n",
       "      {'alias': 'bars', 'title': 'Bars'}],\n",
       "     'rating': 4.8,\n",
       "     'coordinates': {'latitude': 41.90288666670101,\n",
       "      'longitude': -87.67917606979607},\n",
       "     'transactions': [],\n",
       "     'location': {'address1': '2049 W Division St',\n",
       "      'address2': '',\n",
       "      'address3': None,\n",
       "      'city': 'Chicago',\n",
       "      'zip_code': '60622',\n",
       "      'country': 'US',\n",
       "      'state': 'IL',\n",
       "      'display_address': ['2049 W Division St', 'Chicago, IL 60622']},\n",
       "     'phone': '',\n",
       "     'display_phone': '',\n",
       "     'distance': 724.8516782251801,\n",
       "     'attributes': {'business_temp_closed': None,\n",
       "      'menu_url': None,\n",
       "      'open24_hours': None,\n",
       "      'waitlist_reservation': None}},\n",
       "    {'id': 'faOpq9ORL0FlsMrou2NYug',\n",
       "     'alias': 'amaru-chicago',\n",
       "     'name': 'Amaru',\n",
       "     'image_url': 'https://s3-media1.fl.yelpcdn.com/bphoto/NxJ1RJiqiUtFlU4adIKyVQ/o.jpg',\n",
       "     'is_closed': False,\n",
       "     'url': 'https://www.yelp.com/biz/amaru-chicago?adjust_creative=6Rl6qXMI6EN3VkijeNTf0A&utm_campaign=yelp_api_v3&utm_medium=api_v3_business_search&utm_source=6Rl6qXMI6EN3VkijeNTf0A',\n",
       "     'review_count': 415,\n",
       "     'categories': [{'alias': 'latin', 'title': 'Latin American'},\n",
       "      {'alias': 'caribbean', 'title': 'Caribbean'},\n",
       "      {'alias': 'cocktailbars', 'title': 'Cocktail Bars'}],\n",
       "     'rating': 4.7,\n",
       "     'coordinates': {'latitude': 41.910699, 'longitude': -87.675507},\n",
       "     'transactions': [],\n",
       "     'price': '$$$',\n",
       "     'location': {'address1': '1904 W North Ave',\n",
       "      'address2': None,\n",
       "      'address3': '',\n",
       "      'city': 'Chicago',\n",
       "      'zip_code': '60622',\n",
       "      'country': 'US',\n",
       "      'state': 'IL',\n",
       "      'display_address': ['1904 W North Ave', 'Chicago, IL 60622']},\n",
       "     'phone': '+17736879790',\n",
       "     'display_phone': '(773) 687-9790',\n",
       "     'distance': 1638.2138654797925,\n",
       "     'attributes': {'business_temp_closed': None,\n",
       "      'menu_url': 'https://amaruchicago.com/food-menu.html',\n",
       "      'open24_hours': None,\n",
       "      'waitlist_reservation': None}}],\n",
       "   'total': 67,\n",
       "   'region': {'center': {'longitude': -87.68394470214844,\n",
       "     'latitude': 41.89741891078323}}}},\n",
       " {'address': '1210 S Indiana Ave, Chicago, IL',\n",
       "  'top_businesses': {'businesses': [{'id': 'PdbRfCs6fHZacu6L_5oHnA',\n",
       "     'alias': 'bistro-monadnock-chicago',\n",
       "     'name': 'Bistro Monadnock',\n",
       "     'image_url': 'https://s3-media3.fl.yelpcdn.com/bphoto/bjJCGDAX7nYFtPnQiClPcA/o.jpg',\n",
       "     'is_closed': False,\n",
       "     'url': 'https://www.yelp.com/biz/bistro-monadnock-chicago?adjust_creative=6Rl6qXMI6EN3VkijeNTf0A&utm_campaign=yelp_api_v3&utm_medium=api_v3_business_search&utm_source=6Rl6qXMI6EN3VkijeNTf0A',\n",
       "     'review_count': 79,\n",
       "     'categories': [{'alias': 'french', 'title': 'French'},\n",
       "      {'alias': 'cocktailbars', 'title': 'Cocktail Bars'}],\n",
       "     'rating': 4.8,\n",
       "     'coordinates': {'latitude': 41.877754, 'longitude': -87.629628},\n",
       "     'transactions': [],\n",
       "     'location': {'address1': '325 S Federal St',\n",
       "      'address2': None,\n",
       "      'address3': '',\n",
       "      'city': 'Chicago',\n",
       "      'zip_code': '60604',\n",
       "      'country': 'US',\n",
       "      'state': 'IL',\n",
       "      'display_address': ['325 S Federal St', 'Chicago, IL 60604']},\n",
       "     'phone': '+13129457040',\n",
       "     'display_phone': '(312) 945-7040',\n",
       "     'distance': 1262.3796915690807,\n",
       "     'attributes': {'business_temp_closed': None,\n",
       "      'menu_url': None,\n",
       "      'open24_hours': None,\n",
       "      'waitlist_reservation': None}},\n",
       "    {'id': '0el56DjEFkOFnIqWX4NOcQ',\n",
       "     'alias': 'panchos-rooftop-cantina-chicago',\n",
       "     'name': \"Pancho's Rooftop Cantina\",\n",
       "     'image_url': 'https://s3-media1.fl.yelpcdn.com/bphoto/dLQCO8eXtBsBogHc9luncw/o.jpg',\n",
       "     'is_closed': False,\n",
       "     'url': 'https://www.yelp.com/biz/panchos-rooftop-cantina-chicago?adjust_creative=6Rl6qXMI6EN3VkijeNTf0A&utm_campaign=yelp_api_v3&utm_medium=api_v3_business_search&utm_source=6Rl6qXMI6EN3VkijeNTf0A',\n",
       "     'review_count': 6,\n",
       "     'categories': [{'alias': 'mexican', 'title': 'Mexican'},\n",
       "      {'alias': 'cocktailbars', 'title': 'Cocktail Bars'},\n",
       "      {'alias': 'tradamerican', 'title': 'American'}],\n",
       "     'rating': 4.7,\n",
       "     'coordinates': {'latitude': 41.87748932283888,\n",
       "      'longitude': -87.62856087686731},\n",
       "     'transactions': [],\n",
       "     'location': {'address1': '327 S Plymouth Ct',\n",
       "      'address2': None,\n",
       "      'address3': '',\n",
       "      'city': 'Chicago',\n",
       "      'zip_code': '60604',\n",
       "      'country': 'US',\n",
       "      'state': 'IL',\n",
       "      'display_address': ['327 S Plymouth Ct', 'Chicago, IL 60604']},\n",
       "     'phone': '+13123621212',\n",
       "     'display_phone': '(312) 362-1212',\n",
       "     'distance': 1233.9401771678035,\n",
       "     'attributes': {'business_temp_closed': None,\n",
       "      'menu_url': 'https://panchos.webflow.io/static-pages/food-menu',\n",
       "      'open24_hours': None,\n",
       "      'waitlist_reservation': None}}],\n",
       "   'total': 99,\n",
       "   'region': {'center': {'longitude': -87.62369155883789,\n",
       "     'latitude': 41.86700129154579}}}},\n",
       " {'address': '2065 N. Hoyne Ave., 2065 N Hoyne Ave #3R, Chicago, IL 60647',\n",
       "  'top_businesses': {'businesses': [{'id': '0ucCbCekcn5XdzvRXnHl2w',\n",
       "     'alias': 'desert-hawk-chicago',\n",
       "     'name': 'Desert Hawk',\n",
       "     'image_url': 'https://s3-media1.fl.yelpcdn.com/bphoto/Wvt0tJNb-HbxRnBQ7iUUPQ/o.jpg',\n",
       "     'is_closed': False,\n",
       "     'url': 'https://www.yelp.com/biz/desert-hawk-chicago?adjust_creative=6Rl6qXMI6EN3VkijeNTf0A&utm_campaign=yelp_api_v3&utm_medium=api_v3_business_search&utm_source=6Rl6qXMI6EN3VkijeNTf0A',\n",
       "     'review_count': 23,\n",
       "     'categories': [{'alias': 'tradamerican', 'title': 'American'},\n",
       "      {'alias': 'bars', 'title': 'Bars'}],\n",
       "     'rating': 4.8,\n",
       "     'coordinates': {'latitude': 41.90288666670101,\n",
       "      'longitude': -87.67917606979607},\n",
       "     'transactions': [],\n",
       "     'location': {'address1': '2049 W Division St',\n",
       "      'address2': '',\n",
       "      'address3': None,\n",
       "      'city': 'Chicago',\n",
       "      'zip_code': '60622',\n",
       "      'country': 'US',\n",
       "      'state': 'IL',\n",
       "      'display_address': ['2049 W Division St', 'Chicago, IL 60622']},\n",
       "     'phone': '',\n",
       "     'display_phone': '',\n",
       "     'distance': 1864.528247150318,\n",
       "     'attributes': {'business_temp_closed': None,\n",
       "      'menu_url': None,\n",
       "      'open24_hours': None,\n",
       "      'waitlist_reservation': None}},\n",
       "    {'id': 'CsOBdkThymA-WUlwf_xa_Q',\n",
       "     'alias': 'tama-chicago-2',\n",
       "     'name': 'Tama',\n",
       "     'image_url': 'https://s3-media1.fl.yelpcdn.com/bphoto/zPNeCsHHCFZv6F_8pGKZ6g/o.jpg',\n",
       "     'is_closed': False,\n",
       "     'url': 'https://www.yelp.com/biz/tama-chicago-2?adjust_creative=6Rl6qXMI6EN3VkijeNTf0A&utm_campaign=yelp_api_v3&utm_medium=api_v3_business_search&utm_source=6Rl6qXMI6EN3VkijeNTf0A',\n",
       "     'review_count': 9,\n",
       "     'categories': [{'alias': 'greek', 'title': 'Greek'},\n",
       "      {'alias': 'bars', 'title': 'Bars'}],\n",
       "     'rating': 4.8,\n",
       "     'coordinates': {'latitude': 41.91745673780549,\n",
       "      'longitude': -87.67789549999999},\n",
       "     'transactions': [],\n",
       "     'location': {'address1': '1952 N Damen Ave',\n",
       "      'address2': '',\n",
       "      'address3': None,\n",
       "      'city': 'Chicago',\n",
       "      'zip_code': '60647',\n",
       "      'country': 'US',\n",
       "      'state': 'IL',\n",
       "      'display_address': ['1952 N Damen Ave', 'Chicago, IL 60647']},\n",
       "     'phone': '+13129550212',\n",
       "     'display_phone': '(312) 955-0212',\n",
       "     'distance': 291.2769993611359,\n",
       "     'attributes': {'business_temp_closed': None,\n",
       "      'menu_url': None,\n",
       "      'open24_hours': None,\n",
       "      'waitlist_reservation': None}}],\n",
       "   'total': 79,\n",
       "   'region': {'center': {'longitude': -87.67982482910156,\n",
       "     'latitude': 41.919647838846274}}}}]"
      ]
     },
     "execution_count": 38,
     "metadata": {},
     "output_type": "execute_result"
    }
   ],
   "source": [
    "yelp_results"
   ]
  },
  {
   "cell_type": "code",
   "execution_count": null,
   "id": "739aca05-a4c0-45f0-af21-f0715897ec4d",
   "metadata": {},
   "outputs": [],
   "source": []
  }
 ],
 "metadata": {
  "environment": {
   "kernel": "python3",
   "name": "tf2-cpu.2-11.m119",
   "type": "gcloud",
   "uri": "us-docker.pkg.dev/deeplearning-platform-release/gcr.io/tf2-cpu.2-11:m119"
  },
  "kernelspec": {
   "display_name": "Python 3",
   "language": "python",
   "name": "python3"
  },
  "language_info": {
   "codemirror_mode": {
    "name": "ipython",
    "version": 3
   },
   "file_extension": ".py",
   "mimetype": "text/x-python",
   "name": "python",
   "nbconvert_exporter": "python",
   "pygments_lexer": "ipython3",
   "version": "3.10.14"
  }
 },
 "nbformat": 4,
 "nbformat_minor": 5
}
