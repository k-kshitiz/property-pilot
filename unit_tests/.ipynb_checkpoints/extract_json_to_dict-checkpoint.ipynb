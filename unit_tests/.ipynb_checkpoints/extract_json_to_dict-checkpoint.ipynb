{
 "cells": [
  {
   "cell_type": "markdown",
   "id": "2033c1a7-2fef-488b-874a-f1674b80622d",
   "metadata": {},
   "source": [
    "# Dealing with api filter error\n",
    "## extract_json_to_dict"
   ]
  },
  {
   "cell_type": "code",
   "execution_count": 9,
   "id": "8d29ba6d-1ead-47fe-bc80-dd6a9281e84e",
   "metadata": {
    "tags": []
   },
   "outputs": [],
   "source": [
    "import json\n",
    "\n",
    "def extract_json_to_dict(text):\n",
    "    start = text.find('{')\n",
    "    end = text.rfind('}') + 1\n",
    "\n",
    "    if start != -1 and end != -1:\n",
    "        json_str = text[start:end]\n",
    "        try:\n",
    "            return json.loads(json_str)\n",
    "        except json.JSONDecodeError:\n",
    "            return \"Invalid JSON format\"\n",
    "    else:\n",
    "        return \"No valid JSON object found\""
   ]
  },
  {
   "cell_type": "code",
   "execution_count": 10,
   "id": "6163dc68-0b4d-4d41-9949-3df0b671da3e",
   "metadata": {
    "tags": []
   },
   "outputs": [
    {
     "name": "stdout",
     "output_type": "stream",
     "text": [
      "{'bedsMin': '2', 'bedsMax': '2', 'sort': 'Newest'}\n"
     ]
    }
   ],
   "source": [
    "# Example\n",
    "sample_text = '''\n",
    "{\n",
    "\"bedsMin\":\"2\",\n",
    "\"bedsMax\":\"2\",\n",
    "\"sort\":\"Newest\"\n",
    "}\n",
    "'''\n",
    "result_dict = extract_json_to_dict(sample_text)\n",
    "print(result_dict)"
   ]
  }
 ],
 "metadata": {
  "environment": {
   "kernel": "python3",
   "name": "tf2-cpu.2-11.m119",
   "type": "gcloud",
   "uri": "us-docker.pkg.dev/deeplearning-platform-release/gcr.io/tf2-cpu.2-11:m119"
  },
  "kernelspec": {
   "display_name": "Python 3",
   "language": "python",
   "name": "python3"
  },
  "language_info": {
   "codemirror_mode": {
    "name": "ipython",
    "version": 3
   },
   "file_extension": ".py",
   "mimetype": "text/x-python",
   "name": "python",
   "nbconvert_exporter": "python",
   "pygments_lexer": "ipython3",
   "version": "3.10.14"
  }
 },
 "nbformat": 4,
 "nbformat_minor": 5
}
