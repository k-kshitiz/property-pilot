{
 "cells": [
  {
   "cell_type": "markdown",
   "id": "2033c1a7-2fef-488b-874a-f1674b80622d",
   "metadata": {},
   "source": [
    "# get_context\n",
    "## for RAG"
   ]
  },
  {
   "cell_type": "code",
   "execution_count": 16,
   "id": "8d29ba6d-1ead-47fe-bc80-dd6a9281e84e",
   "metadata": {
    "tags": []
   },
   "outputs": [],
   "source": [
    "import pandas as pd\n",
    "import numpy as np\n",
    "import numpy.linalg\n",
    "from google.api_core import retry\n",
    "from vertexai.language_models import TextEmbeddingModel, TextGenerationModel"
   ]
  },
  {
   "cell_type": "code",
   "execution_count": 12,
   "id": "235c6638-2668-4f78-a7b2-b4ec691c238a",
   "metadata": {
    "tags": []
   },
   "outputs": [
    {
     "data": {
      "text/html": [
       "<div>\n",
       "<style scoped>\n",
       "    .dataframe tbody tr th:only-of-type {\n",
       "        vertical-align: middle;\n",
       "    }\n",
       "\n",
       "    .dataframe tbody tr th {\n",
       "        vertical-align: top;\n",
       "    }\n",
       "\n",
       "    .dataframe thead th {\n",
       "        text-align: right;\n",
       "    }\n",
       "</style>\n",
       "<table border=\"1\" class=\"dataframe\">\n",
       "  <thead>\n",
       "    <tr style=\"text-align: right;\">\n",
       "      <th></th>\n",
       "      <th>texts</th>\n",
       "      <th>embeddings</th>\n",
       "    </tr>\n",
       "  </thead>\n",
       "  <tbody>\n",
       "    <tr>\n",
       "      <th>0</th>\n",
       "      <td>Ravenswood Chicagoans love craft beer, and wit...</td>\n",
       "      <td>[-0.015725474804639816, -0.04845630005002022, ...</td>\n",
       "    </tr>\n",
       "    <tr>\n",
       "      <th>1</th>\n",
       "      <td>Sample some brews at laidback Begyle Brewing, ...</td>\n",
       "      <td>[-0.01855381578207016, -0.012325075455009937, ...</td>\n",
       "    </tr>\n",
       "    <tr>\n",
       "      <th>2</th>\n",
       "      <td>aff. Grab a bite: After all that beer, you’re ...</td>\n",
       "      <td>[-0.007087345700711012, -0.028249159455299377,...</td>\n",
       "    </tr>\n",
       "    <tr>\n",
       "      <th>3</th>\n",
       "      <td>iscover the neighborhood’s cool mix of urban a...</td>\n",
       "      <td>[-0.023173771798610687, -0.0009359957766719162...</td>\n",
       "    </tr>\n",
       "    <tr>\n",
       "      <th>4</th>\n",
       "      <td>lass. Or take a walk through sprawling Winnema...</td>\n",
       "      <td>[-0.02770255133509636, -0.020968427881598473, ...</td>\n",
       "    </tr>\n",
       "  </tbody>\n",
       "</table>\n",
       "</div>"
      ],
      "text/plain": [
       "                                               texts  \\\n",
       "0  Ravenswood Chicagoans love craft beer, and wit...   \n",
       "1  Sample some brews at laidback Begyle Brewing, ...   \n",
       "2  aff. Grab a bite: After all that beer, you’re ...   \n",
       "3  iscover the neighborhood’s cool mix of urban a...   \n",
       "4  lass. Or take a walk through sprawling Winnema...   \n",
       "\n",
       "                                          embeddings  \n",
       "0  [-0.015725474804639816, -0.04845630005002022, ...  \n",
       "1  [-0.01855381578207016, -0.012325075455009937, ...  \n",
       "2  [-0.007087345700711012, -0.028249159455299377,...  \n",
       "3  [-0.023173771798610687, -0.0009359957766719162...  \n",
       "4  [-0.02770255133509636, -0.020968427881598473, ...  "
      ]
     },
     "execution_count": 12,
     "metadata": {},
     "output_type": "execute_result"
    }
   ],
   "source": [
    "# read csv\n",
    "vector_store = pd.read_csv('/home/jupyter/property_pilot/data/vector_store.csv')\n",
    "# embedding to numpy array\n",
    "vector_store['embeddings'] = vector_store['embeddings'].apply(lambda x: np.array(list(map(float, x.split(',')))))\n",
    "vector_store.head()"
   ]
  },
  {
   "cell_type": "code",
   "execution_count": 17,
   "id": "a2971b8c-72be-4da7-83e3-53855becbbee",
   "metadata": {
    "tags": []
   },
   "outputs": [],
   "source": [
    "embeddings_model = TextEmbeddingModel.from_pretrained(\"textembedding-gecko@001\")\n",
    "\n",
    "# Compute the cosine similarity of two vectors, wrap as returned function to make easier to use with Pandas\n",
    "def get_similarity_fn(query_vector):\n",
    "    def fn(row):\n",
    "        return np.dot(row, query_vector) / (\n",
    "            numpy.linalg.norm(row) * numpy.linalg.norm(query_vector)\n",
    "        )\n",
    "\n",
    "    return fn\n",
    "\n",
    "# Retrieve embeddings from the specified model with retry logic\n",
    "@retry.Retry(timeout=300.0)\n",
    "def get_embeddings(text):\n",
    "    return embeddings_model.get_embeddings([text])[0].values"
   ]
  },
  {
   "cell_type": "code",
   "execution_count": 18,
   "id": "247ecc9a-d87c-40d8-b1de-59a55e764577",
   "metadata": {
    "tags": []
   },
   "outputs": [],
   "source": [
    "def get_context(question, vector_store, num_docs):\n",
    "    # Embed the search query\n",
    "    query_vector = np.array(get_embeddings(question))\n",
    "\n",
    "    # Get similarity to all other vectors and sort, cut off at num_docs\n",
    "    top_matched = (\n",
    "        vector_store[\"embeddings\"]\n",
    "        .apply(get_similarity_fn(query_vector))\n",
    "        .sort_values(ascending=False)[:num_docs]\n",
    "        .index\n",
    "    )\n",
    "    top_matched_df = vector_store[vector_store.index.isin(top_matched)][[\"texts\"]]\n",
    "\n",
    "    # Return a string with the top matches\n",
    "    context = \" \".join(top_matched_df.texts.values)\n",
    "    return context"
   ]
  },
  {
   "cell_type": "code",
   "execution_count": 21,
   "id": "15af4e36-a4ad-4b90-bc12-f166e7a4af15",
   "metadata": {
    "tags": []
   },
   "outputs": [
    {
     "name": "stdout",
     "output_type": "stream",
     "text": [
      "Hyde Park  It was the site of the Chicago World’s Fair of 1893, home to former President Barack Obama, an incubator for Nobel Prize winners — basically, history is made in Hyde Park. Get hands-on at the science museum: This culturally rich neighborhood is bookended by two of the city’s most significant institutions — the University of Chicago to the west and the Museum of Science and Industry to t  and culture: Also near Hyde Park, the DuSable Black History Museum is the country’s first institution dedicated to African American history and culture. It resides within Washington Park, home to a bird and butterfly sanctuary and the much-photographed Fountain of Time. And the Hyde Park Art Center has been a powerhouse on the art scene for more than 70 years, claiming the title of oldest alterna Theatre See all events in Hyde Park Discover more in Hyde Park With trendy restaurants, cozy coffee shops, cocktail bars and shops on just about every corner, there’s endless ways to spend a day in this bustling neighborhood. When it comes to laid-back neighborhoods in Chicago, Edgewater takes the crown. But don’t let its chill vibe fool you — this charming district is… While many visitors to Chic  charming district is… While many visitors to Chicago have spent time in Hyde Park (home to Jackson Park and the Museum of Science and Industry), the surrounding Washington… Chicago’s Garfield Park neighborhood is a nature lover’s paradise. The area is home to a sprawling chain of green spaces, with the historic Garfield Park… The historic Pullman neighborhood is the first and only National Monume ool you — this charming district is… While many visitors to Chicago have spent time in Hyde Park (home to Jackson Park and the Museum of Science and Industry), the surrounding Washington… Chicago’s Garfield Park neighborhood is a nature lover’s paradise. The area is home to a sprawling chain of green spaces, with the historic Garfield Park… The historic Pullman neighborhood is the first and only N ill vibe fool you — this charming district is… While many visitors to Chicago have spent time in Hyde Park (home to Jackson Park and the Museum of Science and Industry), the surrounding Washington… Chicago’s Garfield Park neighborhood is a nature lover’s paradise. The area is home to a sprawling chain of green spaces, with the historic Garfield Park… The historic Pullman neighborhood is the first   time in Hyde Park (home to Jackson Park and the Museum of Science and Industry), the surrounding Washington… Chicago’s Garfield Park neighborhood is a nature lover’s paradise. The area is home to a sprawling chain of green spaces, with the historic Garfield Park… The historic Pullman neighborhood is the first and only National Monument and unit of the National Park System in the city of Chicago.  many visitors to Chicago have spent time in Hyde Park (home to Jackson Park and the Museum of Science and Industry), the surrounding Washington… Chicago’s Garfield Park neighborhood is a nature lover’s paradise. The area is home to a sprawling chain of green spaces, with the historic Garfield Park… The historic Pullman neighborhood is the first and only National Monument and unit of the National P ool you — this charming district is… While many visitors to Chicago have spent time in Hyde Park (home to Jackson Park and the Museum of Science and Industry), the surrounding Washington… Chicago’s Garfield Park neighborhood is a nature lover’s paradise. The area is home to a sprawling chain of green spaces, with the historic Garfield Park… The historic Pullman neighborhood is the first and only N  public art, and lush green space. Humboldt (Alexander Von) Park Humboldt (Alexander Von) Park Humboldt (Alexander Von) Park See all events in Humboldt Park Discover more in Humboldt Park With trendy restaurants, cozy coffee shops, cocktail bars and shops on just about every corner, there’s endless ways to spend a day in this bustling neighborhood. When it comes to laid-back neighborhoods in Chica\n"
     ]
    }
   ],
   "source": [
    "# Example\n",
    "\n",
    "user_query = 'Tell me about Hyde Park.'\n",
    "context = get_context(question = user_query, vector_store=vector_store, num_docs=10)\n",
    "print(context)"
   ]
  }
 ],
 "metadata": {
  "environment": {
   "kernel": "python3",
   "name": "tf2-cpu.2-11.m119",
   "type": "gcloud",
   "uri": "us-docker.pkg.dev/deeplearning-platform-release/gcr.io/tf2-cpu.2-11:m119"
  },
  "kernelspec": {
   "display_name": "Python 3",
   "language": "python",
   "name": "python3"
  },
  "language_info": {
   "codemirror_mode": {
    "name": "ipython",
    "version": 3
   },
   "file_extension": ".py",
   "mimetype": "text/x-python",
   "name": "python",
   "nbconvert_exporter": "python",
   "pygments_lexer": "ipython3",
   "version": "3.10.14"
  }
 },
 "nbformat": 4,
 "nbformat_minor": 5
}
