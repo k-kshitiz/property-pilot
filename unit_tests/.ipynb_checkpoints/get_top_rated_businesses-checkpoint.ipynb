{
 "cells": [
  {
   "cell_type": "markdown",
   "id": "2a38e04e-ca9f-47da-aeeb-8f8310904003",
   "metadata": {
    "tags": []
   },
   "source": [
    "# Retrieving n top-rated restaurants from yelp\n",
    "## Function: get_top_rated_businesses"
   ]
  },
  {
   "cell_type": "code",
   "execution_count": 1,
   "id": "78d8341b-65f0-4149-b606-370746d8ca1d",
   "metadata": {
    "tags": []
   },
   "outputs": [],
   "source": [
    "import http.client\n",
    "import json\n",
    "import urllib.parse"
   ]
  },
  {
   "cell_type": "markdown",
   "id": "55ece21e-081d-419f-931e-d33f4a402131",
   "metadata": {},
   "source": [
    "## Example Inputs"
   ]
  },
  {
   "cell_type": "code",
   "execution_count": 6,
   "id": "6393648a-de13-40e9-b0f4-c4d97ce0b65a",
   "metadata": {
    "tags": []
   },
   "outputs": [],
   "source": [
    "# yelp api_key\n",
    "api_key = ''\n",
    "\n",
    "# location\n",
    "location = '41.897385, -87.68405'\n",
    "\n",
    "# category\n",
    "category = 'restaurants'\n"
   ]
  },
  {
   "cell_type": "markdown",
   "id": "871ec4ff-40b0-4add-a3d4-ff030769faef",
   "metadata": {},
   "source": [
    "## get_top_rated_businesses"
   ]
  },
  {
   "cell_type": "code",
   "execution_count": 3,
   "id": "dd72732d-7c81-4224-8874-c26688a9af5c",
   "metadata": {
    "tags": []
   },
   "outputs": [],
   "source": [
    "def get_top_rated_businesses(api_key, location, category, top_n=2):\n",
    "    \"\"\"Fetches top-rated businesses near a given location from Yelp.\"\"\"\n",
    "    conn = http.client.HTTPSConnection(\"api.yelp.com\")\n",
    "    \n",
    "    headers = {\n",
    "        'Authorization': f'Bearer {api_key}'\n",
    "    }\n",
    "    \n",
    "    params = {\n",
    "        'location': location,\n",
    "        'term': 'restaurants',\n",
    "        'radius': 2000,\n",
    "        'categories': category,\n",
    "        'sort_by': 'rating',\n",
    "        'limit': top_n\n",
    "    }\n",
    "    \n",
    "    # Encode parameters into URL query string\n",
    "    query_string = urllib.parse.urlencode(params)\n",
    "    url = f\"/v3/businesses/search?{query_string}\"\n",
    "    \n",
    "    conn.request(\"GET\", url, headers=headers)\n",
    "    \n",
    "    response = conn.getresponse()\n",
    "    data = response.read()\n",
    "    conn.close()\n",
    "    \n",
    "    if response.status == 200:\n",
    "        return json.loads(data)\n",
    "    else:\n",
    "        print(f\"Failed to fetch data: {response.status} - {data.decode('utf-8')}\")\n",
    "        return None  # Handle the failure as appropriate in your application\n"
   ]
  },
  {
   "cell_type": "markdown",
   "id": "1b7a5f73-2db6-44df-9995-5e5a9295b065",
   "metadata": {},
   "source": [
    "## Example"
   ]
  },
  {
   "cell_type": "code",
   "execution_count": 5,
   "id": "d2a8a9b3-780f-4478-a721-84f877217775",
   "metadata": {
    "tags": []
   },
   "outputs": [
    {
     "data": {
      "text/plain": [
       "{'businesses': [{'id': 'bvm_LTw-CuWPiGrsEPg9rA',\n",
       "   'alias': 'healthy-substance-cantina-chicago',\n",
       "   'name': 'Healthy Substance Cantina',\n",
       "   'image_url': 'https://s3-media1.fl.yelpcdn.com/bphoto/pszUR0VtRNCUw6o9LhfRqw/o.jpg',\n",
       "   'is_closed': False,\n",
       "   'url': 'https://www.yelp.com/biz/healthy-substance-cantina-chicago?adjust_creative=6Rl6qXMI6EN3VkijeNTf0A&utm_campaign=yelp_api_v3&utm_medium=api_v3_business_search&utm_source=6Rl6qXMI6EN3VkijeNTf0A',\n",
       "   'review_count': 6,\n",
       "   'categories': [{'alias': 'vegan', 'title': 'Vegan'}],\n",
       "   'rating': 5.0,\n",
       "   'coordinates': {'latitude': 41.908631, 'longitude': -87.675257},\n",
       "   'transactions': [],\n",
       "   'location': {'address1': '1480 N Milwaukee Ave',\n",
       "    'address2': None,\n",
       "    'address3': '',\n",
       "    'city': 'Chicago',\n",
       "    'zip_code': '60622',\n",
       "    'country': 'US',\n",
       "    'state': 'IL',\n",
       "    'display_address': ['1480 N Milwaukee Ave', 'Chicago, IL 60622']},\n",
       "   'phone': '+17085757162',\n",
       "   'display_phone': '(708) 575-7162',\n",
       "   'distance': 1433.3574448607808,\n",
       "   'attributes': {'business_temp_closed': None,\n",
       "    'menu_url': 'https://www.healthysubstance.com/order-online',\n",
       "    'open24_hours': None,\n",
       "    'waitlist_reservation': None}},\n",
       "  {'id': 'hva3YCKzqhtkKerQWsXo7Q',\n",
       "   'alias': 'janellie-s-kitchen-chicago-2',\n",
       "   'name': 'Janellie’s Kitchen',\n",
       "   'image_url': 'https://s3-media1.fl.yelpcdn.com/bphoto/gA6saQlTNJu03XZuXwafdg/o.jpg',\n",
       "   'is_closed': False,\n",
       "   'url': 'https://www.yelp.com/biz/janellie-s-kitchen-chicago-2?adjust_creative=6Rl6qXMI6EN3VkijeNTf0A&utm_campaign=yelp_api_v3&utm_medium=api_v3_business_search&utm_source=6Rl6qXMI6EN3VkijeNTf0A',\n",
       "   'review_count': 12,\n",
       "   'categories': [{'alias': 'puertorican', 'title': 'Puerto Rican'}],\n",
       "   'rating': 5.0,\n",
       "   'coordinates': {'latitude': 41.90281613454157,\n",
       "    'longitude': -87.69265859457461},\n",
       "   'transactions': ['delivery', 'pickup'],\n",
       "   'location': {'address1': '2617 W Division St',\n",
       "    'address2': None,\n",
       "    'address3': None,\n",
       "    'city': 'Chicago',\n",
       "    'zip_code': '60622',\n",
       "    'country': 'US',\n",
       "    'state': 'IL',\n",
       "    'display_address': ['2617 W Division St', 'Chicago, IL 60622']},\n",
       "   'phone': '+18722108042',\n",
       "   'display_phone': '(872) 210-8042',\n",
       "   'distance': 938.2372735816302,\n",
       "   'attributes': {'business_temp_closed': None,\n",
       "    'menu_url': None,\n",
       "    'open24_hours': None,\n",
       "    'waitlist_reservation': True}}],\n",
       " 'total': 415,\n",
       " 'region': {'center': {'longitude': -87.68394470214844,\n",
       "   'latitude': 41.89741891078323}}}"
      ]
     },
     "execution_count": 5,
     "metadata": {},
     "output_type": "execute_result"
    }
   ],
   "source": [
    "top_restaurants = get_top_rated_businesses(api_key, location, category)\n",
    "\n",
    "top_restaurants"
   ]
  }
 ],
 "metadata": {
  "environment": {
   "kernel": "python3",
   "name": "tf2-cpu.2-11.m119",
   "type": "gcloud",
   "uri": "us-docker.pkg.dev/deeplearning-platform-release/gcr.io/tf2-cpu.2-11:m119"
  },
  "kernelspec": {
   "display_name": "Python 3",
   "language": "python",
   "name": "python3"
  },
  "language_info": {
   "codemirror_mode": {
    "name": "ipython",
    "version": 3
   },
   "file_extension": ".py",
   "mimetype": "text/x-python",
   "name": "python",
   "nbconvert_exporter": "python",
   "pygments_lexer": "ipython3",
   "version": "3.10.14"
  }
 },
 "nbformat": 4,
 "nbformat_minor": 5
}
