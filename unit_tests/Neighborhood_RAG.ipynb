{
 "cells": [
  {
   "cell_type": "code",
   "execution_count": 1,
   "id": "5c35837b-7afa-4855-8406-209f0e485390",
   "metadata": {
    "tags": []
   },
   "outputs": [],
   "source": [
    "# %pip list | grep google-cloud-aiplatform\n",
    "# %pip list | grep google-api-core\n",
    "# %pip install google-cloud-aiplatform==1.43.0\n",
    "# %pip install google-api-core==2.17.1"
   ]
  },
  {
   "cell_type": "code",
   "execution_count": 2,
   "id": "b29f9db2-dcbc-487c-87c9-2a64396b2d37",
   "metadata": {
    "tags": []
   },
   "outputs": [],
   "source": [
    "import vertexai\n",
    "from vertexai.preview.generative_models import GenerativeModel, ChatSession, Part\n",
    "import vertexai.preview.generative_models as generative_models\n",
    "\n",
    "import geopandas as gp\n",
    "from shapely.geometry import Point\n",
    "import http.client\n",
    "import json\n",
    "import urllib.parse"
   ]
  },
  {
   "cell_type": "code",
   "execution_count": 3,
   "id": "28a8bfd6-eb3a-4e66-9fe5-76cfb4cfdb8b",
   "metadata": {
    "tags": []
   },
   "outputs": [],
   "source": [
    "import requests\n",
    "import itertools\n",
    "import numpy as np\n",
    "import pandas as pd\n",
    "import numpy.linalg\n",
    "import vertexai\n",
    "\n",
    "from google.api_core import retry\n",
    "from vertexai.language_models import TextEmbeddingModel, TextGenerationModel\n",
    "from tqdm.auto import tqdm\n",
    "from bs4 import BeautifulSoup, Tag\n",
    "\n",
    "tqdm.pandas()"
   ]
  },
  {
   "cell_type": "code",
   "execution_count": 4,
   "id": "af7b015f-516b-4db3-bf0f-fc03c1db70a0",
   "metadata": {
    "tags": []
   },
   "outputs": [],
   "source": [
    "pd.set_option('display.max_colwidth', 120)"
   ]
  },
  {
   "cell_type": "code",
   "execution_count": 5,
   "id": "0c70252b-13c7-423c-98e5-e027cb1df2e4",
   "metadata": {
    "tags": []
   },
   "outputs": [],
   "source": [
    "vertexai.init(project = \"adsp-capstone-property-pilot\", location = \"us-central1\")"
   ]
  },
  {
   "cell_type": "code",
   "execution_count": 6,
   "id": "b41b2480-939c-440d-a35b-de10ea6fd72a",
   "metadata": {
    "tags": []
   },
   "outputs": [],
   "source": [
    "model = GenerativeModel(\"gemini-1.0-pro\")\n",
    "chat = model.start_chat()\n",
    "\n",
    "def get_chat_response(chat: ChatSession, prompt: str) -> str:\n",
    "    text_response = []\n",
    "    responses = chat.send_message(prompt, stream=True)\n",
    "    for chunk in responses:\n",
    "        text_response.append(chunk.text)\n",
    "    return \"\".join(text_response)"
   ]
  },
  {
   "cell_type": "code",
   "execution_count": 7,
   "id": "844c82bd-bdf4-40a5-a0ba-899b31660c59",
   "metadata": {
    "tags": []
   },
   "outputs": [
    {
     "name": "stdout",
     "output_type": "stream",
     "text": [
      "Hi there! How can I help you today?\n"
     ]
    }
   ],
   "source": [
    "# Test chat\n",
    "prompt = \"Hello.\"\n",
    "print(get_chat_response(chat, prompt))"
   ]
  },
  {
   "cell_type": "markdown",
   "id": "d6c61bb1-c5f5-445f-a54a-b02a8b806c65",
   "metadata": {},
   "source": [
    "## Data Prep"
   ]
  },
  {
   "cell_type": "code",
   "execution_count": 10,
   "id": "30a8b6b3-fcc5-47f9-94bb-8d67665046fb",
   "metadata": {
    "tags": []
   },
   "outputs": [],
   "source": [
    "# neighborhood description file\n",
    "neighborhood_info_path = '/home/jupyter/Kshitiz_Working/neighborhood_info_final.csv'\n",
    "neighborhood_df = pd.read_csv(neighborhood_info_path)\n",
    "# Add neighborhood name to the description\n",
    "neighborhood_df['text'] = neighborhood_df['neighborhood'] + ' ' + neighborhood_df['neighborhood_information_scrapped'].apply(lambda x: ' '.join(eval(x)))"
   ]
  },
  {
   "cell_type": "code",
   "execution_count": 11,
   "id": "f5ee21b7-45b2-44fd-9fca-5476a12628f1",
   "metadata": {
    "tags": []
   },
   "outputs": [
    {
     "data": {
      "text/html": [
       "<div>\n",
       "<style scoped>\n",
       "    .dataframe tbody tr th:only-of-type {\n",
       "        vertical-align: middle;\n",
       "    }\n",
       "\n",
       "    .dataframe tbody tr th {\n",
       "        vertical-align: top;\n",
       "    }\n",
       "\n",
       "    .dataframe thead th {\n",
       "        text-align: right;\n",
       "    }\n",
       "</style>\n",
       "<table border=\"1\" class=\"dataframe\">\n",
       "  <thead>\n",
       "    <tr style=\"text-align: right;\">\n",
       "      <th></th>\n",
       "      <th>neighborhood</th>\n",
       "      <th>neighborhood_information</th>\n",
       "      <th>neighborhood_information_scrapped</th>\n",
       "      <th>text</th>\n",
       "    </tr>\n",
       "  </thead>\n",
       "  <tbody>\n",
       "    <tr>\n",
       "      <th>0</th>\n",
       "      <td>Ravenswood</td>\n",
       "      <td>Ravenswood in Chicago is celebrated for its robust craft beer scene, prominently featuring a collection of well-know...</td>\n",
       "      <td>['Chicagoans love craft beer, and with a slew of well-known breweries all in one area, you can bet we’re making a be...</td>\n",
       "      <td>Ravenswood Chicagoans love craft beer, and with a slew of well-known breweries all in one area, you can bet we’re ma...</td>\n",
       "    </tr>\n",
       "    <tr>\n",
       "      <th>1</th>\n",
       "      <td>South Loop</td>\n",
       "      <td>The South Loop is a vibrant Chicago neighborhood known for its significant cultural attractions and lively entertain...</td>\n",
       "      <td>['It’s home to the lakefront Museum Campus, where you’ll find three of Chicago’s biggest museums. Also in the South ...</td>\n",
       "      <td>South Loop It’s home to the lakefront Museum Campus, where you’ll find three of Chicago’s biggest museums. Also in t...</td>\n",
       "    </tr>\n",
       "    <tr>\n",
       "      <th>2</th>\n",
       "      <td>Belmont Cragin</td>\n",
       "      <td>Belmont Cragin, a neighborhood rich in Hispanic culture, is characterized by a close-knit community and a growing ar...</td>\n",
       "      <td>['This close-knit neighborhood is home to loads of Hispanic culture and a burgeoning arts community. Originally a ha...</td>\n",
       "      <td>Belmont Cragin This close-knit neighborhood is home to loads of Hispanic culture and a burgeoning arts community. Or...</td>\n",
       "    </tr>\n",
       "    <tr>\n",
       "      <th>3</th>\n",
       "      <td>Avondale</td>\n",
       "      <td>Avondale is a neighborhood with a growing reputation for its vibrant dining and nightlife, attracting a diverse crow...</td>\n",
       "      <td>['An under-the-radar dining and nightlife scene is putting all eyes on Avondale, an area that many predict will be t...</td>\n",
       "      <td>Avondale An under-the-radar dining and nightlife scene is putting all eyes on Avondale, an area that many predict wi...</td>\n",
       "    </tr>\n",
       "    <tr>\n",
       "      <th>4</th>\n",
       "      <td>Englewood</td>\n",
       "      <td>Englewood is a vibrant community known for its deep roots in Black music and culture. It hosts popular events like t...</td>\n",
       "      <td>['Englewood is a large residential neighborhood known as a long-time hub for Black music and culture.', 'The area ho...</td>\n",
       "      <td>Englewood Englewood is a large residential neighborhood known as a long-time hub for Black music and culture. The ar...</td>\n",
       "    </tr>\n",
       "  </tbody>\n",
       "</table>\n",
       "</div>"
      ],
      "text/plain": [
       "     neighborhood  \\\n",
       "0      Ravenswood   \n",
       "1      South Loop   \n",
       "2  Belmont Cragin   \n",
       "3        Avondale   \n",
       "4       Englewood   \n",
       "\n",
       "                                                                                                  neighborhood_information  \\\n",
       "0  Ravenswood in Chicago is celebrated for its robust craft beer scene, prominently featuring a collection of well-know...   \n",
       "1  The South Loop is a vibrant Chicago neighborhood known for its significant cultural attractions and lively entertain...   \n",
       "2  Belmont Cragin, a neighborhood rich in Hispanic culture, is characterized by a close-knit community and a growing ar...   \n",
       "3  Avondale is a neighborhood with a growing reputation for its vibrant dining and nightlife, attracting a diverse crow...   \n",
       "4  Englewood is a vibrant community known for its deep roots in Black music and culture. It hosts popular events like t...   \n",
       "\n",
       "                                                                                         neighborhood_information_scrapped  \\\n",
       "0  ['Chicagoans love craft beer, and with a slew of well-known breweries all in one area, you can bet we’re making a be...   \n",
       "1  ['It’s home to the lakefront Museum Campus, where you’ll find three of Chicago’s biggest museums. Also in the South ...   \n",
       "2  ['This close-knit neighborhood is home to loads of Hispanic culture and a burgeoning arts community. Originally a ha...   \n",
       "3  ['An under-the-radar dining and nightlife scene is putting all eyes on Avondale, an area that many predict will be t...   \n",
       "4  ['Englewood is a large residential neighborhood known as a long-time hub for Black music and culture.', 'The area ho...   \n",
       "\n",
       "                                                                                                                      text  \n",
       "0  Ravenswood Chicagoans love craft beer, and with a slew of well-known breweries all in one area, you can bet we’re ma...  \n",
       "1  South Loop It’s home to the lakefront Museum Campus, where you’ll find three of Chicago’s biggest museums. Also in t...  \n",
       "2  Belmont Cragin This close-knit neighborhood is home to loads of Hispanic culture and a burgeoning arts community. Or...  \n",
       "3  Avondale An under-the-radar dining and nightlife scene is putting all eyes on Avondale, an area that many predict wi...  \n",
       "4  Englewood Englewood is a large residential neighborhood known as a long-time hub for Black music and culture. The ar...  "
      ]
     },
     "execution_count": 11,
     "metadata": {},
     "output_type": "execute_result"
    }
   ],
   "source": [
    "neighborhood_df.head()"
   ]
  },
  {
   "cell_type": "code",
   "execution_count": 12,
   "id": "266866fc-bc37-4ab9-b33b-365b43d3e6cc",
   "metadata": {
    "tags": []
   },
   "outputs": [],
   "source": [
    "all_text = neighborhood_df['text'].tolist()"
   ]
  },
  {
   "cell_type": "code",
   "execution_count": 13,
   "id": "6b822c33-580d-4fad-935c-e351cb570250",
   "metadata": {
    "tags": []
   },
   "outputs": [
    {
     "data": {
      "text/plain": [
       "47"
      ]
     },
     "execution_count": 13,
     "metadata": {},
     "output_type": "execute_result"
    }
   ],
   "source": [
    "len(all_text)"
   ]
  },
  {
   "cell_type": "code",
   "execution_count": 14,
   "id": "3bd081b3-e997-45ec-9828-fde87734bda2",
   "metadata": {
    "tags": []
   },
   "outputs": [
    {
     "name": "stdout",
     "output_type": "stream",
     "text": [
      "Document length distribution\n"
     ]
    },
    {
     "data": {
      "text/plain": [
       "array([[<Axes: title={'center': '0'}>]], dtype=object)"
      ]
     },
     "execution_count": 14,
     "metadata": {},
     "output_type": "execute_result"
    },
    {
     "data": {
      "image/png": "[encoded data removed]",
      "text/plain": [
       "<Figure size 640x480 with 1 Axes>"
      ]
     },
     "metadata": {},
     "output_type": "display_data"
    }
   ],
   "source": [
    "text_lengths = [len(t) for t in all_text]\n",
    "\n",
    "print('Document length distribution')\n",
    "pd.DataFrame(text_lengths).hist()"
   ]
  },
  {
   "cell_type": "markdown",
   "id": "c6c90e8e-589b-430d-abeb-260d79581088",
   "metadata": {},
   "source": [
    "## Create vector store¶"
   ]
  },
  {
   "cell_type": "code",
   "execution_count": 19,
   "id": "6f8aa8d2-16f8-4185-aafa-cbd1d5dba6b4",
   "metadata": {
    "tags": []
   },
   "outputs": [],
   "source": [
    "embeddings_model = TextEmbeddingModel.from_pretrained(\"textembedding-gecko@001\")"
   ]
  },
  {
   "cell_type": "code",
   "execution_count": 20,
   "id": "c2777828-ec54-480e-bd1c-aac433d0ab57",
   "metadata": {
    "tags": []
   },
   "outputs": [],
   "source": [
    "# Separates seq into multiple chunks in the specified size with the specified overlap\n",
    "def split_overlap(seq, size, overlap):\n",
    "    if len(seq) <= size:\n",
    "        return [seq]\n",
    "    return [\"\".join(x) for x in zip(*[seq[i :: size - overlap] for i in range(size)])]\n",
    "\n",
    "\n",
    "# Compute the cosine similarity of two vectors, wrap as returned function to make easier to use with Pandas\n",
    "def get_similarity_fn(query_vector):\n",
    "    def fn(row):\n",
    "        return np.dot(row, query_vector) / (\n",
    "            numpy.linalg.norm(row) * numpy.linalg.norm(query_vector)\n",
    "        )\n",
    "\n",
    "    return fn\n",
    "\n",
    "# Retrieve embeddings from the specified model with retry logic\n",
    "@retry.Retry(timeout=300.0)\n",
    "def get_embeddings(text):\n",
    "    return embeddings_model.get_embeddings([text])[0].values\n",
    "\n",
    "# Create the vector store, we are using a Pandas DataFrame\n",
    "def create_vector_store(texts, chunk_size, overlap):\n",
    "    vector_store = pd.DataFrame()\n",
    "    # Insert the individual texts into the vector store\n",
    "    vector_store[\"texts\"] = list(\n",
    "        itertools.chain(*[split_overlap(t, chunk_size, overlap) for t in texts])\n",
    "    )\n",
    "\n",
    "    # Create embeddings from those texts\n",
    "    vector_store[\"embeddings\"] = (\n",
    "        vector_store[\"texts\"].progress_apply(get_embeddings).apply(np.array)\n",
    "    )\n",
    "\n",
    "    return vector_store"
   ]
  },
  {
   "cell_type": "code",
   "execution_count": 46,
   "id": "0f8547e2-c051-414d-b221-1fb4741007e4",
   "metadata": {
    "tags": []
   },
   "outputs": [
    {
     "data": {
      "application/vnd.jupyter.widget-view+json": {
       "model_id": "73e4c2085f9e48a496edca94f6e323fb",
       "version_major": 2,
       "version_minor": 0
      },
      "text/plain": [
       "  0%|          | 0/527 [00:00<?, ?it/s]"
      ]
     },
     "metadata": {},
     "output_type": "display_data"
    },
    {
     "name": "stdout",
     "output_type": "stream",
     "text": [
      "CPU times: user 2.81 s, sys: 239 ms, total: 3.04 s\n",
      "Wall time: 26.9 s\n"
     ]
    }
   ],
   "source": [
    "%%time\n",
    "\n",
    "CHUNK_SIZE = 400\n",
    "OVERLAP = 50\n",
    "\n",
    "vector_store = create_vector_store(all_text, CHUNK_SIZE, OVERLAP)"
   ]
  },
  {
   "cell_type": "code",
   "execution_count": 47,
   "id": "533dc6eb-729c-4679-afc5-1860ae06ea2d",
   "metadata": {
    "tags": []
   },
   "outputs": [
    {
     "data": {
      "text/html": [
       "<div>\n",
       "<style scoped>\n",
       "    .dataframe tbody tr th:only-of-type {\n",
       "        vertical-align: middle;\n",
       "    }\n",
       "\n",
       "    .dataframe tbody tr th {\n",
       "        vertical-align: top;\n",
       "    }\n",
       "\n",
       "    .dataframe thead th {\n",
       "        text-align: right;\n",
       "    }\n",
       "</style>\n",
       "<table border=\"1\" class=\"dataframe\">\n",
       "  <thead>\n",
       "    <tr style=\"text-align: right;\">\n",
       "      <th></th>\n",
       "      <th>texts</th>\n",
       "      <th>embeddings</th>\n",
       "    </tr>\n",
       "  </thead>\n",
       "  <tbody>\n",
       "    <tr>\n",
       "      <th>0</th>\n",
       "      <td>Ravenswood Chicagoans love craft beer, and with a slew of well-known breweries all in one area, you can bet we’re ma...</td>\n",
       "      <td>[-0.015725474804639816, -0.04845630005002022, 0.014403422363102436, 0.054341886192560196, 0.0034469428937882185, -0....</td>\n",
       "    </tr>\n",
       "    <tr>\n",
       "      <th>1</th>\n",
       "      <td>Sample some brews at laidback Begyle Brewing, Old-World-inspired Dovetail Brewery, and botanical-focused Forbidden R...</td>\n",
       "      <td>[-0.01855381578207016, -0.012325075455009937, 0.04381750524044037, 0.028196951374411583, -0.01702563278377056, -0.01...</td>\n",
       "    </tr>\n",
       "    <tr>\n",
       "      <th>2</th>\n",
       "      <td>aff. Grab a bite: After all that beer, you’re going to want something to eat. Spacca Napoli Pizzeria is known for it...</td>\n",
       "      <td>[-0.007087345700711012, -0.028249159455299377, 0.015769869089126587, 0.01621190272271633, -0.010161901824176311, -0....</td>\n",
       "    </tr>\n",
       "    <tr>\n",
       "      <th>3</th>\n",
       "      <td>iscover the neighborhood’s cool mix of urban and family-friendly. Artifact Events hosts a full calendar of public ev...</td>\n",
       "      <td>[-0.023173771798610687, -0.0009359957766719162, -0.021764786913990974, 0.018287889659404755, -0.008924626745283604, ...</td>\n",
       "    </tr>\n",
       "    <tr>\n",
       "      <th>4</th>\n",
       "      <td>lass. Or take a walk through sprawling Winnemac Park, one of the area’s many green spaces. Taste, shop and explore t...</td>\n",
       "      <td>[-0.02770255133509636, -0.020968427881598473, 0.018577206879854202, 0.07044970989227295, -0.01204716507345438, 0.049...</td>\n",
       "    </tr>\n",
       "  </tbody>\n",
       "</table>\n",
       "</div>"
      ],
      "text/plain": [
       "                                                                                                                     texts  \\\n",
       "0  Ravenswood Chicagoans love craft beer, and with a slew of well-known breweries all in one area, you can bet we’re ma...   \n",
       "1  Sample some brews at laidback Begyle Brewing, Old-World-inspired Dovetail Brewery, and botanical-focused Forbidden R...   \n",
       "2  aff. Grab a bite: After all that beer, you’re going to want something to eat. Spacca Napoli Pizzeria is known for it...   \n",
       "3  iscover the neighborhood’s cool mix of urban and family-friendly. Artifact Events hosts a full calendar of public ev...   \n",
       "4  lass. Or take a walk through sprawling Winnemac Park, one of the area’s many green spaces. Taste, shop and explore t...   \n",
       "\n",
       "                                                                                                                embeddings  \n",
       "0  [-0.015725474804639816, -0.04845630005002022, 0.014403422363102436, 0.054341886192560196, 0.0034469428937882185, -0....  \n",
       "1  [-0.01855381578207016, -0.012325075455009937, 0.04381750524044037, 0.028196951374411583, -0.01702563278377056, -0.01...  \n",
       "2  [-0.007087345700711012, -0.028249159455299377, 0.015769869089126587, 0.01621190272271633, -0.010161901824176311, -0....  \n",
       "3  [-0.023173771798610687, -0.0009359957766719162, -0.021764786913990974, 0.018287889659404755, -0.008924626745283604, ...  \n",
       "4  [-0.02770255133509636, -0.020968427881598473, 0.018577206879854202, 0.07044970989227295, -0.01204716507345438, 0.049...  "
      ]
     },
     "execution_count": 47,
     "metadata": {},
     "output_type": "execute_result"
    }
   ],
   "source": [
    "vector_store.head()"
   ]
  },
  {
   "cell_type": "code",
   "execution_count": 48,
   "id": "cc197256-77f2-4297-9f05-f46ff438d8bd",
   "metadata": {
    "tags": []
   },
   "outputs": [],
   "source": [
    "# embedding to str\n",
    "vector_store['embeddings'] = vector_store['embeddings'].apply(lambda x: ','.join(map(str, x)))\n",
    "# save csv\n",
    "vector_store.to_csv('/home/jupyter/property_pilot/data/vector_store.csv', index=False)"
   ]
  },
  {
   "cell_type": "code",
   "execution_count": 49,
   "id": "140816a9-5266-4e55-be33-d8d4336ffa68",
   "metadata": {
    "tags": []
   },
   "outputs": [],
   "source": [
    "# read csv\n",
    "vector_store = pd.read_csv('/home/jupyter/property_pilot/data/vector_store.csv')\n",
    "# embedding to numpy array\n",
    "vector_store['embeddings'] = vector_store['embeddings'].apply(lambda x: np.array(list(map(float, x.split(',')))))"
   ]
  },
  {
   "cell_type": "code",
   "execution_count": 50,
   "id": "7d8a7436-6555-49d7-bfee-46783681ea0b",
   "metadata": {
    "tags": []
   },
   "outputs": [
    {
     "data": {
      "text/html": [
       "<div>\n",
       "<style scoped>\n",
       "    .dataframe tbody tr th:only-of-type {\n",
       "        vertical-align: middle;\n",
       "    }\n",
       "\n",
       "    .dataframe tbody tr th {\n",
       "        vertical-align: top;\n",
       "    }\n",
       "\n",
       "    .dataframe thead th {\n",
       "        text-align: right;\n",
       "    }\n",
       "</style>\n",
       "<table border=\"1\" class=\"dataframe\">\n",
       "  <thead>\n",
       "    <tr style=\"text-align: right;\">\n",
       "      <th></th>\n",
       "      <th>texts</th>\n",
       "      <th>embeddings</th>\n",
       "    </tr>\n",
       "  </thead>\n",
       "  <tbody>\n",
       "    <tr>\n",
       "      <th>0</th>\n",
       "      <td>Ravenswood Chicagoans love craft beer, and with a slew of well-known breweries all in one area, you can bet we’re ma...</td>\n",
       "      <td>[-0.015725474804639816, -0.04845630005002022, 0.014403422363102436, 0.054341886192560196, 0.0034469428937882185, -0....</td>\n",
       "    </tr>\n",
       "    <tr>\n",
       "      <th>1</th>\n",
       "      <td>Sample some brews at laidback Begyle Brewing, Old-World-inspired Dovetail Brewery, and botanical-focused Forbidden R...</td>\n",
       "      <td>[-0.01855381578207016, -0.012325075455009937, 0.04381750524044037, 0.028196951374411583, -0.01702563278377056, -0.01...</td>\n",
       "    </tr>\n",
       "    <tr>\n",
       "      <th>2</th>\n",
       "      <td>aff. Grab a bite: After all that beer, you’re going to want something to eat. Spacca Napoli Pizzeria is known for it...</td>\n",
       "      <td>[-0.007087345700711012, -0.028249159455299377, 0.015769869089126587, 0.01621190272271633, -0.010161901824176311, -0....</td>\n",
       "    </tr>\n",
       "    <tr>\n",
       "      <th>3</th>\n",
       "      <td>iscover the neighborhood’s cool mix of urban and family-friendly. Artifact Events hosts a full calendar of public ev...</td>\n",
       "      <td>[-0.023173771798610687, -0.0009359957766719162, -0.021764786913990974, 0.018287889659404755, -0.008924626745283604, ...</td>\n",
       "    </tr>\n",
       "    <tr>\n",
       "      <th>4</th>\n",
       "      <td>lass. Or take a walk through sprawling Winnemac Park, one of the area’s many green spaces. Taste, shop and explore t...</td>\n",
       "      <td>[-0.02770255133509636, -0.020968427881598473, 0.018577206879854202, 0.07044970989227295, -0.01204716507345438, 0.049...</td>\n",
       "    </tr>\n",
       "  </tbody>\n",
       "</table>\n",
       "</div>"
      ],
      "text/plain": [
       "                                                                                                                     texts  \\\n",
       "0  Ravenswood Chicagoans love craft beer, and with a slew of well-known breweries all in one area, you can bet we’re ma...   \n",
       "1  Sample some brews at laidback Begyle Brewing, Old-World-inspired Dovetail Brewery, and botanical-focused Forbidden R...   \n",
       "2  aff. Grab a bite: After all that beer, you’re going to want something to eat. Spacca Napoli Pizzeria is known for it...   \n",
       "3  iscover the neighborhood’s cool mix of urban and family-friendly. Artifact Events hosts a full calendar of public ev...   \n",
       "4  lass. Or take a walk through sprawling Winnemac Park, one of the area’s many green spaces. Taste, shop and explore t...   \n",
       "\n",
       "                                                                                                                embeddings  \n",
       "0  [-0.015725474804639816, -0.04845630005002022, 0.014403422363102436, 0.054341886192560196, 0.0034469428937882185, -0....  \n",
       "1  [-0.01855381578207016, -0.012325075455009937, 0.04381750524044037, 0.028196951374411583, -0.01702563278377056, -0.01...  \n",
       "2  [-0.007087345700711012, -0.028249159455299377, 0.015769869089126587, 0.01621190272271633, -0.010161901824176311, -0....  \n",
       "3  [-0.023173771798610687, -0.0009359957766719162, -0.021764786913990974, 0.018287889659404755, -0.008924626745283604, ...  \n",
       "4  [-0.02770255133509636, -0.020968427881598473, 0.018577206879854202, 0.07044970989227295, -0.01204716507345438, 0.049...  "
      ]
     },
     "execution_count": 50,
     "metadata": {},
     "output_type": "execute_result"
    }
   ],
   "source": [
    "vector_store.head()"
   ]
  },
  {
   "cell_type": "code",
   "execution_count": 51,
   "id": "17447cb9-ada3-4469-821b-23497d42601e",
   "metadata": {
    "tags": []
   },
   "outputs": [
    {
     "data": {
      "text/plain": [
       "numpy.ndarray"
      ]
     },
     "execution_count": 51,
     "metadata": {},
     "output_type": "execute_result"
    }
   ],
   "source": [
    "type(vector_store['embeddings'][0])"
   ]
  },
  {
   "cell_type": "markdown",
   "id": "3a296d36-0528-4127-bc95-e20f18e45aef",
   "metadata": {},
   "source": [
    "## Instructing the model to only use text retrieved from vector store for answer generation¶"
   ]
  },
  {
   "cell_type": "code",
   "execution_count": 53,
   "id": "0b291e70-3980-4888-ab36-f232d92968b8",
   "metadata": {
    "tags": []
   },
   "outputs": [],
   "source": [
    "def get_context(question, vector_store, num_docs):\n",
    "    # Embed the search query\n",
    "    query_vector = np.array(get_embeddings(question))\n",
    "\n",
    "    # Get similarity to all other vectors and sort, cut off at num_docs\n",
    "    top_matched = (\n",
    "        vector_store[\"embeddings\"]\n",
    "        .apply(get_similarity_fn(query_vector))\n",
    "        .sort_values(ascending=False)[:num_docs]\n",
    "        .index\n",
    "    )\n",
    "    top_matched_df = vector_store[vector_store.index.isin(top_matched)][[\"texts\"]]\n",
    "\n",
    "    # Return a string with the top matches\n",
    "    context = \" \".join(top_matched_df.texts.values)\n",
    "    return context"
   ]
  },
  {
   "cell_type": "code",
   "execution_count": 54,
   "id": "9030ed3f-0fac-4b6d-b199-a80874e6af0f",
   "metadata": {
    "tags": []
   },
   "outputs": [
    {
     "name": "stdout",
     "output_type": "stream",
     "text": [
      "South Loop It’s home to the lakefront Museum Campus, where you’ll find three of Chicago’s biggest museums. Also in the South Loop, you’ll find celebrated jazz clubs, a mix of crowd-pleasing restaurants, and vibrant historic areas like industrial Motor Row and charming the Prairie Avenue District. It’s a little mind-blowing arriving on the site of Chicago’s Museum Campus. The three gorgeous neoclas , now an entertainment destination with the colorful Lips Drag Palace, VU Rooftop bar, Duneyrr Fermenta brewery, and more. In the nearby Prairie Avenue District, you can stroll “Millionaire’s Row,” lined with mansions that once belonged to Chicago’s elite, including the historic Glessner House museum. The South Loop is also home to Soldier Field, which means you’ll find plenty of Bears fans here i r Field Soldier Field Soldier Field See all events in South Loop Discover more in South Loop With trendy restaurants, cozy coffee shops, cocktail bars and shops on just about every corner, there’s endless ways to spend a day in this bustling neighborhood. When it comes to laid-back neighborhoods in Chicago, Edgewater takes the crown. But don’t let its chill vibe fool you — this charming district i story, notable residents, and legacy as a hub for African American life and culture. Northalsted (also known as Boystown) is known around the world as the oldest official recognized gay neighborhood in the country. This eclectic quality gives this neighborhood a small-town feel in the middle of a big, dynamic city. If you’re looking for a good time, look no further than Wrigleyville. You'll find l n your choice of neighborhoods, language and interests. Explore all neighborhoods Even locals might not be able to point to Chicago’s West Town on a map. The neighborhood’s indistinct boundaries (roughly surrounded by Wicker Park to… Weinberg/Newton Gallery See all events in West Town Discover more in West Town With trendy restaurants, cozy coffee shops, cocktail bars and shops on just about every  and culture. Northalsted (also known as Boystown) is known around the world as the oldest official recognized gay neighborhood in the country. This eclectic quality gives this neighborhood a small-town feel in the middle of a big, dynamic city. If you’re looking for a good time, look no further than Wrigleyville. You'll find lively sports bars, cool new restaurants, and (of course) the Chicago Cu nd interests. Explore all neighborhoods Logan Square is a one-of-a-kind neighborhood that you can really only find in Chicago. This long-time Latino community has seen an influx of new residents… Comfort Station See all events in Logan Square Discover more in Logan Square With trendy restaurants, cozy coffee shops, cocktail bars and shops on just about every corner, there’s endless ways to spend a y as a hub for African American life and culture. Northalsted (also known as Boystown) is known around the world as the oldest official recognized gay neighborhood in the country. This eclectic quality gives this neighborhood a small-town feel in the middle of a big, dynamic city. If you’re looking for a good time, look no further than Wrigleyville. You'll find lively sports bars, cool new restaur story, notable residents, and legacy as a hub for African American life and culture. Northalsted (also known as Boystown) is known around the world as the oldest official recognized gay neighborhood in the country. This eclectic quality gives this neighborhood a small-town feel in the middle of a big, dynamic city. If you’re looking for a good time, look no further than Wrigleyville. You'll find l orhood. Dubbed the city’s “Black Metropolis,” this south side community served as the headquarters for African American… Discover more in Bronzeville With trendy restaurants, cozy coffee shops, cocktail bars and shops on just about every corner, there’s endless ways to spend a day in this bustling neighborhood. When it comes to laid-back neighborhoods in Chicago, Edgewater takes the crown. But don\n"
     ]
    }
   ],
   "source": [
    "user_query = 'Tell me about South Loop.'\n",
    "context = get_context(question = user_query, vector_store=vector_store, num_docs=10)\n",
    "print(context)"
   ]
  },
  {
   "cell_type": "code",
   "execution_count": 22,
   "id": "ada3ebbf-b7f0-442e-aa83-d8f4bb1c6e16",
   "metadata": {
    "tags": []
   },
   "outputs": [],
   "source": [
    "def generate_prompt_rag_neighborhood(instruction, context, user_query):\n",
    "    instruction = instruction.replace(\"{CONTEXT}\", context)\n",
    "    return instruction.replace(\"{USER_QUERY}\", user_query)"
   ]
  },
  {
   "cell_type": "code",
   "execution_count": 23,
   "id": "58dce6e7-2f6a-4d47-aa7d-1883f22a4640",
   "metadata": {
    "tags": []
   },
   "outputs": [],
   "source": [
    "instruction_rag_neighborhood = \"\"\"\n",
    "### Instructions ###\n",
    "You will act as a local neighborhood advisor to answer the question described in the 'User's query' below.\n",
    "Your mission is to provide answers based on the given 'Context' below. Before responding, ensure that your answer complies with your mission.\n",
    "Only provide information from the context. If the information is not in the context, respond with \"I don't know the answer to that.\"\n",
    "\n",
    "### User’s query ###\n",
    "{USER_QUERY}\n",
    "\n",
    "### Context ###\n",
    "{CONTEXT}\n",
    "\n",
    "### Output ###\n",
    "\"\"\""
   ]
  },
  {
   "cell_type": "code",
   "execution_count": 24,
   "id": "6b50fecb-6523-485a-8cac-f423ab0236b8",
   "metadata": {
    "tags": []
   },
   "outputs": [
    {
     "name": "stdout",
     "output_type": "stream",
     "text": [
      "\n",
      "### Instructions ###\n",
      "You will act as a local neighborhood advisor to answer the question described in the 'User's query' below.\n",
      "Your mission is to provide answers based on the given 'Context' below. Before responding, ensure that your answer complies with your mission.\n",
      "Only provide information from the context. If the information is not in the context, respond with \"I don't know the answer to that.\"\n",
      "\n",
      "### User’s query ###\n",
      "Tell me about South Loop.\n",
      "\n",
      "### Context ###\n",
      "South Loop It’s home to the lakefront Museum Campus, where you’ll find three of Chicago’s biggest museums. Also in the South Loop, you’ll find celebrated jazz clubs, a mix of crowd-pleasing restaurants, and vibrant historic areas like industrial Motor Row and charming the Prairie Avenue District. It’s a little mind-blowing arriving on the site of Chicago’s Museum Campus. The three gorgeous neoclas , now an entertainment destination with the colorful Lips Drag Palace, VU Rooftop bar, Duneyrr Fermenta brewery, and more. In the nearby Prairie Avenue District, you can stroll “Millionaire’s Row,” lined with mansions that once belonged to Chicago’s elite, including the historic Glessner House museum. The South Loop is also home to Soldier Field, which means you’ll find plenty of Bears fans here i r Field Soldier Field Soldier Field See all events in South Loop Discover more in South Loop With trendy restaurants, cozy coffee shops, cocktail bars and shops on just about every corner, there’s endless ways to spend a day in this bustling neighborhood. When it comes to laid-back neighborhoods in Chicago, Edgewater takes the crown. But don’t let its chill vibe fool you — this charming district i story, notable residents, and legacy as a hub for African American life and culture. Northalsted (also known as Boystown) is known around the world as the oldest official recognized gay neighborhood in the country. This eclectic quality gives this neighborhood a small-town feel in the middle of a big, dynamic city. If you’re looking for a good time, look no further than Wrigleyville. You'll find l n your choice of neighborhoods, language and interests. Explore all neighborhoods Even locals might not be able to point to Chicago’s West Town on a map. The neighborhood’s indistinct boundaries (roughly surrounded by Wicker Park to… Weinberg/Newton Gallery See all events in West Town Discover more in West Town With trendy restaurants, cozy coffee shops, cocktail bars and shops on just about every  and culture. Northalsted (also known as Boystown) is known around the world as the oldest official recognized gay neighborhood in the country. This eclectic quality gives this neighborhood a small-town feel in the middle of a big, dynamic city. If you’re looking for a good time, look no further than Wrigleyville. You'll find lively sports bars, cool new restaurants, and (of course) the Chicago Cu nd interests. Explore all neighborhoods Logan Square is a one-of-a-kind neighborhood that you can really only find in Chicago. This long-time Latino community has seen an influx of new residents… Comfort Station See all events in Logan Square Discover more in Logan Square With trendy restaurants, cozy coffee shops, cocktail bars and shops on just about every corner, there’s endless ways to spend a y as a hub for African American life and culture. Northalsted (also known as Boystown) is known around the world as the oldest official recognized gay neighborhood in the country. This eclectic quality gives this neighborhood a small-town feel in the middle of a big, dynamic city. If you’re looking for a good time, look no further than Wrigleyville. You'll find lively sports bars, cool new restaur story, notable residents, and legacy as a hub for African American life and culture. Northalsted (also known as Boystown) is known around the world as the oldest official recognized gay neighborhood in the country. This eclectic quality gives this neighborhood a small-town feel in the middle of a big, dynamic city. If you’re looking for a good time, look no further than Wrigleyville. You'll find l orhood. Dubbed the city’s “Black Metropolis,” this south side community served as the headquarters for African American… Discover more in Bronzeville With trendy restaurants, cozy coffee shops, cocktail bars and shops on just about every corner, there’s endless ways to spend a day in this bustling neighborhood. When it comes to laid-back neighborhoods in Chicago, Edgewater takes the crown. But don\n",
      "\n",
      "### Output ###\n",
      "\n"
     ]
    }
   ],
   "source": [
    "# Example\n",
    "prompt_rag_neighborhood = generate_prompt_rag_neighborhood(instruction_rag_neighborhood, context, user_query)\n",
    "print(prompt_rag_neighborhood)"
   ]
  },
  {
   "cell_type": "markdown",
   "id": "710925de-f394-41ce-b302-878954e6aae5",
   "metadata": {
    "tags": []
   },
   "source": [
    "## Test - without context"
   ]
  },
  {
   "cell_type": "code",
   "execution_count": 25,
   "id": "15fabf98-7e10-44c9-b3a1-dac57ce2735b",
   "metadata": {
    "tags": []
   },
   "outputs": [
    {
     "name": "stdout",
     "output_type": "stream",
     "text": [
      "## The South Loop: A Diverse and Dynamic Chicago Neighborhood \n",
      "\n",
      "The South Loop is a vibrant and rapidly changing neighborhood located just south of Chicago's Loop, the city's central business district. Once an industrial area, the South Loop has undergone a significant transformation in recent decades, evolving into a thriving residential and commercial hub. \n",
      "\n",
      "Here's a glimpse into the South Loop:\n",
      "\n",
      "**Location and Boundaries:** \n",
      "\n",
      "- Bordered by the Chicago River to the north, Roosevelt Road to the south, the South Branch of the Chicago River to the west, and Lake Michigan to the east.\n",
      "- Easily accessible via public transportation, with several CTA train and bus lines running through the area.\n",
      "\n",
      "**Character and Vibe:** \n",
      "\n",
      "- A mix of historic and modern architecture, with many converted loft buildings and new high-rise developments. \n",
      "- Lively atmosphere, with a diverse population of young professionals, families, and students. \n",
      "- Growing culinary scene, boasting trendy restaurants, cafes, and bars. \n",
      "- Numerous cultural attractions, including the Art Institute of Chicago, the Field Museum, and the Shedd Aquarium, all within walking distance. \n",
      "- Abundance of green spaces, such as Grant Park, Burnham Park, and the Museum Campus, offering opportunities for recreation and relaxation. \n",
      "\n",
      "**Things to Do:** \n",
      "\n",
      "- Explore the shops and boutiques along State Street.\n",
      "- Take a walk or bike ride along the scenic Lakefront Trail.\n",
      "- Visit the historic Printers Row district, known for its charming bookstores and literary events. \n",
      "- Enjoy a picnic in Grant Park, with stunning views of the city skyline. \n",
      "- Catch a performance at the historic Auditorium Theatre or the Harris Theater for Music and Dance. \n",
      "- Sample the diverse culinary offerings, from Michelin-starred restaurants to casual eateries.\n",
      "\n",
      "**Overall, the South Loop offers a unique blend of urban living and cultural attractions, making it an ideal choice for those seeking a vibrant and dynamic neighborhood experience in Chicago.**\n",
      "\n",
      "**Here are some additional resources you might find helpful:**\n",
      "\n",
      "* **South Loop Neighbors Association:** https://southloopneighbors.org/ \n",
      "* **Choose Chicago - South Loop:** https://www.choosechicago.com/neighborhoods/south-loop/ \n",
      "* **Wikipedia - South Loop:** https://en.wikipedia.org/wiki/South_Loop,_Chicago \n",
      "* **TimeOut - Things to do in South Loop:** https://www.timeout.com/chicago/things-to-do/south-loop \n",
      "\n",
      "Please let me know if you have any specific questions about the South Loop or if there's anything else I can help you with. \n",
      "\n"
     ]
    }
   ],
   "source": [
    "user_query = 'Tell me about South Loop.'\n",
    "print(get_chat_response(chat, user_query))"
   ]
  },
  {
   "cell_type": "code",
   "execution_count": 26,
   "id": "98e95699-ddd4-4d87-838a-771346036a9b",
   "metadata": {
    "tags": []
   },
   "outputs": [
    {
     "name": "stdout",
     "output_type": "stream",
     "text": [
      "## Exploring Hyde Park: A Chicago Gem\n",
      "\n",
      "Hyde Park is a historic and vibrant neighborhood on the South Side of Chicago, Illinois. It's renowned for its beautiful architecture, world-class educational institutions, and diverse cultural offerings. Let's delve into what makes Hyde Park so special:\n",
      "\n",
      "**Location and Character:**\n",
      "\n",
      "* Situated along the shores of Lake Michigan, Hyde Park offers stunning lakefront views and easy access to the lakefront trail for walking, biking, and rollerblading.\n",
      "* The neighborhood boasts a mix of architectural styles, including grand mansions, charming cottages, and modern high-rises. \n",
      "* Hyde Park is home to a vibrant community with a strong sense of history and tradition.\n",
      "\n",
      "**Educational Hub:**\n",
      "\n",
      "* The University of Chicago, a world-renowned institution, is the heart of Hyde Park. Its beautiful campus and intellectual atmosphere contribute significantly to the neighborhood's character.\n",
      "* The presence of the university attracts renowned scholars, researchers, and students, creating a stimulating intellectual environment.\n",
      "\n",
      "**Cultural and Recreational Delights:**\n",
      "\n",
      "* The Museum of Science and Industry, one of the world's largest science museums, offers interactive exhibits and fascinating displays for all ages.\n",
      "* The Oriental Institute Museum houses an extensive collection of artifacts from ancient civilizations, offering a glimpse into the world's history.\n",
      "* The Hyde Park Art Center showcases contemporary art exhibitions and provides art education programs for the community.\n",
      "* The historic Harper Theater, a beautifully restored movie palace, hosts a variety of films and live performances.\n",
      "* The 57th Street Art Fair, one of the nation's oldest and largest outdoor art fairs, takes place every fall, showcasing the works of hundreds of artists.\n",
      "\n",
      "**Additional Attractions:**\n",
      "\n",
      "* Explore the beautiful gardens and lagoons of Jackson Park, designed by Frederick Law Olmsted.\n",
      "* Visit the Osaka Garden, a tranquil Japanese garden with koi ponds and traditional tea houses.\n",
      "* Attend a performance at the Court Theatre, known for its intimate setting and high-quality productions.\n",
      "* Enjoy a picnic lunch or people-watch at Promontory Point, offering panoramic views of the city skyline.\n",
      "\n",
      "**Hyde Park offers a unique blend of academic excellence, cultural vibrancy, and natural beauty, making it an ideal place to live, work, and explore.**\n",
      "\n",
      "**To learn more about Hyde Park, you can visit the following resources:**\n",
      "\n",
      "* Hyde Park Neighborhood Association: https://hydepark.org/\n",
      "* Choose Chicago - Hyde Park: https://www.choosechicago.com/neighborhoods/hyde-park/\n",
      "* Wikipedia - Hyde Park, Chicago: https://en.wikipedia.org/wiki/Hyde_Park,_Chicago\n",
      "* Hyde Park Historical Society: https://hydeparkhistory.org/\n",
      "\n",
      "Do you have any specific questions about Hyde Park or are you interested in learning more about any particular aspect of the neighborhood? \n",
      "\n"
     ]
    }
   ],
   "source": [
    "user_query = 'Tell me about Hyde Park'\n",
    "print(get_chat_response(chat, user_query))"
   ]
  },
  {
   "cell_type": "code",
   "execution_count": 27,
   "id": "43ac1aa1-cbf9-47c3-a0d7-2b32a1faff36",
   "metadata": {
    "tags": []
   },
   "outputs": [
    {
     "name": "stdout",
     "output_type": "stream",
     "text": [
      "## Unveiling Streeterville: A Vibrant Chicago Heart\n",
      "\n",
      "Streeterville is a thriving neighborhood located along the Magnificent Mile in downtown Chicago, offering a blend of luxury living, world-class entertainment, and breathtaking views of Lake Michigan. Let's explore what makes Streeterville a standout destination:\n",
      "\n",
      "**Location and Character:**\n",
      "\n",
      "* Situated between the Chicago River and Lake Michigan, Streeterville offers stunning waterfront views and easy access to the scenic lakefront trail.\n",
      "* The neighborhood boasts a mix of high-rise residential buildings, luxury hotels, and renowned cultural institutions.\n",
      "* Streeterville exudes a vibrant and upscale atmosphere, attracting both residents and visitors seeking a sophisticated urban experience.\n",
      "\n",
      "**Entertainment and Attractions:**\n",
      "\n",
      "* The iconic Navy Pier, with its Ferris wheel, amusement park rides, shops, and restaurants, is a major attraction in Streeterville.\n",
      "* The Museum of Contemporary Art Chicago showcases thought-provoking exhibitions of contemporary art from around the world.\n",
      "* The Chicago Shakespeare Theater presents both classic and contemporary productions in a unique setting.\n",
      "* The John Hancock Center, with its observation deck offering panoramic city views, is a popular tourist destination.\n",
      "* Numerous upscale restaurants, bars, and nightclubs cater to a diverse range of tastes and preferences.\n",
      "\n",
      "**Cultural and Architectural Gems:**\n",
      "\n",
      "* The Chicago Water Tower, one of the city's oldest surviving buildings, stands as a testament to the city's resilience after the Great Chicago Fire.\n",
      "* The Pumping Station, a former water pumping station, has been transformed into a unique events venue with stunning architectural features.\n",
      "* The Wrigley Building, known for its iconic clock tower, is a prominent landmark in the neighborhood.\n",
      "* The Tribune Tower, with its collection of gargoyles and architectural details from around the world, is a fascinating piece of architectural history.\n",
      "\n",
      "**Living in Streeterville:**\n",
      "\n",
      "* Streeterville offers a variety of housing options, from luxury apartments to high-rise condominiums, catering to a variety of budgets and lifestyles.\n",
      "* The neighborhood provides convenient access to public transportation, including the CTA Red Line and various bus routes.\n",
      "* Residents enjoy close proximity to employment opportunities in the Loop, the city's central business district.\n",
      "\n",
      "**Whether you're seeking entertainment, cultural experiences, or a luxurious urban lifestyle, Streeterville has something to offer everyone. To delve deeper into this vibrant neighborhood, you can explore these resources:**\n",
      "\n",
      "* Choose Chicago - Streeterville: https://www.choosechicago.com/neighborhoods/streeterville/\n",
      "* Streeterville Organization of Active Residents: https://soarchicago.org/\n",
      "* Wikipedia - Streeterville: https://en.wikipedia.org/wiki/Streeterville\n",
      "* Time Out - Things to do in Streeterville: https://www.timeout.com/chicago/things-to-do/streeterville\n",
      "\n",
      "Do you have any specific questions about Streeterville or are you interested in exploring a particular aspect of the neighborhood in more detail?\n"
     ]
    }
   ],
   "source": [
    "user_query = 'Tell me about streeterville.'\n",
    "print(get_chat_response(chat, user_query))"
   ]
  },
  {
   "cell_type": "markdown",
   "id": "a12c7dcd-bc0d-4a5f-b4e5-964046ec4719",
   "metadata": {},
   "source": [
    "## Test - with context"
   ]
  },
  {
   "cell_type": "code",
   "execution_count": 28,
   "id": "e1d491b1-f340-4b8f-9237-42fb27e676a8",
   "metadata": {
    "tags": []
   },
   "outputs": [
    {
     "name": "stdout",
     "output_type": "stream",
     "text": [
      "####Context:#### South Loop It’s home to the lakefront Museum Campus, where you’ll find three of Chicago’s biggest museums. Also in the South Loop, you’ll find celebrated jazz clubs, a mix of crowd-pleasing restaurants, and vibrant historic areas like industrial Motor Row and charming the Prairie Avenue District. It’s a little mind-blowing arriving on the site of Chicago’s Museum Campus. The three gorgeous neoclas , now an entertainment destination with the colorful Lips Drag Palace, VU Rooftop bar, Duneyrr Fermenta brewery, and more. In the nearby Prairie Avenue District, you can stroll “Millionaire’s Row,” lined with mansions that once belonged to Chicago’s elite, including the historic Glessner House museum. The South Loop is also home to Soldier Field, which means you’ll find plenty of Bears fans here i r Field Soldier Field Soldier Field See all events in South Loop Discover more in South Loop With trendy restaurants, cozy coffee shops, cocktail bars and shops on just about every corner, there’s endless ways to spend a day in this bustling neighborhood. When it comes to laid-back neighborhoods in Chicago, Edgewater takes the crown. But don’t let its chill vibe fool you — this charming district i story, notable residents, and legacy as a hub for African American life and culture. Northalsted (also known as Boystown) is known around the world as the oldest official recognized gay neighborhood in the country. This eclectic quality gives this neighborhood a small-town feel in the middle of a big, dynamic city. If you’re looking for a good time, look no further than Wrigleyville. You'll find l n your choice of neighborhoods, language and interests. Explore all neighborhoods Even locals might not be able to point to Chicago’s West Town on a map. The neighborhood’s indistinct boundaries (roughly surrounded by Wicker Park to… Weinberg/Newton Gallery See all events in West Town Discover more in West Town With trendy restaurants, cozy coffee shops, cocktail bars and shops on just about every  and culture. Northalsted (also known as Boystown) is known around the world as the oldest official recognized gay neighborhood in the country. This eclectic quality gives this neighborhood a small-town feel in the middle of a big, dynamic city. If you’re looking for a good time, look no further than Wrigleyville. You'll find lively sports bars, cool new restaurants, and (of course) the Chicago Cu nd interests. Explore all neighborhoods Logan Square is a one-of-a-kind neighborhood that you can really only find in Chicago. This long-time Latino community has seen an influx of new residents… Comfort Station See all events in Logan Square Discover more in Logan Square With trendy restaurants, cozy coffee shops, cocktail bars and shops on just about every corner, there’s endless ways to spend a y as a hub for African American life and culture. Northalsted (also known as Boystown) is known around the world as the oldest official recognized gay neighborhood in the country. This eclectic quality gives this neighborhood a small-town feel in the middle of a big, dynamic city. If you’re looking for a good time, look no further than Wrigleyville. You'll find lively sports bars, cool new restaur story, notable residents, and legacy as a hub for African American life and culture. Northalsted (also known as Boystown) is known around the world as the oldest official recognized gay neighborhood in the country. This eclectic quality gives this neighborhood a small-town feel in the middle of a big, dynamic city. If you’re looking for a good time, look no further than Wrigleyville. You'll find l orhood. Dubbed the city’s “Black Metropolis,” this south side community served as the headquarters for African American… Discover more in Bronzeville With trendy restaurants, cozy coffee shops, cocktail bars and shops on just about every corner, there’s endless ways to spend a day in this bustling neighborhood. When it comes to laid-back neighborhoods in Chicago, Edgewater takes the crown. But don\n",
      "####Final response#### ## South Loop: A Vibrant Neighborhood with a Mix of History and Modernity\n",
      "\n",
      "The South Loop is a dynamic and rapidly changing neighborhood located just south of Chicago's Loop, the city's central business district. It's a fascinating blend of historic charm and modern development, offering cultural attractions, green spaces, and a thriving culinary scene.\n",
      "\n",
      "**Location and Accessibility:**\n",
      "\n",
      "* South Loop is conveniently situated between the Chicago River, Lake Michigan, and Roosevelt Road.\n",
      "* It's easily accessible via public transportation, with several CTA train and bus lines running through the area.\n",
      "\n",
      "**Character and Vibe:**\n",
      "\n",
      "* The neighborhood boasts a mix of historic architecture, including converted loft buildings, and modern high-rise developments.\n",
      "* It has a lively atmosphere with a diverse population of young professionals, families, and students.\n",
      "* The South Loop is known for its trendy restaurants, cafes, and bars, offering a variety of culinary experiences.\n",
      "* Cultural attractions are abundant, with the Art Institute of Chicago, the Field Museum, and the Shedd Aquarium all within walking distance.\n",
      "\n",
      "**Things to Do and See:**\n",
      "\n",
      "* Explore the Museum Campus, home to three of Chicago's biggest museums: the Field Museum, the Shedd Aquarium, and the Adler Planetarium.\n",
      "* Visit the historic Printers Row district, known for its charming bookstores and literary events.\n",
      "* Enjoy a picnic or outdoor activities in Grant Park, with stunning views of the city skyline.\n",
      "* Take a stroll along the scenic Lakefront Trail, offering walking, biking, and rollerblading opportunities.\n",
      "* Discover the vibrant nightlife scene in the South Loop, with trendy bars, live music venues, and comedy clubs.\n",
      "* Sample the diverse culinary offerings, from Michelin-starred restaurants to casual eateries representing various cuisines.\n",
      "\n",
      "**South Loop offers a unique urban living experience with a blend of cultural attractions, green spaces, and a thriving culinary scene. It's a neighborhood that caters to diverse interests and offers something for everyone.**\n",
      "\n",
      "**Additional Resources:**\n",
      "\n",
      "* Choose Chicago - South Loop: https://www.choosechicago.com/neighborhoods/south-loop/\n",
      "* South Loop Neighbors Association: https://southloopneighbors.org/\n",
      "* Wikipedia - South Loop, Chicago: https://en.wikipedia.org/wiki/South_Loop,_Chicago\n",
      "* Time Out Chicago - Things to do in South Loop: https://www.timeout.com/chicago/things-to-do/south-loop\n",
      "\n",
      "Do you have any specific questions about the South Loop or would you like to explore a particular aspect of the neighborhood in more detail?\n",
      "\n"
     ]
    }
   ],
   "source": [
    "user_query = 'Tell me about South Loop.'\n",
    "context = get_context(question = user_query, vector_store=vector_store, num_docs=10)\n",
    "prompt_rag_neighborhood = generate_prompt_rag_neighborhood(instruction_rag_neighborhood, context, user_query)\n",
    "print('####Context:####', context)\n",
    "print('####Final response####', get_chat_response(chat, prompt_rag_neighborhood))"
   ]
  },
  {
   "cell_type": "code",
   "execution_count": 29,
   "id": "f6abb88d-8cfa-461d-9737-185f737037fd",
   "metadata": {
    "tags": []
   },
   "outputs": [
    {
     "name": "stdout",
     "output_type": "stream",
     "text": [
      "####Context:#### Hyde Park  It was the site of the Chicago World’s Fair of 1893, home to former President Barack Obama, an incubator for Nobel Prize winners — basically, history is made in Hyde Park. Get hands-on at the science museum: This culturally rich neighborhood is bookended by two of the city’s most significant institutions — the University of Chicago to the west and the Museum of Science and Industry to t  and culture: Also near Hyde Park, the DuSable Black History Museum is the country’s first institution dedicated to African American history and culture. It resides within Washington Park, home to a bird and butterfly sanctuary and the much-photographed Fountain of Time. And the Hyde Park Art Center has been a powerhouse on the art scene for more than 70 years, claiming the title of oldest alterna Theatre See all events in Hyde Park Discover more in Hyde Park With trendy restaurants, cozy coffee shops, cocktail bars and shops on just about every corner, there’s endless ways to spend a day in this bustling neighborhood. When it comes to laid-back neighborhoods in Chicago, Edgewater takes the crown. But don’t let its chill vibe fool you — this charming district is… While many visitors to Chic  charming district is… While many visitors to Chicago have spent time in Hyde Park (home to Jackson Park and the Museum of Science and Industry), the surrounding Washington… Chicago’s Garfield Park neighborhood is a nature lover’s paradise. The area is home to a sprawling chain of green spaces, with the historic Garfield Park… The historic Pullman neighborhood is the first and only National Monume ool you — this charming district is… While many visitors to Chicago have spent time in Hyde Park (home to Jackson Park and the Museum of Science and Industry), the surrounding Washington… Chicago’s Garfield Park neighborhood is a nature lover’s paradise. The area is home to a sprawling chain of green spaces, with the historic Garfield Park… The historic Pullman neighborhood is the first and only N ill vibe fool you — this charming district is… While many visitors to Chicago have spent time in Hyde Park (home to Jackson Park and the Museum of Science and Industry), the surrounding Washington… Chicago’s Garfield Park neighborhood is a nature lover’s paradise. The area is home to a sprawling chain of green spaces, with the historic Garfield Park… The historic Pullman neighborhood is the first   time in Hyde Park (home to Jackson Park and the Museum of Science and Industry), the surrounding Washington… Chicago’s Garfield Park neighborhood is a nature lover’s paradise. The area is home to a sprawling chain of green spaces, with the historic Garfield Park… The historic Pullman neighborhood is the first and only National Monument and unit of the National Park System in the city of Chicago.   district is… While many visitors to Chicago have spent time in Hyde Park (home to Jackson Park and the Museum of Science and Industry), the surrounding Washington… Chicago’s Garfield Park neighborhood is a nature lover’s paradise. The area is home to a sprawling chain of green spaces, with the historic Garfield Park… The historic Pullman neighborhood is the first and only National Monument and un ool you — this charming district is… While many visitors to Chicago have spent time in Hyde Park (home to Jackson Park and the Museum of Science and Industry), the surrounding Washington… Chicago’s Garfield Park neighborhood is a nature lover’s paradise. The area is home to a sprawling chain of green spaces, with the historic Garfield Park… The historic Pullman neighborhood is the first and only N  public art, and lush green space. Humboldt (Alexander Von) Park Humboldt (Alexander Von) Park Humboldt (Alexander Von) Park See all events in Humboldt Park Discover more in Humboldt Park With trendy restaurants, cozy coffee shops, cocktail bars and shops on just about every corner, there’s endless ways to spend a day in this bustling neighborhood. When it comes to laid-back neighborhoods in Chica\n",
      "####Final response#### ### Hyde Park: A Haven of History, Culture, and Green Spaces\n",
      "\n",
      "Hyde Park is a historic and vibrant neighborhood on Chicago's South Side, renowned for its beautiful architecture, world-class educational institutions, and diverse cultural offerings.\n",
      "\n",
      "**Location and Character:**\n",
      "\n",
      "* Situated along the shores of Lake Michigan, Hyde Park offers stunning lakefront views and easy access to the lakefront trail.\n",
      "* The neighborhood boasts a mix of architectural styles, including grand mansions, charming cottages, and modern high-rises. \n",
      "* Renowned for its strong sense of history and tradition, Hyde Park attracts diverse residents, students, and intellectuals.\n",
      "\n",
      "**Educational Hub:**\n",
      "\n",
      "* The University of Chicago, a world-renowned institution, anchors Hyde Park. Its beautiful campus and intellectual environment contribute significantly to the neighborhood's character and attracts esteemed scholars, researchers, and students.\n",
      "\n",
      "**Cultural and Educational Delights:**\n",
      "\n",
      "* The Museum of Science and Industry, one of the world largest, offers interactive exhibits and fascinating displays for all ages.\n",
      "* The Oriental Institute Museum houses an extensive collection of artifacts from ancient civilizations, offering insights into the world's history.\n",
      "* The Hyde Park Art Center showcases contemporary art exhibitions and provides art education programs for the community.\n",
      "* The historic Harper Theater, a beautifully restored movie palace, hosts various films and live performances.\n",
      "* The 57th Street Art Fair, one of the nation's oldest and largest, showcases works of hundreds of artists every fall.\n",
      "\n",
      "**Additional Attractions and Activities:**\n",
      "\n",
      "* Explore the beautiful gardens and lagoons of Jackson Park, designed by Frederick Law Olmsted.\n",
      "* Visit the Osaka Garden, a tranquil Japanese garden with koi ponds and traditional tea houses.\n",
      "* Take in a performance at the Court Theatre, known for its intimate setting and high-quality productions.\n",
      "* Enjoy a picnic lunch or people-watch at Promontory Point, offering panoramic views of the city skyline.\n",
      "\n",
      "**Hyde Park offers a unique blend of academic excellence, cultural vibrancy, and natural beauty, making it an ideal place to live, work, and explore. For further information and resources about Hyde Park, you can visit:**\n",
      "\n",
      "* Hyde Park Neighborhood Association: https://hydepark.org/\n",
      "* Choose Chicago - Hyde Park: https://www.choosechicago.com/neighborhoods/hyde-park/\n",
      "* Wikipedia - Hyde Park, Chicago: https://en.wikipedia.org/wiki/Hyde_Park,_Chicago\n",
      "* Hyde Park Historical Society: https://hydeparkhistory.org/\n",
      "\n",
      "Do you have any specific questions about Hyde Park, or are you interested in learning more about any particular aspect of the neighborhood?\n",
      "\n"
     ]
    }
   ],
   "source": [
    "user_query = 'Tell me about Hyde Park'\n",
    "context = get_context(question = user_query, vector_store=vector_store, num_docs=10)\n",
    "prompt_rag_neighborhood = generate_prompt_rag_neighborhood(instruction_rag_neighborhood, context, user_query)\n",
    "print('####Context:####', context)\n",
    "print('####Final response####', get_chat_response(chat, prompt_rag_neighborhood))"
   ]
  },
  {
   "cell_type": "code",
   "execution_count": 30,
   "id": "96cabaec-6ce9-4904-b841-883ee0224515",
   "metadata": {
    "tags": []
   },
   "outputs": [
    {
     "name": "stdout",
     "output_type": "stream",
     "text": [
      "####Context:#### American life and culture. Northalsted (also known as Boystown) is known around the world as the oldest official recognized gay neighborhood in the country. This eclectic quality gives this neighborhood a small-town feel in the middle of a big, dynamic city. If you’re looking for a good time, look no further than Wrigleyville. You'll find lively sports bars, cool new restaurants, and (of course) t story, notable residents, and legacy as a hub for African American life and culture. Northalsted (also known as Boystown) is known around the world as the oldest official recognized gay neighborhood in the country. This eclectic quality gives this neighborhood a small-town feel in the middle of a big, dynamic city. If you’re looking for a good time, look no further than Wrigleyville. You'll find l Wrigleyville Wrigleyville is home to historic Wrigley Field, the second oldest ballpark in the country. Whether or not you’re a sports fan, you can’t help catching a little Cubs fever while you’re here. Wrigley Field, also called “The Friendly Confines,” is famous for its ivy-covered outfield walls, manual scoreboard, and lively atmosphere. It’s also home to the Chicago Cubs, famous for their 108- story, notable residents, and legacy as a hub for African American life and culture. Northalsted (also known as Boystown) is known around the world as the oldest official recognized gay neighborhood in the country. This eclectic quality gives this neighborhood a small-town feel in the middle of a big, dynamic city. If you’re looking for a good time, look no further than Wrigleyville. You'll find l Streeterville There’s nothing not to love about stunning Streeterville. This buzzing enclave is home to historic Navy Pier, the provocative Museum of Contemporary Art, and a sweeping stretch of lakefront that offers easy access to everything Lake Michigan has to offer. Streeterville is where you’ll find Navy Pier, a family-friendly playland packed with amusement rides (including the 200-foot Cente customized based on your choice of neighborhoods, language and interests. Explore all neighborhoods Chicago Shakespeare Theatre Museum of Contemporary Art Museum of Contemporary Art Navy Pier Museum of Contemporary Art Museum of Contemporary Art Museum of Contemporary Art Navy Pier Navy Pier’s Polk Bros Park Navy Pier Navy Pier’s Polk Bros Park Navy Pier See all events in Streeterville Discover mo y Pier See all events in Streeterville Discover more in Streeterville With trendy restaurants, cozy coffee shops, cocktail bars and shops on just about every corner, there’s endless ways to spend a day in this bustling neighborhood. When it comes to laid-back neighborhoods in Chicago, Edgewater takes the crown. But don’t let its chill vibe fool you — this charming district is… While many visitors  American life and culture. Northalsted (also known as Boystown) is known around the world as the oldest official recognized gay neighborhood in the country. This eclectic quality gives this neighborhood a small-town feel in the middle of a big, dynamic city. If you’re looking for a good time, look no further than Wrigleyville. You'll find lively sports bars, cool new restaurants, and (of course) t ystem in the city of Chicago. Beverly has been called the “village in the city”, a beautiful, bucolic neighborhood filled with architecturally significant homes. This walking tour explores the area’s Puerto Rican heritage, colorful public art, and lush green space. Experience the area's rich history, notable residents, and legacy as a hub for African American life and culture. Northalsted (also kn an American life and culture. Northalsted (also known as Boystown) is known around the world as the oldest official recognized gay neighborhood in the country. This eclectic quality gives this neighborhood a small-town feel in the middle of a big, dynamic city. If you’re looking for a good time, look no further than Wrigleyville. You'll find lively sports bars, cool new restaurants, and (of course\n",
      "####Final response#### ## Streeterville: Chicago's Exquisite Lakeside Gem\n",
      "\n",
      "Streeterville, a vibrant and sophisticated neighborhood situated along the Magnificent Mile in downtown Chicago, offers a captivating blend of urban energy, waterfront charm, and high-class experiences. Let me unveil what makes this dazzling neighborhood a standout:\n",
      "\n",
      "**Prime Location and Character:**\n",
      "\n",
      "* Streeterville boasts an enviable location between the glimmering Chicago River and the vast Lake Michigan, offering stunning waterfront vistas and easy access to the scenic lakefront path.\n",
      "* This prestigious address embraces an array of architectural styles, including high-rise residential towers, luxury hotels, and renowned cultural institutions, exuding an upscale and vibrant ambiance that attracts residents and visitors seeking an extraordinary urban experience.\n",
      "\n",
      "**A Hub of Leisure and Entertainment:**\n",
      "\n",
      "* The iconic Navy Pier, a magnificent landmark renowned for its Ferris wheel, thrill rides, diverse restaurants and shops, stands as a major attraction in Streeterville.\n",
      "* Enrich your cultural knowledge at the Museum of Contemporary Art Chicago, where thought-provoking exhibitions showcase contemporary artistic expressions from across the globe.\n",
      "* Immerse yourself in the world of theater with a performance at the acclaimed Chicago Shakespeare Theater, presenting both classic and modern productions within its unique architectural setting.\n",
      "* Venture to the top of the John Hancock Center for breathtaking panoramic vistas of the cityscape.\n",
      "* Discover a diverse culinary landscape with an abundance of upscale restaurants, bars, and nightclubs catering to every taste and preference.\n",
      "\n",
      "**Cultural Treasures and Architectural Gems:**\n",
      "\n",
      "* Marvel at the historic Chicago Water Tower, one of the city's oldest surviving structures, a poignant testament to its resilience after the Great Chicago Fire.\n",
      "* The captivating Pumping Station, once a water pumping facility, has transformed into a unique event venue showcasing remarkable architectural features. \n",
      "* Gaze upon the iconic Wrigley Building, with its instantly recognizable clock tower, a prominent landmark within Streeterville's distinguished streetscape.\n",
      "* Embark on a historical exploration at the Tribune Tower, where intriguing gargoyles and architectural elements from around the world adorn its facade.\n",
      "\n",
      "**Elevated Living in Streeterville:**\n",
      "\n",
      "* Streeterville presents an array of housing options to suit diverse preferences and budgets, from luxury apartments to high-rise condominiums.\n",
      "* Residents enjoy seamless access to convenient public transportation options, including the CTA Red Line and an extensive bus network connecting them to the heart of Chicago's dynamism.\n",
      "* Proximity to employment opportunities in the Loop, the city's central business district, further adds to Streeterville's appeal for professionals seeking a convenient and vibrant lifestyle.\n",
      "\n",
      "**Whether you seek sophisticated entertainment, enriching cultural expeditions, or a luxurious urban living experience, Streeterville promises a captivating and memorable encounter.** To delve deeper into this remarkable neighborhood's allure, I suggest exploring these additional resources:\n",
      "\n",
      "* Choose Chicago - Streeterville: https://www.choosechicago.com/neighborhoods/streeterville/\n",
      "* Streeterville Organization of Active Residents: https://soarchicago.org/\n",
      "* Wikipedia - Streeterville: https://en.wikipedia.org/wiki/Streeterville\n",
      "* Time Out - Things to do in Streeterville: https://www.timeout.com/chicago/things-to-do/streeterville\n",
      "\n",
      "Do you have any specific inquiries about Streeterville or aspects of this captivating neighborhood that you would like to explore further? \n",
      "\n"
     ]
    }
   ],
   "source": [
    "user_query = 'Tell me about streeterville.'\n",
    "context = get_context(question = user_query, vector_store=vector_store, num_docs=10)\n",
    "prompt_rag_neighborhood = generate_prompt_rag_neighborhood(instruction_rag_neighborhood, context, user_query)\n",
    "print('####Context:####', context)\n",
    "print('####Final response####', get_chat_response(chat, prompt_rag_neighborhood))"
   ]
  },
  {
   "cell_type": "code",
   "execution_count": null,
   "id": "ad9a2d0d-50af-44be-acf9-802891054ac8",
   "metadata": {},
   "outputs": [],
   "source": []
  }
 ],
 "metadata": {
  "environment": {
   "kernel": "python3",
   "name": "tf2-cpu.2-11.m121",
   "type": "gcloud",
   "uri": "us-docker.pkg.dev/deeplearning-platform-release/gcr.io/tf2-cpu.2-11:m121"
  },
  "kernelspec": {
   "display_name": "Python 3 (Local)",
   "language": "python",
   "name": "python3"
  },
  "language_info": {
   "codemirror_mode": {
    "name": "ipython",
    "version": 3
   },
   "file_extension": ".py",
   "mimetype": "text/x-python",
   "name": "python",
   "nbconvert_exporter": "python",
   "pygments_lexer": "ipython3",
   "version": "3.10.14"
  }
 },
 "nbformat": 4,
 "nbformat_minor": 5
}
