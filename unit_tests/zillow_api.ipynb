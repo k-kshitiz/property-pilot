{
 "cells": [
  {
   "cell_type": "code",
   "execution_count": 3,
   "id": "8f25084a-ba0e-445e-8cee-985f15eedfee",
   "metadata": {
    "tags": []
   },
   "outputs": [],
   "source": [
    "%run /home/jupyter/property_pilot/scripts/chat_response.py"
   ]
  },
  {
   "cell_type": "code",
   "execution_count": 4,
   "id": "19c2cbd5-2a5a-4ca4-8c57-b7d9258d52b9",
   "metadata": {
    "tags": []
   },
   "outputs": [],
   "source": [
    "%run /home/jupyter/property_pilot/scripts/generate_api_filter.py"
   ]
  },
  {
   "cell_type": "code",
   "execution_count": 5,
   "id": "e3a4ff10-7437-4729-8cc1-345195b83608",
   "metadata": {
    "tags": []
   },
   "outputs": [],
   "source": [
    "%run /home/jupyter/property_pilot/scripts/fetch_property_info.py"
   ]
  },
  {
   "cell_type": "code",
   "execution_count": 6,
   "id": "8c385c19-24ba-4220-824a-751833890941",
   "metadata": {
    "tags": []
   },
   "outputs": [],
   "source": [
    "%run /home/jupyter/property_pilot/scripts/yelp_property.py"
   ]
  },
  {
   "cell_type": "code",
   "execution_count": 7,
   "id": "765e66e6-8c3a-452f-b692-ac61b7fc6d70",
   "metadata": {
    "tags": []
   },
   "outputs": [],
   "source": [
    "%run /home/jupyter/property_pilot/scripts/neighborhood_rag.py"
   ]
  },
  {
   "cell_type": "code",
   "execution_count": 8,
   "id": "7857137d-ea49-436c-9303-bd425ede0063",
   "metadata": {
    "tags": []
   },
   "outputs": [],
   "source": [
    "%run /home/jupyter/property_pilot/scripts/yelp_advisor.py"
   ]
  },
  {
   "cell_type": "code",
   "execution_count": 9,
   "id": "504d1833-58e4-4635-8f1c-7bb709055ed0",
   "metadata": {
    "tags": []
   },
   "outputs": [],
   "source": [
    "import requests"
   ]
  },
  {
   "cell_type": "code",
   "execution_count": 10,
   "id": "d7dd3860-6b04-42f0-95c3-2d5b9035f5fa",
   "metadata": {
    "tags": []
   },
   "outputs": [],
   "source": [
    "with open('/home/jupyter/zillow_api.txt', 'r') as file:\n",
    "    zillow_api = file.read()\n",
    "\n",
    "url = \"https://zillow-com1.p.rapidapi.com/propertyExtendedSearch\"\n",
    "\n",
    "headers = {\n",
    "\t\"X-RapidAPI-Key\": zillow_api,\n",
    "\t\"X-RapidAPI-Host\": \"zillow-com1.p.rapidapi.com\"\n",
    "}"
   ]
  },
  {
   "cell_type": "code",
   "execution_count": 11,
   "id": "97fd5e5c-dedb-4ded-bd77-cf22b80110bd",
   "metadata": {
    "tags": []
   },
   "outputs": [],
   "source": [
    "user_query = \"I am looking for a two-bedroom apartment in Chicago.\""
   ]
  },
  {
   "cell_type": "code",
   "execution_count": 13,
   "id": "0fec6f32-d0ce-4de0-b3e8-fdedc30bf877",
   "metadata": {
    "tags": []
   },
   "outputs": [
    {
     "ename": "NameError",
     "evalue": "name 'instruction_prompt_classifier' is not defined",
     "output_type": "error",
     "traceback": [
      "\u001b[0;31m---------------------------------------------------------------------------\u001b[0m",
      "\u001b[0;31mNameError\u001b[0m                                 Traceback (most recent call last)",
      "Cell \u001b[0;32mIn[13], line 1\u001b[0m\n\u001b[0;32m----> 1\u001b[0m prompt_classifier \u001b[38;5;241m=\u001b[39m generate_prompt_classifier(\u001b[43minstruction_prompt_classifier\u001b[49m, user_query)\n",
      "\u001b[0;31mNameError\u001b[0m: name 'instruction_prompt_classifier' is not defined"
     ]
    }
   ],
   "source": [
    "prompt_classifier = generate_prompt_classifier(instruction_prompt_classifier, user_query)"
   ]
  },
  {
   "cell_type": "code",
   "execution_count": 14,
   "id": "336a27ae-8421-4c79-826b-aa6c963e47e3",
   "metadata": {
    "tags": []
   },
   "outputs": [
    {
     "ename": "NameError",
     "evalue": "name 'instruction_prompt_apifilter' is not defined",
     "output_type": "error",
     "traceback": [
      "\u001b[0;31m---------------------------------------------------------------------------\u001b[0m",
      "\u001b[0;31mNameError\u001b[0m                                 Traceback (most recent call last)",
      "Cell \u001b[0;32mIn[14], line 1\u001b[0m\n\u001b[0;32m----> 1\u001b[0m prompt_apifilter \u001b[38;5;241m=\u001b[39m generate_prompt_apifilter(\u001b[43minstruction_prompt_apifilter\u001b[49m, user_query)\n",
      "\u001b[0;31mNameError\u001b[0m: name 'instruction_prompt_apifilter' is not defined"
     ]
    }
   ],
   "source": [
    "prompt_apifilter = generate_prompt_apifilter(instruction_prompt_apifilter, user_query)"
   ]
  },
  {
   "cell_type": "code",
   "execution_count": null,
   "id": "fc246170-7c73-4327-b232-fe717cbf23cf",
   "metadata": {},
   "outputs": [],
   "source": []
  }
 ],
 "metadata": {
  "environment": {
   "kernel": "python3",
   "name": "tf2-cpu.2-11.m121",
   "type": "gcloud",
   "uri": "us-docker.pkg.dev/deeplearning-platform-release/gcr.io/tf2-cpu.2-11:m121"
  },
  "kernelspec": {
   "display_name": "Python 3 (Local)",
   "language": "python",
   "name": "python3"
  },
  "language_info": {
   "codemirror_mode": {
    "name": "ipython",
    "version": 3
   },
   "file_extension": ".py",
   "mimetype": "text/x-python",
   "name": "python",
   "nbconvert_exporter": "python",
   "pygments_lexer": "ipython3",
   "version": "3.10.14"
  }
 },
 "nbformat": 4,
 "nbformat_minor": 5
}
