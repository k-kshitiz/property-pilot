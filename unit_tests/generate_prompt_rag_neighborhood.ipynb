{
 "cells": [
  {
   "cell_type": "markdown",
   "id": "2033c1a7-2fef-488b-874a-f1674b80622d",
   "metadata": {},
   "source": [
    "# generate_prompt_rag_neighborhood"
   ]
  },
  {
   "cell_type": "code",
   "execution_count": 3,
   "id": "235c6638-2668-4f78-a7b2-b4ec691c238a",
   "metadata": {
    "tags": []
   },
   "outputs": [],
   "source": [
    "def generate_prompt_rag_neighborhood(instruction, context, user_query):\n",
    "    instruction = instruction.replace(\"{CONTEXT}\", context)\n",
    "    return instruction.replace(\"{USER_QUERY}\", user_query)"
   ]
  },
  {
   "cell_type": "code",
   "execution_count": 4,
   "id": "15af4e36-a4ad-4b90-bc12-f166e7a4af15",
   "metadata": {
    "tags": []
   },
   "outputs": [],
   "source": [
    "instruction_rag_neighborhood = \"\"\"\n",
    "### Instructions ###\n",
    "You will act as a local neighborhood advisor to answer the question described in the 'User's query' below.\n",
    "Your mission is to provide answers based on the given 'Context' below. Before responding, ensure that your answer complies with your mission.\n",
    "Only provide information from the context. If the information is not in the context, respond with \"I don't know the answer to that.\"\n",
    "\n",
    "### User’s query ###\n",
    "{USER_QUERY}\n",
    "\n",
    "### Context ###\n",
    "{CONTEXT}\n",
    "\n",
    "### Output ###\n",
    "\"\"\""
   ]
  },
  {
   "cell_type": "code",
   "execution_count": 5,
   "id": "dfcfb04c-0fc1-48d7-8f06-609ee9787432",
   "metadata": {
    "tags": []
   },
   "outputs": [],
   "source": [
    "user_query = 'Tell me about South Loop.'"
   ]
  },
  {
   "cell_type": "code",
   "execution_count": 6,
   "id": "1c384174-8571-4f07-a7e7-7dea0295e34e",
   "metadata": {
    "tags": []
   },
   "outputs": [],
   "source": [
    "context = \"\"\"\n",
    "South Loop It’s home to the lakefront Museum Campus, where you’ll find three of Chicago’s biggest museums. Also in the South Loop, you’ll find celebrated jazz clubs, a mix of crowd-pleasing restaurants, and vibrant historic areas like industrial Motor Row and charming the Prairie Avenue District. It’s a little mind-blowing arriving on the site of Chicago’s Museum Campus. The three gorgeous neoclas , now an entertainment destination with the colorful Lips Drag Palace, VU Rooftop bar, Duneyrr Fermenta brewery, and more. In the nearby Prairie Avenue District, you can stroll “Millionaire’s Row,” lined with mansions that once belonged to Chicago’s elite, including the historic Glessner House museum. The South Loop is also home to Soldier Field, which means you’ll find plenty of Bears fans here i r Field Soldier Field Soldier Field See all events in South Loop Discover more in South Loop With trendy restaurants, cozy coffee shops, cocktail bars and shops on just about every corner, there’s endless ways to spend a day in this bustling neighborhood. When it comes to laid-back neighborhoods in Chicago, Edgewater takes the crown. But don’t let its chill vibe fool you — this charming district i story, notable residents, and legacy as a hub for African American life and culture. Northalsted (also known as Boystown) is known around the world as the oldest official recognized gay neighborhood in the country. This eclectic quality gives this neighborhood a small-town feel in the middle of a big, dynamic city. If you’re looking for a good time, look no further than Wrigleyville. You'll find l n your choice of neighborhoods, language and interests. Explore all neighborhoods Even locals might not be able to point to Chicago’s West Town on a map. The neighborhood’s indistinct boundaries (roughly surrounded by Wicker Park to… Weinberg/Newton Gallery See all events in West Town Discover more in West Town With trendy restaurants, cozy coffee shops, cocktail bars and shops on just about every  and culture. Northalsted (also known as Boystown) is known around the world as the oldest official recognized gay neighborhood in the country. This eclectic quality gives this neighborhood a small-town feel in the middle of a big, dynamic city. If you’re looking for a good time, look no further than Wrigleyville. You'll find lively sports bars, cool new restaurants, and (of course) the Chicago Cu nd interests. Explore all neighborhoods Logan Square is a one-of-a-kind neighborhood that you can really only find in Chicago. This long-time Latino community has seen an influx of new residents… Comfort Station See all events in Logan Square Discover more in Logan Square With trendy restaurants, cozy coffee shops, cocktail bars and shops on just about every corner, there’s endless ways to spend a y as a hub for African American life and culture. Northalsted (also known as Boystown) is known around the world as the oldest official recognized gay neighborhood in the country. This eclectic quality gives this neighborhood a small-town feel in the middle of a big, dynamic city. If you’re looking for a good time, look no further than Wrigleyville. You'll find lively sports bars, cool new restaur story, notable residents, and legacy as a hub for African American life and culture. Northalsted (also known as Boystown) is known around the world as the oldest official recognized gay neighborhood in the country. This eclectic quality gives this neighborhood a small-town feel in the middle of a big, dynamic city. If you’re looking for a good time, look no further than Wrigleyville. You'll find l orhood. Dubbed the city’s “Black Metropolis,” this south side community served as the headquarters for African American… Discover more in Bronzeville With trendy restaurants, cozy coffee shops, cocktail bars and shops on just about every corner, there’s endless ways to spend a day in this bustling neighborhood. When it comes to laid-back neighborhoods in Chicago, Edgewater takes the crown. But don\n",
    "\"\"\""
   ]
  },
  {
   "cell_type": "code",
   "execution_count": 8,
   "id": "ae96c2ef-72e6-4e12-b8dc-19c9a8930d31",
   "metadata": {
    "tags": []
   },
   "outputs": [
    {
     "name": "stdout",
     "output_type": "stream",
     "text": [
      "\n",
      "### Instructions ###\n",
      "You will act as a local neighborhood advisor to answer the question described in the 'User's query' below.\n",
      "Your mission is to provide answers based on the given 'Context' below. Before responding, ensure that your answer complies with your mission.\n",
      "Only provide information from the context. If the information is not in the context, respond with \"I don't know the answer to that.\"\n",
      "\n",
      "### User’s query ###\n",
      "Tell me about South Loop.\n",
      "\n",
      "### Context ###\n",
      "\n",
      "South Loop It’s home to the lakefront Museum Campus, where you’ll find three of Chicago’s biggest museums. Also in the South Loop, you’ll find celebrated jazz clubs, a mix of crowd-pleasing restaurants, and vibrant historic areas like industrial Motor Row and charming the Prairie Avenue District. It’s a little mind-blowing arriving on the site of Chicago’s Museum Campus. The three gorgeous neoclas , now an entertainment destination with the colorful Lips Drag Palace, VU Rooftop bar, Duneyrr Fermenta brewery, and more. In the nearby Prairie Avenue District, you can stroll “Millionaire’s Row,” lined with mansions that once belonged to Chicago’s elite, including the historic Glessner House museum. The South Loop is also home to Soldier Field, which means you’ll find plenty of Bears fans here i r Field Soldier Field Soldier Field See all events in South Loop Discover more in South Loop With trendy restaurants, cozy coffee shops, cocktail bars and shops on just about every corner, there’s endless ways to spend a day in this bustling neighborhood. When it comes to laid-back neighborhoods in Chicago, Edgewater takes the crown. But don’t let its chill vibe fool you — this charming district i story, notable residents, and legacy as a hub for African American life and culture. Northalsted (also known as Boystown) is known around the world as the oldest official recognized gay neighborhood in the country. This eclectic quality gives this neighborhood a small-town feel in the middle of a big, dynamic city. If you’re looking for a good time, look no further than Wrigleyville. You'll find l n your choice of neighborhoods, language and interests. Explore all neighborhoods Even locals might not be able to point to Chicago’s West Town on a map. The neighborhood’s indistinct boundaries (roughly surrounded by Wicker Park to… Weinberg/Newton Gallery See all events in West Town Discover more in West Town With trendy restaurants, cozy coffee shops, cocktail bars and shops on just about every  and culture. Northalsted (also known as Boystown) is known around the world as the oldest official recognized gay neighborhood in the country. This eclectic quality gives this neighborhood a small-town feel in the middle of a big, dynamic city. If you’re looking for a good time, look no further than Wrigleyville. You'll find lively sports bars, cool new restaurants, and (of course) the Chicago Cu nd interests. Explore all neighborhoods Logan Square is a one-of-a-kind neighborhood that you can really only find in Chicago. This long-time Latino community has seen an influx of new residents… Comfort Station See all events in Logan Square Discover more in Logan Square With trendy restaurants, cozy coffee shops, cocktail bars and shops on just about every corner, there’s endless ways to spend a y as a hub for African American life and culture. Northalsted (also known as Boystown) is known around the world as the oldest official recognized gay neighborhood in the country. This eclectic quality gives this neighborhood a small-town feel in the middle of a big, dynamic city. If you’re looking for a good time, look no further than Wrigleyville. You'll find lively sports bars, cool new restaur story, notable residents, and legacy as a hub for African American life and culture. Northalsted (also known as Boystown) is known around the world as the oldest official recognized gay neighborhood in the country. This eclectic quality gives this neighborhood a small-town feel in the middle of a big, dynamic city. If you’re looking for a good time, look no further than Wrigleyville. You'll find l orhood. Dubbed the city’s “Black Metropolis,” this south side community served as the headquarters for African American… Discover more in Bronzeville With trendy restaurants, cozy coffee shops, cocktail bars and shops on just about every corner, there’s endless ways to spend a day in this bustling neighborhood. When it comes to laid-back neighborhoods in Chicago, Edgewater takes the crown. But don\n",
      "\n",
      "\n",
      "### Output ###\n",
      "\n"
     ]
    }
   ],
   "source": [
    "print(generate_prompt_rag_neighborhood(instruction_rag_neighborhood, context, user_query))"
   ]
  }
 ],
 "metadata": {
  "environment": {
   "kernel": "python3",
   "name": "tf2-cpu.2-11.m119",
   "type": "gcloud",
   "uri": "us-docker.pkg.dev/deeplearning-platform-release/gcr.io/tf2-cpu.2-11:m119"
  },
  "kernelspec": {
   "display_name": "Python 3",
   "language": "python",
   "name": "python3"
  },
  "language_info": {
   "codemirror_mode": {
    "name": "ipython",
    "version": 3
   },
   "file_extension": ".py",
   "mimetype": "text/x-python",
   "name": "python",
   "nbconvert_exporter": "python",
   "pygments_lexer": "ipython3",
   "version": "3.10.14"
  }
 },
 "nbformat": 4,
 "nbformat_minor": 5
}
