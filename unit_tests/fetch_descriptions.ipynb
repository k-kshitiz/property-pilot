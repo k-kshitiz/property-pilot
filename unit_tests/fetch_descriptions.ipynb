{
 "cells": [
  {
   "cell_type": "markdown",
   "id": "04e5262d-f63d-42ff-abcc-c7ccfe2cc246",
   "metadata": {
    "tags": []
   },
   "source": [
    "# Property details(Description)\n",
    "## Fucntion: fetch_descriptions"
   ]
  },
  {
   "cell_type": "markdown",
   "id": "d63e188e-0f1a-4149-9159-9bf7d29bb83b",
   "metadata": {
    "tags": []
   },
   "source": [
    "## Model Setting - Gemini pro 1.0"
   ]
  },
  {
   "cell_type": "code",
   "execution_count": 4,
   "id": "e453cc87-ca5d-4907-a121-454951441cf3",
   "metadata": {},
   "outputs": [],
   "source": [
    "# %pip list | grep google-cloud-aiplatform\n",
    "# %pip list | grep google-api-core"
   ]
  },
  {
   "cell_type": "code",
   "execution_count": 5,
   "id": "9356612e-a512-4a97-ab07-92a06a7f04bf",
   "metadata": {},
   "outputs": [],
   "source": [
    "# %pip install google-cloud-aiplatform==1.43.0\n",
    "# %pip install google-api-core==2.17.1"
   ]
  },
  {
   "cell_type": "code",
   "execution_count": 6,
   "id": "09e7078b-9bef-427e-a1ae-9e0528a15f77",
   "metadata": {
    "tags": []
   },
   "outputs": [
    {
     "name": "stderr",
     "output_type": "stream",
     "text": [
      "2024-05-07 22:05:56.764255: I tensorflow/core/platform/cpu_feature_guard.cc:193] This TensorFlow binary is optimized with oneAPI Deep Neural Network Library (oneDNN) to use the following CPU instructions in performance-critical operations:  AVX2 FMA\n",
      "To enable them in other operations, rebuild TensorFlow with the appropriate compiler flags.\n",
      "2024-05-07 22:05:57.936525: W tensorflow/compiler/xla/stream_executor/platform/default/dso_loader.cc:64] Could not load dynamic library 'libnvinfer.so.7'; dlerror: libnvinfer.so.7: cannot open shared object file: No such file or directory; LD_LIBRARY_PATH: /usr/local/cuda/lib64:/usr/local/nccl2/lib:/usr/local/cuda/extras/CUPTI/lib64\n",
      "2024-05-07 22:05:57.936651: W tensorflow/compiler/xla/stream_executor/platform/default/dso_loader.cc:64] Could not load dynamic library 'libnvinfer_plugin.so.7'; dlerror: libnvinfer_plugin.so.7: cannot open shared object file: No such file or directory; LD_LIBRARY_PATH: /usr/local/cuda/lib64:/usr/local/nccl2/lib:/usr/local/cuda/extras/CUPTI/lib64\n",
      "2024-05-07 22:05:57.936662: W tensorflow/compiler/tf2tensorrt/utils/py_utils.cc:38] TF-TRT Warning: Cannot dlopen some TensorRT libraries. If you would like to use Nvidia GPU with TensorRT, please make sure the missing libraries mentioned above are installed properly.\n"
     ]
    }
   ],
   "source": [
    "import vertexai\n",
    "from vertexai.preview.generative_models import GenerativeModel, ChatSession, Part\n",
    "import vertexai.preview.generative_models as generative_models"
   ]
  },
  {
   "cell_type": "code",
   "execution_count": 7,
   "id": "280e74f1-21fe-46ed-bbbc-82aea16c9117",
   "metadata": {
    "tags": []
   },
   "outputs": [],
   "source": [
    "vertexai.init(project=\"adsp-capstone-property-pilot\", location=\"us-central1\")"
   ]
  },
  {
   "cell_type": "code",
   "execution_count": 1,
   "id": "1693b1ef-469d-4835-b4fb-f27ed6d7adb2",
   "metadata": {
    "tags": []
   },
   "outputs": [],
   "source": [
    "# model = GenerativeModel(\"gemini-1.0-pro\")\n",
    "# chat = model.start_chat()\n",
    "\n",
    "# def get_chat_response(chat: ChatSession, prompt: str) -> str:\n",
    "#     text_response = []\n",
    "#     responses = chat.send_message(prompt, stream=True)\n",
    "#     for chunk in responses:\n",
    "#         text_response.append(chunk.text)\n",
    "#     return \"\".join(text_response)"
   ]
  },
  {
   "cell_type": "markdown",
   "id": "096ead08-e996-4735-8856-912f7afc10dc",
   "metadata": {},
   "source": [
    "### Test"
   ]
  },
  {
   "cell_type": "code",
   "execution_count": 2,
   "id": "ba942672-c60b-46ca-9e69-f7bfcdc4af62",
   "metadata": {
    "tags": []
   },
   "outputs": [],
   "source": [
    "# prompt = \"Hello.\"\n",
    "# print(get_chat_response(chat, prompt))"
   ]
  },
  {
   "cell_type": "markdown",
   "id": "84f381f1-f8cf-40bf-8a27-b7b11067adfa",
   "metadata": {
    "tags": []
   },
   "source": [
    "# Descriptions"
   ]
  },
  {
   "cell_type": "code",
   "execution_count": 1,
   "id": "95845ab8-0ab0-4a87-a2e8-0497fd6a863c",
   "metadata": {},
   "outputs": [],
   "source": [
    "def fetch_descriptions(properties):\n",
    "    \"\"\"\n",
    "    Fetches the descriptions of each property and appends them to the list.\n",
    "\n",
    "    Parameters:\n",
    "    - properties: A list of dictionaries representing properties.\n",
    "\n",
    "    Returns:\n",
    "    - A list of dictionaries(the same format as input).\n",
    "    \"\"\"\n",
    "    url_details = \"https://zillow-com1.p.rapidapi.com/property\"\n",
    "\n",
    "    for prop in properties:\n",
    "        # Fetch detailed information using detailUrl\n",
    "        querystring = {\"property_url\": prop['detailUrl']}\n",
    "        response = requests.get(url_details, headers=headers, params=querystring)\n",
    "\n",
    "        # Convert to JSON and fetch description\n",
    "        detail_data = response.json()\n",
    "        prop['description'] = detail_data.get('description', 'No description available')\n",
    "\n",
    "    return properties"
   ]
  },
  {
   "cell_type": "code",
   "execution_count": 6,
   "id": "12966a00-0834-43eb-913f-30f427ecd707",
   "metadata": {
    "tags": []
   },
   "outputs": [],
   "source": [
    "# Example top properties\n",
    "\n",
    "top_properties = [{'propertyType': 'APARTMENT',\n",
    "  'address': '2253 W Iowa St #3F, Chicago, IL 60622',\n",
    "  'price': 2695,\n",
    "  'bedrooms': 3,\n",
    "  'bathrooms': 1,\n",
    "  'detailUrl': 'https://www.zillow.com/homedetails/2253-W-Iowa-St-3F-Chicago-IL-60622/2069892388_zpid/',\n",
    "  'imgSrc': 'https://photos.zillowstatic.com/fp/24cfac4e50b54ac036925874a4d4b395-p_e.jpg',\n",
    "  'longitude': -87.68405,\n",
    "  'latitude': 41.897385},\n",
    " {'propertyType': None,\n",
    "  'address': '1210 S Indiana Ave, Chicago, IL',\n",
    "  'price': None,\n",
    "  'bedrooms': None,\n",
    "  'bathrooms': None,\n",
    "  'detailUrl': 'https://www.zillow.com/apartments/chicago-il/nema-chicago/9RwqTm/',\n",
    "  'imgSrc': 'https://photos.zillowstatic.com/fp/35f6b1437825b0cf43201316158e8000-p_e.jpg',\n",
    "  'longitude': -87.62358,\n",
    "  'latitude': 41.86681},\n",
    " {'propertyType': 'APARTMENT',\n",
    "  'address': '2065 N. Hoyne Ave., 2065 N Hoyne Ave #3R, Chicago, IL 60647',\n",
    "  'price': 2295,\n",
    "  'bedrooms': 3,\n",
    "  'bathrooms': 2,\n",
    "  'detailUrl': 'https://www.zillow.com/apartments/chicago-il/2065-n.-hoyne-ave./5XgKsR/',\n",
    "  'imgSrc': 'https://photos.zillowstatic.com/fp/8094800d8257833f346cfb9030093cee-p_e.jpg',\n",
    "  'longitude': -87.67988,\n",
    "  'latitude': 41.91961}]"
   ]
  },
  {
   "cell_type": "code",
   "execution_count": 7,
   "id": "718bbe39-3913-48b8-85fd-a4bb02722576",
   "metadata": {},
   "outputs": [
    {
     "data": {
      "text/plain": [
       "[{'propertyType': 'APARTMENT',\n",
       "  'address': '2253 W Iowa St #3F, Chicago, IL 60622',\n",
       "  'price': 2695,\n",
       "  'bedrooms': 3,\n",
       "  'bathrooms': 1,\n",
       "  'detailUrl': 'https://www.zillow.com/homedetails/2253-W-Iowa-St-3F-Chicago-IL-60622/2069892388_zpid/',\n",
       "  'imgSrc': 'https://photos.zillowstatic.com/fp/24cfac4e50b54ac036925874a4d4b395-p_e.jpg',\n",
       "  'longitude': -87.68405,\n",
       "  'latitude': 41.897385},\n",
       " {'propertyType': None,\n",
       "  'address': '1210 S Indiana Ave, Chicago, IL',\n",
       "  'price': None,\n",
       "  'bedrooms': None,\n",
       "  'bathrooms': None,\n",
       "  'detailUrl': 'https://www.zillow.com/apartments/chicago-il/nema-chicago/9RwqTm/',\n",
       "  'imgSrc': 'https://photos.zillowstatic.com/fp/35f6b1437825b0cf43201316158e8000-p_e.jpg',\n",
       "  'longitude': -87.62358,\n",
       "  'latitude': 41.86681},\n",
       " {'propertyType': 'APARTMENT',\n",
       "  'address': '2065 N. Hoyne Ave., 2065 N Hoyne Ave #3R, Chicago, IL 60647',\n",
       "  'price': 2295,\n",
       "  'bedrooms': 3,\n",
       "  'bathrooms': 2,\n",
       "  'detailUrl': 'https://www.zillow.com/apartments/chicago-il/2065-n.-hoyne-ave./5XgKsR/',\n",
       "  'imgSrc': 'https://photos.zillowstatic.com/fp/8094800d8257833f346cfb9030093cee-p_e.jpg',\n",
       "  'longitude': -87.67988,\n",
       "  'latitude': 41.91961}]"
      ]
     },
     "execution_count": 7,
     "metadata": {},
     "output_type": "execute_result"
    }
   ],
   "source": [
    "top_properties"
   ]
  },
  {
   "cell_type": "code",
   "execution_count": 10,
   "id": "f1ecd66d-db29-4823-b9f4-c420a95461dc",
   "metadata": {
    "tags": []
   },
   "outputs": [],
   "source": [
    "import requests\n",
    "\n",
    "headers = {\n",
    "\t\"X-RapidAPI-Key\": \"RAPID_API_KEY\",\n",
    "\t\"X-RapidAPI-Host\": \"zillow-com1.p.rapidapi.com\"\n",
    "}\n",
    "\n",
    "# Endpoint(specifiled in the function)\n",
    "# url_details = \"https://zillow-com1.p.rapidapi.com/property\""
   ]
  },
  {
   "cell_type": "code",
   "execution_count": 11,
   "id": "5d53eb69-4117-41d0-8c64-c9f37aed2ed9",
   "metadata": {
    "tags": []
   },
   "outputs": [
    {
     "data": {
      "text/plain": [
       "[{'propertyType': 'APARTMENT',\n",
       "  'address': '2253 W Iowa St #3F, Chicago, IL 60622',\n",
       "  'price': 2695,\n",
       "  'bedrooms': 3,\n",
       "  'bathrooms': 1,\n",
       "  'detailUrl': 'https://www.zillow.com/homedetails/2253-W-Iowa-St-3F-Chicago-IL-60622/2069892388_zpid/',\n",
       "  'imgSrc': 'https://photos.zillowstatic.com/fp/24cfac4e50b54ac036925874a4d4b395-p_e.jpg',\n",
       "  'longitude': -87.68405,\n",
       "  'latitude': 41.897385,\n",
       "  'description': 'Spacious and sunlit penthouse ready by July 1st! This fantastic apartment features charming vintage woodwork alongside contemporary comforts. Enjoy a cozy living room with a front balcony and ornate mirror, a formal dining room boasting beam ceilings and a built-in china cabinet, and an updated kitchen with ample cabinet space, stainless steel appliances, and a convenient all-in-one washer and dryer. The generous bedrooms come with expansive wall-to-wall closets. Plus, relish in the convenience of central heating and air conditioning and hardwood floors throughout. Situated just east of Western Ave. and near a Ukrainian private school, this gem is mere steps from grocery stores, eateries, and public transit options. Cirque Realty Groupe.\\n\\nUtilities are not included. Tenants responsible for gas and electricity. One month security deposit without pats. $35 application fee.'},\n",
       " {'propertyType': None,\n",
       "  'address': '1210 S Indiana Ave, Chicago, IL',\n",
       "  'price': None,\n",
       "  'bedrooms': None,\n",
       "  'bathrooms': None,\n",
       "  'detailUrl': 'https://www.zillow.com/apartments/chicago-il/nema-chicago/9RwqTm/',\n",
       "  'imgSrc': 'https://photos.zillowstatic.com/fp/35f6b1437825b0cf43201316158e8000-p_e.jpg',\n",
       "  'longitude': -87.62358,\n",
       "  'latitude': 41.86681,\n",
       "  'description': 'No description available'},\n",
       " {'propertyType': 'APARTMENT',\n",
       "  'address': '2065 N. Hoyne Ave., 2065 N Hoyne Ave #3R, Chicago, IL 60647',\n",
       "  'price': 2295,\n",
       "  'bedrooms': 3,\n",
       "  'bathrooms': 2,\n",
       "  'detailUrl': 'https://www.zillow.com/apartments/chicago-il/2065-n.-hoyne-ave./5XgKsR/',\n",
       "  'imgSrc': 'https://photos.zillowstatic.com/fp/8094800d8257833f346cfb9030093cee-p_e.jpg',\n",
       "  'longitude': -87.67988,\n",
       "  'latitude': 41.91961,\n",
       "  'description': 'No description available'}]"
      ]
     },
     "execution_count": 11,
     "metadata": {},
     "output_type": "execute_result"
    }
   ],
   "source": [
    "top_properties = fetch_descriptions(top_properties)\n",
    "top_properties"
   ]
  }
 ],
 "metadata": {
  "environment": {
   "kernel": "python3",
   "name": "tf2-cpu.2-11.m119",
   "type": "gcloud",
   "uri": "us-docker.pkg.dev/deeplearning-platform-release/gcr.io/tf2-cpu.2-11:m119"
  },
  "kernelspec": {
   "display_name": "Python 3",
   "language": "python",
   "name": "python3"
  },
  "language_info": {
   "codemirror_mode": {
    "name": "ipython",
    "version": 3
   },
   "file_extension": ".py",
   "mimetype": "text/x-python",
   "name": "python",
   "nbconvert_exporter": "python",
   "pygments_lexer": "ipython3",
   "version": "3.10.14"
  }
 },
 "nbformat": 4,
 "nbformat_minor": 5
}
