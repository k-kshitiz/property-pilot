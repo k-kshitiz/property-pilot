{
 "cells": [
  {
   "cell_type": "markdown",
   "id": "dafb7b9d-dd42-4893-b44c-662f9716bc22",
   "metadata": {},
   "source": [
    "# final_output_yelp_advisor"
   ]
  },
  {
   "cell_type": "code",
   "execution_count": 1,
   "id": "e1b8ee05-3c21-4e8c-8be3-1e83aaaabfff",
   "metadata": {
    "tags": []
   },
   "outputs": [],
   "source": [
    "import vertexai\n",
    "from vertexai.preview.generative_models import GenerativeModel, ChatSession, Part\n",
    "import vertexai.preview.generative_models as generative_models"
   ]
  },
  {
   "cell_type": "code",
   "execution_count": 2,
   "id": "3feb3961-9597-4568-8fd0-e5e0d0bc4645",
   "metadata": {
    "tags": []
   },
   "outputs": [],
   "source": [
    "vertexai.init(project=\"adsp-capstone-property-pilot\", location=\"us-central1\")"
   ]
  },
  {
   "cell_type": "code",
   "execution_count": 3,
   "id": "2750a901-002b-41bf-bc9f-5f0f3d0437c7",
   "metadata": {
    "tags": []
   },
   "outputs": [],
   "source": [
    "model = GenerativeModel(\"gemini-1.0-pro\")\n",
    "chat = model.start_chat()\n",
    "\n",
    "def get_chat_response(chat: ChatSession, prompt: str) -> str:\n",
    "    text_response = []\n",
    "    responses = chat.send_message(prompt, stream=True)\n",
    "    for chunk in responses:\n",
    "        text_response.append(chunk.text)\n",
    "    return \"\".join(text_response)"
   ]
  },
  {
   "cell_type": "markdown",
   "id": "d6ca15b0-f5af-44d5-b410-9436486e6eca",
   "metadata": {},
   "source": [
    "### Test"
   ]
  },
  {
   "cell_type": "code",
   "execution_count": 4,
   "id": "4974a535-fe38-4d21-a9a4-1611870d3554",
   "metadata": {
    "tags": []
   },
   "outputs": [
    {
     "name": "stdout",
     "output_type": "stream",
     "text": [
      "Hello! What would you like to talk about today?\n"
     ]
    }
   ],
   "source": [
    "prompt = \"Hello.\"\n",
    "print(get_chat_response(chat, prompt))"
   ]
  },
  {
   "cell_type": "code",
   "execution_count": 8,
   "id": "45efedaa-b358-4fc1-b929-9a0f3a4e92fd",
   "metadata": {
    "tags": []
   },
   "outputs": [],
   "source": [
    "import http.client\n",
    "import json\n",
    "import urllib.parse\n",
    "from typing import Dict, Any\n",
    "import folium\n",
    "import os"
   ]
  },
  {
   "cell_type": "code",
   "execution_count": 9,
   "id": "16d12fa7-51c3-4cd9-8c9f-ff1bf8333b8f",
   "metadata": {
    "tags": []
   },
   "outputs": [],
   "source": [
    "os.chdir('/home/jupyter/property_pilot/prompts')\n",
    "# yelp_output_instructions\n",
    "file_path = 'yelp_output_instructions.txt'\n",
    "try:\n",
    "    with open(file_path, 'r') as file:\n",
    "        yelp_output_instructions = file.read()\n",
    "except FileNotFoundError:\n",
    "    print(\"The file does not exist\")\n",
    "except Exception as e:\n",
    "    print(f\"An error occurred: {e}\")"
   ]
  },
  {
   "cell_type": "code",
   "execution_count": 10,
   "id": "3a721772-ad8c-4e88-a479-eeb066e298e1",
   "metadata": {
    "tags": []
   },
   "outputs": [],
   "source": [
    "def final_output_yelp_advisor(output_instructions, user_query, yelp_advisor_results):\n",
    "    updated_instruction = output_instructions.replace(\"{USER_QUERY}\", user_query)\n",
    "    updated_instruction = updated_instruction.replace(\"{YELP_RESULTS}\", str(yelp_advisor_results))\n",
    "    return updated_instruction"
   ]
  },
  {
   "cell_type": "markdown",
   "id": "e6dcc83c-97b8-40b4-b5bc-c5fbf4b9ac10",
   "metadata": {},
   "source": [
    "### Test"
   ]
  },
  {
   "cell_type": "code",
   "execution_count": 11,
   "id": "3e25faba-dca5-437a-9de4-ec99a4b76770",
   "metadata": {
    "tags": []
   },
   "outputs": [],
   "source": [
    "user_query = \"Is there good Japanese food on the north side of chicago?\"\n",
    "yelp_advisor_results = {'businesses': [{'id': 'ruWJerAc9VW23GvegYddnQ', 'alias': 'gaijin-chicago', 'name': 'Gaijin', 'image_url': 'https://s3-media2.fl.yelpcdn.com/bphoto/Uf8BGwoDAl8uFQHskAGFYA/o.jpg', 'is_closed': False, 'url': 'https://www.yelp.com/biz/gaijin-chicago?adjust_creative=6Rl6qXMI6EN3VkijeNTf0A&utm_campaign=yelp_api_v3&utm_medium=api_v3_business_search&utm_source=6Rl6qXMI6EN3VkijeNTf0A', 'review_count': 664, 'categories': [{'alias': 'japanese', 'title': 'Japanese'}], 'rating': 4.3, 'coordinates': {'latitude': 41.88583, 'longitude': -87.65182}, 'transactions': ['delivery', 'pickup'], 'price': '$$', 'location': {'address1': '950 W Lake St', 'address2': None, 'address3': '', 'city': 'Chicago', 'zip_code': '60607', 'country': 'US', 'state': 'IL', 'display_address': ['950 W Lake St', 'Chicago, IL 60607']}, 'phone': '+13122651348', 'display_phone': '(312) 265-1348', 'distance': 2389.9507350714453, 'attributes': {'business_temp_closed': None, 'menu_url': 'https://gaijinchicago.com/menu', 'open24_hours': None, 'waitlist_reservation': None}}, {'id': 'ak3FYZOsEWeiP6Pdp74YkQ', 'alias': 'miru-chicago', 'name': 'Miru', 'image_url': 'https://s3-media4.fl.yelpcdn.com/bphoto/KTCCkDH6NfRwCGDwHWNxcA/o.jpg', 'is_closed': False, 'url': 'https://www.yelp.com/biz/miru-chicago?adjust_creative=6Rl6qXMI6EN3VkijeNTf0A&utm_campaign=yelp_api_v3&utm_medium=api_v3_business_search&utm_source=6Rl6qXMI6EN3VkijeNTf0A', 'review_count': 149, 'categories': [{'alias': 'japanese', 'title': 'Japanese'}], 'rating': 4.3, 'coordinates': {'latitude': 41.8874426163459, 'longitude': -87.6176301019272}, 'transactions': [], 'location': {'address1': '401 E Wacker Dr', 'address2': 'Fl 11', 'address3': '', 'city': 'Chicago', 'zip_code': '60601', 'country': 'US', 'state': 'IL', 'display_address': ['401 E Wacker Dr', 'Fl 11', 'Chicago, IL 60601']}, 'phone': '+13127257811', 'display_phone': '(312) 725-7811', 'distance': 1588.4509095082176, 'attributes': {'business_temp_closed': None, 'menu_url': 'https://www.mirurestaurant.com/menus/', 'open24_hours': None, 'waitlist_reservation': None}}, {'id': 'Vw-Qn1Hg06h4yBUdDQCXyA', 'alias': 'sushi-san-chicago', 'name': 'SUSHI-SAN', 'image_url': 'https://s3-media2.fl.yelpcdn.com/bphoto/hIHfcSxdn2ZMGBGfvT6kDA/o.jpg', 'is_closed': False, 'url': 'https://www.yelp.com/biz/sushi-san-chicago?adjust_creative=6Rl6qXMI6EN3VkijeNTf0A&utm_campaign=yelp_api_v3&utm_medium=api_v3_business_search&utm_source=6Rl6qXMI6EN3VkijeNTf0A', 'review_count': 1029, 'categories': [{'alias': 'sushi', 'title': 'Sushi Bars'}, {'alias': 'japanese', 'title': 'Japanese'}, {'alias': 'bars', 'title': 'Bars'}], 'rating': 4.3, 'coordinates': {'latitude': 41.8914851, 'longitude': -87.6302732}, 'transactions': ['delivery', 'pickup'], 'price': '$$', 'location': {'address1': '63 W Grand Ave', 'address2': '', 'address3': None, 'city': 'Chicago', 'zip_code': '60654', 'country': 'US', 'state': 'IL', 'display_address': ['63 W Grand Ave', 'Chicago, IL 60654']}, 'phone': '+13128280575', 'display_phone': '(312) 828-0575', 'distance': 846.0250687540504, 'attributes': {'business_temp_closed': None, 'menu_url': 'https://www.sushisanrestaurant.com/menu/', 'open24_hours': None, 'waitlist_reservation': False}}, {'id': 'zIXZtgiir9CVF-iZeeAvaQ', 'alias': 'ramen-san-chicago', 'name': 'RAMEN-SAN', 'image_url': 'https://s3-media1.fl.yelpcdn.com/bphoto/4TSQCELv2FWXt7ks-HLTQQ/o.jpg', 'is_closed': False, 'url': 'https://www.yelp.com/biz/ramen-san-chicago?adjust_creative=6Rl6qXMI6EN3VkijeNTf0A&utm_campaign=yelp_api_v3&utm_medium=api_v3_business_search&utm_source=6Rl6qXMI6EN3VkijeNTf0A', 'review_count': 3014, 'categories': [{'alias': 'ramen', 'title': 'Ramen'}], 'rating': 3.9, 'coordinates': {'latitude': 41.889798, 'longitude': -87.630293}, 'transactions': ['delivery', 'pickup'], 'price': '$$', 'location': {'address1': '59 W Hubbard St', 'address2': '', 'address3': '', 'city': 'Chicago', 'zip_code': '60654', 'country': 'US', 'state': 'IL', 'display_address': ['59 W Hubbard St', 'Chicago, IL 60654']}, 'phone': '+13123779950', 'display_phone': '(312) 377-9950', 'distance': 1022.4422674822562, 'attributes': {'business_temp_closed': None, 'menu_url': 'https://www.ramensan.com/river-north-menus/', 'open24_hours': None, 'waitlist_reservation': None}}, {'id': '8d_DiHWB-pjBVW3a7D8EWg', 'alias': 'sunda-river-north-chicago', 'name': 'Sunda - River North', 'image_url': 'https://s3-media3.fl.yelpcdn.com/bphoto/vvU0HCV39zTswB6h9zI_zg/o.jpg', 'is_closed': False, 'url': 'https://www.yelp.com/biz/sunda-river-north-chicago?adjust_creative=6Rl6qXMI6EN3VkijeNTf0A&utm_campaign=yelp_api_v3&utm_medium=api_v3_business_search&utm_source=6Rl6qXMI6EN3VkijeNTf0A', 'review_count': 3279, 'categories': [{'alias': 'asianfusion', 'title': 'Asian Fusion'}, {'alias': 'sushi', 'title': 'Sushi Bars'}, {'alias': 'japanese', 'title': 'Japanese'}], 'rating': 4.0, 'coordinates': {'latitude': 41.8909469, 'longitude': -87.6317244}, 'transactions': ['delivery', 'pickup'], 'price': '$$$', 'location': {'address1': '110 W Illinois St', 'address2': '', 'address3': '', 'city': 'Chicago', 'zip_code': '60654', 'country': 'US', 'state': 'IL', 'display_address': ['110 W Illinois St', 'Chicago, IL 60654']}, 'phone': '+13126440500', 'display_phone': '(312) 644-0500', 'distance': 913.2340167379563, 'attributes': {'business_temp_closed': None, 'menu_url': 'https://sundanewasian.com/chicago/menus/', 'open24_hours': None, 'waitlist_reservation': None}}], 'total': 214, 'region': {'center': {'longitude': -87.62901306152344, 'latitude': 41.8989435606674}}}"
   ]
  },
  {
   "cell_type": "code",
   "execution_count": 12,
   "id": "487ee9ca-288d-4ddc-b75e-74359f5bf9aa",
   "metadata": {
    "tags": []
   },
   "outputs": [],
   "source": [
    "# generate prompt\n",
    "yelp_output_prompt = final_output_yelp_advisor(yelp_output_instructions, user_query, yelp_advisor_results)"
   ]
  },
  {
   "cell_type": "code",
   "execution_count": 13,
   "id": "289cd911-85b9-4add-a974-dcbdf77ae9e1",
   "metadata": {
    "tags": []
   },
   "outputs": [
    {
     "name": "stdout",
     "output_type": "stream",
     "text": [
      "\"\"\"\n",
      "### Instructions ###\n",
      "I want you to act as a friendly and enthusiastic Chicago food guide. Please recommend restaurants to the customer using the provided Yelp information. \n",
      "'User’s query' represents the questions you are asked by the customer. \n",
      "'Restaurants to present to the user' are the properties you will introduce to the customer.\n",
      "\n",
      "### User’s query ###\n",
      "Is there good Japanese food on the north side of chicago?\n",
      "\n",
      "### Restaurants to present to the user ###\n",
      "{'businesses': [{'id': 'ruWJerAc9VW23GvegYddnQ', 'alias': 'gaijin-chicago', 'name': 'Gaijin', 'image_url': 'https://s3-media2.fl.yelpcdn.com/bphoto/Uf8BGwoDAl8uFQHskAGFYA/o.jpg', 'is_closed': False, 'url': 'https://www.yelp.com/biz/gaijin-chicago?adjust_creative=6Rl6qXMI6EN3VkijeNTf0A&utm_campaign=yelp_api_v3&utm_medium=api_v3_business_search&utm_source=6Rl6qXMI6EN3VkijeNTf0A', 'review_count': 664, 'categories': [{'alias': 'japanese', 'title': 'Japanese'}], 'rating': 4.3, 'coordinates': {'latitude': 41.88583, 'longitude': -87.65182}, 'transactions': ['delivery', 'pickup'], 'price': '$$', 'location': {'address1': '950 W Lake St', 'address2': None, 'address3': '', 'city': 'Chicago', 'zip_code': '60607', 'country': 'US', 'state': 'IL', 'display_address': ['950 W Lake St', 'Chicago, IL 60607']}, 'phone': '+13122651348', 'display_phone': '(312) 265-1348', 'distance': 2389.9507350714453, 'attributes': {'business_temp_closed': None, 'menu_url': 'https://gaijinchicago.com/menu', 'open24_hours': None, 'waitlist_reservation': None}}, {'id': 'ak3FYZOsEWeiP6Pdp74YkQ', 'alias': 'miru-chicago', 'name': 'Miru', 'image_url': 'https://s3-media4.fl.yelpcdn.com/bphoto/KTCCkDH6NfRwCGDwHWNxcA/o.jpg', 'is_closed': False, 'url': 'https://www.yelp.com/biz/miru-chicago?adjust_creative=6Rl6qXMI6EN3VkijeNTf0A&utm_campaign=yelp_api_v3&utm_medium=api_v3_business_search&utm_source=6Rl6qXMI6EN3VkijeNTf0A', 'review_count': 149, 'categories': [{'alias': 'japanese', 'title': 'Japanese'}], 'rating': 4.3, 'coordinates': {'latitude': 41.8874426163459, 'longitude': -87.6176301019272}, 'transactions': [], 'location': {'address1': '401 E Wacker Dr', 'address2': 'Fl 11', 'address3': '', 'city': 'Chicago', 'zip_code': '60601', 'country': 'US', 'state': 'IL', 'display_address': ['401 E Wacker Dr', 'Fl 11', 'Chicago, IL 60601']}, 'phone': '+13127257811', 'display_phone': '(312) 725-7811', 'distance': 1588.4509095082176, 'attributes': {'business_temp_closed': None, 'menu_url': 'https://www.mirurestaurant.com/menus/', 'open24_hours': None, 'waitlist_reservation': None}}, {'id': 'Vw-Qn1Hg06h4yBUdDQCXyA', 'alias': 'sushi-san-chicago', 'name': 'SUSHI-SAN', 'image_url': 'https://s3-media2.fl.yelpcdn.com/bphoto/hIHfcSxdn2ZMGBGfvT6kDA/o.jpg', 'is_closed': False, 'url': 'https://www.yelp.com/biz/sushi-san-chicago?adjust_creative=6Rl6qXMI6EN3VkijeNTf0A&utm_campaign=yelp_api_v3&utm_medium=api_v3_business_search&utm_source=6Rl6qXMI6EN3VkijeNTf0A', 'review_count': 1029, 'categories': [{'alias': 'sushi', 'title': 'Sushi Bars'}, {'alias': 'japanese', 'title': 'Japanese'}, {'alias': 'bars', 'title': 'Bars'}], 'rating': 4.3, 'coordinates': {'latitude': 41.8914851, 'longitude': -87.6302732}, 'transactions': ['delivery', 'pickup'], 'price': '$$', 'location': {'address1': '63 W Grand Ave', 'address2': '', 'address3': None, 'city': 'Chicago', 'zip_code': '60654', 'country': 'US', 'state': 'IL', 'display_address': ['63 W Grand Ave', 'Chicago, IL 60654']}, 'phone': '+13128280575', 'display_phone': '(312) 828-0575', 'distance': 846.0250687540504, 'attributes': {'business_temp_closed': None, 'menu_url': 'https://www.sushisanrestaurant.com/menu/', 'open24_hours': None, 'waitlist_reservation': False}}, {'id': 'zIXZtgiir9CVF-iZeeAvaQ', 'alias': 'ramen-san-chicago', 'name': 'RAMEN-SAN', 'image_url': 'https://s3-media1.fl.yelpcdn.com/bphoto/4TSQCELv2FWXt7ks-HLTQQ/o.jpg', 'is_closed': False, 'url': 'https://www.yelp.com/biz/ramen-san-chicago?adjust_creative=6Rl6qXMI6EN3VkijeNTf0A&utm_campaign=yelp_api_v3&utm_medium=api_v3_business_search&utm_source=6Rl6qXMI6EN3VkijeNTf0A', 'review_count': 3014, 'categories': [{'alias': 'ramen', 'title': 'Ramen'}], 'rating': 3.9, 'coordinates': {'latitude': 41.889798, 'longitude': -87.630293}, 'transactions': ['delivery', 'pickup'], 'price': '$$', 'location': {'address1': '59 W Hubbard St', 'address2': '', 'address3': '', 'city': 'Chicago', 'zip_code': '60654', 'country': 'US', 'state': 'IL', 'display_address': ['59 W Hubbard St', 'Chicago, IL 60654']}, 'phone': '+13123779950', 'display_phone': '(312) 377-9950', 'distance': 1022.4422674822562, 'attributes': {'business_temp_closed': None, 'menu_url': 'https://www.ramensan.com/river-north-menus/', 'open24_hours': None, 'waitlist_reservation': None}}, {'id': '8d_DiHWB-pjBVW3a7D8EWg', 'alias': 'sunda-river-north-chicago', 'name': 'Sunda - River North', 'image_url': 'https://s3-media3.fl.yelpcdn.com/bphoto/vvU0HCV39zTswB6h9zI_zg/o.jpg', 'is_closed': False, 'url': 'https://www.yelp.com/biz/sunda-river-north-chicago?adjust_creative=6Rl6qXMI6EN3VkijeNTf0A&utm_campaign=yelp_api_v3&utm_medium=api_v3_business_search&utm_source=6Rl6qXMI6EN3VkijeNTf0A', 'review_count': 3279, 'categories': [{'alias': 'asianfusion', 'title': 'Asian Fusion'}, {'alias': 'sushi', 'title': 'Sushi Bars'}, {'alias': 'japanese', 'title': 'Japanese'}], 'rating': 4.0, 'coordinates': {'latitude': 41.8909469, 'longitude': -87.6317244}, 'transactions': ['delivery', 'pickup'], 'price': '$$$', 'location': {'address1': '110 W Illinois St', 'address2': '', 'address3': '', 'city': 'Chicago', 'zip_code': '60654', 'country': 'US', 'state': 'IL', 'display_address': ['110 W Illinois St', 'Chicago, IL 60654']}, 'phone': '+13126440500', 'display_phone': '(312) 644-0500', 'distance': 913.2340167379563, 'attributes': {'business_temp_closed': None, 'menu_url': 'https://sundanewasian.com/chicago/menus/', 'open24_hours': None, 'waitlist_reservation': None}}], 'total': 214, 'region': {'center': {'longitude': -87.62901306152344, 'latitude': 41.8989435606674}}}\n",
      "\n",
      "### Output ###\n",
      "\"\"\"\n"
     ]
    }
   ],
   "source": [
    "print(yelp_output_prompt)"
   ]
  },
  {
   "cell_type": "code",
   "execution_count": 14,
   "id": "5b78b8f5-662c-4c79-86c9-0cde63c608ea",
   "metadata": {
    "tags": []
   },
   "outputs": [
    {
     "name": "stdout",
     "output_type": "stream",
     "text": [
      "## Absolutely! There are tons of fantastic Japanese restaurants on the north side of Chicago. To narrow it down, tell me a bit more about what you're looking for. What kind of vibe are you going for? Casual or upscale? Traditional or modern? Are there any specific dishes you're craving, like sushi, ramen, or yakitori?\n",
      "\n",
      "Once I have a better idea of your preferences, I can provide you with some personalized recommendations.\n",
      "\n",
      "In the meantime, here are a few popular options that might pique your interest:\n",
      "\n",
      "* **Gaijin:** This modern Japanese restaurant in River North offers a creative and delicious menu with a focus on seasonal ingredients. It's a great spot for a special occasion or a date night.\n",
      "* **Miru:** For a fine-dining experience with stunning views of the Chicago River, check out Miru. They serve a tasting menu featuring exquisite Japanese cuisine with French influences.\n",
      "* **Sushi-San:** This casual spot in River North is perfect for a quick and satisfying sushi fix. They have a wide variety of fresh nigiri, sashimi, and maki rolls to choose from.\n",
      "* **RAMEN-SAN:** If you're craving a hearty bowl of ramen, RAMEN-SAN is the place to go. They offer a variety of broths and toppings to customize your perfect bowl.\n",
      "* **Sunda - River North:** For a fusion of Japanese and Asian flavors, check out Sunda. They have a beautiful space and a menu full of innovative dishes, including sushi, robata grill items, and creative cocktails.\n",
      "\n"
     ]
    }
   ],
   "source": [
    "# get final response from Gemini\n",
    "print(get_chat_response(chat, yelp_output_prompt))"
   ]
  },
  {
   "cell_type": "code",
   "execution_count": null,
   "id": "6e4676b2-89c7-4dc3-b6b2-7a5956381a9b",
   "metadata": {},
   "outputs": [],
   "source": []
  }
 ],
 "metadata": {
  "environment": {
   "kernel": "python3",
   "name": "tf2-cpu.2-11.m119",
   "type": "gcloud",
   "uri": "us-docker.pkg.dev/deeplearning-platform-release/gcr.io/tf2-cpu.2-11:m119"
  },
  "kernelspec": {
   "display_name": "Python 3",
   "language": "python",
   "name": "python3"
  },
  "language_info": {
   "codemirror_mode": {
    "name": "ipython",
    "version": 3
   },
   "file_extension": ".py",
   "mimetype": "text/x-python",
   "name": "python",
   "nbconvert_exporter": "python",
   "pygments_lexer": "ipython3",
   "version": "3.10.14"
  }
 },
 "nbformat": 4,
 "nbformat_minor": 5
}
