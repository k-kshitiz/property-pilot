{
 "cells": [
  {
   "cell_type": "markdown",
   "id": "04e5262d-f63d-42ff-abcc-c7ccfe2cc246",
   "metadata": {
    "tags": []
   },
   "source": [
    "# Search Property Listings\n",
    "## Function: generate_prompt_apifilter"
   ]
  },
  {
   "cell_type": "markdown",
   "id": "d63e188e-0f1a-4149-9159-9bf7d29bb83b",
   "metadata": {
    "tags": []
   },
   "source": [
    "## 1. Model Setting - Gemini pro 1.0"
   ]
  },
  {
   "cell_type": "code",
   "execution_count": null,
   "id": "e453cc87-ca5d-4907-a121-454951441cf3",
   "metadata": {
    "tags": []
   },
   "outputs": [],
   "source": [
    "# %pip list | grep google-cloud-aiplatform\n",
    "# %pip list | grep google-api-core"
   ]
  },
  {
   "cell_type": "code",
   "execution_count": null,
   "id": "9356612e-a512-4a97-ab07-92a06a7f04bf",
   "metadata": {
    "tags": []
   },
   "outputs": [],
   "source": [
    "# %pip install google-cloud-aiplatform==1.43.0\n",
    "# %pip install google-api-core==2.17.1"
   ]
  },
  {
   "cell_type": "code",
   "execution_count": 1,
   "id": "09e7078b-9bef-427e-a1ae-9e0528a15f77",
   "metadata": {
    "tags": []
   },
   "outputs": [],
   "source": [
    "import vertexai\n",
    "from vertexai.preview.generative_models import GenerativeModel, ChatSession, Part\n",
    "import vertexai.preview.generative_models as generative_models"
   ]
  },
  {
   "cell_type": "code",
   "execution_count": 2,
   "id": "280e74f1-21fe-46ed-bbbc-82aea16c9117",
   "metadata": {
    "tags": []
   },
   "outputs": [],
   "source": [
    "vertexai.init(project=\"adsp-capstone-property-pilot\", location=\"us-central1\")"
   ]
  },
  {
   "cell_type": "code",
   "execution_count": 3,
   "id": "1693b1ef-469d-4835-b4fb-f27ed6d7adb2",
   "metadata": {
    "tags": []
   },
   "outputs": [],
   "source": [
    "model = GenerativeModel(\"gemini-1.0-pro\")\n",
    "chat = model.start_chat()\n",
    "\n",
    "def get_chat_response(chat: ChatSession, prompt: str) -> str:\n",
    "    text_response = []\n",
    "    responses = chat.send_message(prompt, stream=True)\n",
    "    for chunk in responses:\n",
    "        text_response.append(chunk.text)\n",
    "    return \"\".join(text_response)"
   ]
  },
  {
   "cell_type": "markdown",
   "id": "096ead08-e996-4735-8856-912f7afc10dc",
   "metadata": {},
   "source": [
    "### Test"
   ]
  },
  {
   "cell_type": "code",
   "execution_count": 4,
   "id": "ba942672-c60b-46ca-9e69-f7bfcdc4af62",
   "metadata": {
    "tags": []
   },
   "outputs": [
    {
     "name": "stdout",
     "output_type": "stream",
     "text": [
      "Hello! How can I help you today?\n"
     ]
    }
   ],
   "source": [
    "prompt = \"Hello.\"\n",
    "print(get_chat_response(chat, prompt))"
   ]
  },
  {
   "cell_type": "markdown",
   "id": "9219070b-b278-4bb9-a2e1-b7e47df6113c",
   "metadata": {
    "tags": []
   },
   "source": [
    "## 2. Create API filter from user's query"
   ]
  },
  {
   "cell_type": "code",
   "execution_count": 5,
   "id": "f6c90ebf-2e29-4f4d-b260-7c7a10aaddb1",
   "metadata": {
    "tags": []
   },
   "outputs": [],
   "source": [
    "def generate_prompt_apifilter(instruction, user_query):\n",
    "    return instruction.replace(\"{USER_QUERY}\", user_query)"
   ]
  },
  {
   "cell_type": "code",
   "execution_count": 6,
   "id": "307520a9-ff17-44f7-8bb7-5bde2fef5c4e",
   "metadata": {
    "tags": []
   },
   "outputs": [],
   "source": [
    "instruction = \"\"\"\n",
    "### Instructions ###\n",
    "I want you to act as a principal software engineer. You'll be given a task to determine the parameters of an API call based on the \"User's query\" below, \n",
    "please modify the conditions and create the appropriate API filter. Provide your answer only for the part within ‘{}’. \n",
    "Do not include any other explanations in your response. Read the below instructions.\n",
    "\n",
    "— Filter Options (Optional, so not required if not specified in the User's query) —\n",
    "\n",
    "1. location\n",
    "Format: STRING(lowercase)\n",
    "Example: santa monica, ca\n",
    "\n",
    "*If not specifically mentioned, use 'chicago, il'.\n",
    "*Do not alter the format from the above example. \n",
    "*If you want to search for a specific neighborhood like Chicago's West Loop, please specify it in the Filter option '16. keywords', not here.\n",
    "Incorrect example: \"location\": \"west loop, chicago, il\"\n",
    "Correct example: \"location\": \"chicago, il\", \"keywords\": \"west loop\"\n",
    "\n",
    "\n",
    "2. status_type\n",
    "For purchase or for rent\n",
    "Format: STRING\n",
    "Example:\n",
    "ForSale\n",
    "ForRent\n",
    "\n",
    "3. home_type\n",
    "Property type comma-separated or empty for all types\n",
    "Format: STRING\n",
    "Example(ForRent):\n",
    "Townhomes\n",
    "Houses\n",
    "Apartments_Condos_Co-ops\n",
    "\n",
    "Example(ForSale):\n",
    "Multi-family\n",
    "Apartments\n",
    "Houses\n",
    "Manufactured\n",
    "Condos\n",
    "LotsLand\n",
    "Townhomes\n",
    "\n",
    "*If it cannot be determined from the User's query, specification is not necessary.\n",
    "\n",
    "4. minPrice\n",
    "If status_type = ForSale you can filter by min price.\n",
    "Format: NUMBER\n",
    "Example: 200000\n",
    "\n",
    "5. maxPrice\n",
    "If status_type = ForSale you can filter by max price.\n",
    "Format: NUMBER\n",
    "Example: 900000\n",
    "\n",
    "6. rentMinPrice\n",
    "If status_type = ForRent you can filter by min rent price.\n",
    "Format: NUMBER\n",
    "Example: 2000\n",
    "\n",
    "7. rentMaxPrice\n",
    "If status_type = ForRent you can filter by max rent price.\n",
    "Format: NUMBER\n",
    "Example: 3000\n",
    "\n",
    "8. bathsMin\n",
    "Bathrooms min count\n",
    "Format: NUMBER\n",
    "Example: 2\n",
    "* If a specific number of baths is specified, rather than a range, please enter the same number for both bathsMin and bathsMax.\n",
    "\n",
    "9. bathsMax\n",
    "Bathrooms max count\n",
    "Format: NUMBER\n",
    "Example: 3\n",
    "\n",
    "10. bedsMin\n",
    "Bedrooms min count\n",
    "Format: NUMBER\n",
    "Example: 1\n",
    "* If a specific number of bedrooms is specified, rather than a range, please enter the same number for both bedsMin and bedsMax.\n",
    "\n",
    "11. bedsMax\n",
    "Bedrooms max count\n",
    "Format: NUMBER\n",
    "Example: 3\n",
    "\n",
    "12. sqftMin\n",
    "Square Feet min value\n",
    "Format: NUMBER\n",
    "Example: 600\n",
    "\n",
    "13. sqftMax\n",
    "Square Feet max value\n",
    "Format: NUMBER\n",
    "Example: 1500\n",
    "\n",
    "14. buildYearMin\n",
    "Year Built min value\n",
    "Format: NUMBER\n",
    "Example: 1980\n",
    "\n",
    "15. buildYearMax\n",
    "Year Built max value\n",
    "Format: NUMBER\n",
    "Example: 2023\n",
    "\n",
    "16. keywords\n",
    "Filter with keywords.\n",
    "Format: STRING\n",
    "Example1: ‘gym’\n",
    "Example2: ‘West Loop’\n",
    "Example3: ‘pet, pool, South Loop‘\n",
    "*Not necessary if already specified in another filter or if there is no clear specification in user’s query. Specify conditions that cannot be specified in other filters by using keywords.\n",
    "\n",
    "17. sort\n",
    "Sorting criteria for the results\n",
    "Always specify \"Newest\"\n",
    "\n",
    "\n",
    "Now, use the following query to determine the appropriate parameters.\n",
    "\n",
    "### Example query ###\n",
    "I am looking for a one-bedroom.\n",
    "\n",
    "### Example Output ###\n",
    "{\n",
    "\"location\":\"chicago, il\",\n",
    "\"bedsMin\":\"1\",\n",
    "\"bedsMax\":\"1\",\n",
    "\"sort\":\"Newest\"\n",
    "}\n",
    "\n",
    "### Example query ###\n",
    "I am looking for a rental in South Loop, Chicago, with at least one bedroom and a rent of $3000 or less per month.\n",
    "\n",
    "### Example Output ###\n",
    "{\n",
    "\"location\": \"chicago, il\",\n",
    "\"status_type\": \"ForRent\",\n",
    "\"rentMaxPrice\": 3000,\n",
    "\"bedsMin\": 1,\n",
    "\"keywords\": \"South Loop\",\n",
    "\"sort\":\"Newest\"\n",
    "}\n",
    "\n",
    "### Example query ###\n",
    "I am looking for a rental in West Loop, Chicago, with one bedroom and a rent between $2000 and $2500.\n",
    "\n",
    "### Example Output ###\n",
    "{\n",
    "\"location\": \"chicago, il\",\n",
    "\"status_type\": \"ForRent\",\n",
    "\"rentMinPrice\": 2500,\n",
    "\"rentMaxPrice\": 3000,\n",
    "\"bedsMin\": 1,\n",
    "\"bedsMax\": 1,\n",
    "\"keywords\": \"West Loop\",\n",
    "\"sort\":\"Newest\"\n",
    "}\n",
    "\n",
    "### Example query ###\n",
    "I want to buy a house in River North with at least two bedrooms.\n",
    "\n",
    "### Example Output ###\n",
    "{\n",
    "\"location\":\"chicago, il\",\n",
    "\"status_type\": \"ForSale\",\n",
    "\"keywords\":\"River North\",\n",
    "\"bedsMin\":\"2\",\n",
    "\"sort\":\"Newest\"\n",
    "}\n",
    "\n",
    "### Example query ###\n",
    "I am looking for a rental around Wicker Park in Chicago with a gym and a pool. It should be built within the last 10 years.\n",
    "\n",
    "### Example Output ###\n",
    "{\n",
    "\"location\": \"chicago, il\",\n",
    "\"home_type\": \"Apartments_Condos_Co-ops\",\n",
    "\"status_type\": \"ForRent\",\n",
    "\"buildYearMin\": 2014,\n",
    "\"keywords\": \"Wicker Park, gym, pool\",\n",
    "\"sort\":\"Newest\"\n",
    "}\n",
    "\n",
    "### Example query ###\n",
    "I am looking for a rental with a balcony, over 700 sqft in size, and less than 5 years old, located near downtown.\n",
    "\n",
    "### Example Output ###\n",
    "{\n",
    "\"location\": \"chicago, il\",\n",
    "\"status_type\": \"ForRent\",\n",
    "\"sqftMin\":\"700\",\n",
    "\"buildYearMin\": 2019,\n",
    "\"keywords\": \"downtown, balcony\",\n",
    "\"sort\":\"Newest\"\n",
    "}\n",
    "\n",
    "\n",
    "### User’s query ###\n",
    "{USER_QUERY}\n",
    "\n",
    "### Output ###\n",
    "\"\"\""
   ]
  },
  {
   "cell_type": "code",
   "execution_count": 7,
   "id": "95a85ea4-e208-4ac8-930d-eb8df0d2d3a6",
   "metadata": {
    "scrolled": true,
    "tags": []
   },
   "outputs": [
    {
     "name": "stdout",
     "output_type": "stream",
     "text": [
      "\n",
      "### Instructions ###\n",
      "I want you to act as a principal software engineer. You'll be given a task to determine the parameters of an API call based on the \"User's query\" below, \n",
      "please modify the conditions and create the appropriate API filter. Provide your answer only for the part within ‘{}’. \n",
      "Do not include any other explanations in your response. Read the below instructions.\n",
      "\n",
      "— Filter Options (Optional, so not required if not specified in the User's query) —\n",
      "\n",
      "1. location\n",
      "Format: STRING(lowercase)\n",
      "Example: santa monica, ca\n",
      "\n",
      "*If not specifically mentioned, use 'chicago, il'.\n",
      "*Do not alter the format from the above example. \n",
      "*If you want to search for a specific neighborhood like Chicago's West Loop, please specify it in the Filter option '16. keywords', not here.\n",
      "Incorrect example: \"location\": \"west loop, chicago, il\"\n",
      "Correct example: \"location\": \"chicago, il\", \"keywords\": \"west loop\"\n",
      "\n",
      "\n",
      "2. status_type\n",
      "For purchase or for rent\n",
      "Format: STRING\n",
      "Example:\n",
      "ForSale\n",
      "ForRent\n",
      "\n",
      "3. home_type\n",
      "Property type comma-separated or empty for all types\n",
      "Format: STRING\n",
      "Example(ForRent):\n",
      "Townhomes\n",
      "Houses\n",
      "Apartments_Condos_Co-ops\n",
      "\n",
      "Example(ForSale):\n",
      "Multi-family\n",
      "Apartments\n",
      "Houses\n",
      "Manufactured\n",
      "Condos\n",
      "LotsLand\n",
      "Townhomes\n",
      "\n",
      "*If it cannot be determined from the User's query, specification is not necessary.\n",
      "\n",
      "4. minPrice\n",
      "If status_type = ForSale you can filter by min price.\n",
      "Format: NUMBER\n",
      "Example: 200000\n",
      "\n",
      "5. maxPrice\n",
      "If status_type = ForSale you can filter by max price.\n",
      "Format: NUMBER\n",
      "Example: 900000\n",
      "\n",
      "6. rentMinPrice\n",
      "If status_type = ForRent you can filter by min rent price.\n",
      "Format: NUMBER\n",
      "Example: 2000\n",
      "\n",
      "7. rentMaxPrice\n",
      "If status_type = ForRent you can filter by max rent price.\n",
      "Format: NUMBER\n",
      "Example: 3000\n",
      "\n",
      "8. bathsMin\n",
      "Bathrooms min count\n",
      "Format: NUMBER\n",
      "Example: 2\n",
      "* If a specific number of baths is specified, rather than a range, please enter the same number for both bathsMin and bathsMax.\n",
      "\n",
      "9. bathsMax\n",
      "Bathrooms max count\n",
      "Format: NUMBER\n",
      "Example: 3\n",
      "\n",
      "10. bedsMin\n",
      "Bedrooms min count\n",
      "Format: NUMBER\n",
      "Example: 1\n",
      "* If a specific number of bedrooms is specified, rather than a range, please enter the same number for both bedsMin and bedsMax.\n",
      "\n",
      "11. bedsMax\n",
      "Bedrooms max count\n",
      "Format: NUMBER\n",
      "Example: 3\n",
      "\n",
      "12. sqftMin\n",
      "Square Feet min value\n",
      "Format: NUMBER\n",
      "Example: 600\n",
      "\n",
      "13. sqftMax\n",
      "Square Feet max value\n",
      "Format: NUMBER\n",
      "Example: 1500\n",
      "\n",
      "14. buildYearMin\n",
      "Year Built min value\n",
      "Format: NUMBER\n",
      "Example: 1980\n",
      "\n",
      "15. buildYearMax\n",
      "Year Built max value\n",
      "Format: NUMBER\n",
      "Example: 2023\n",
      "\n",
      "16. keywords\n",
      "Filter with keywords.\n",
      "Format: STRING\n",
      "Example1: ‘gym’\n",
      "Example2: ‘West Loop’\n",
      "Example3: ‘pet, pool, South Loop‘\n",
      "*Not necessary if already specified in another filter or if there is no clear specification in user’s query. Specify conditions that cannot be specified in other filters by using keywords.\n",
      "\n",
      "17. sort\n",
      "Sorting criteria for the results\n",
      "Always specify \"Newest\"\n",
      "\n",
      "\n",
      "Now, use the following query to determine the appropriate parameters.\n",
      "\n",
      "### Example query ###\n",
      "I am looking for a one-bedroom.\n",
      "\n",
      "### Example Output ###\n",
      "{\n",
      "\"location\":\"chicago, il\",\n",
      "\"bedsMin\":\"1\",\n",
      "\"bedsMax\":\"1\",\n",
      "\"sort\":\"Newest\"\n",
      "}\n",
      "\n",
      "### Example query ###\n",
      "I am looking for a rental in South Loop, Chicago, with at least one bedroom and a rent of $3000 or less per month.\n",
      "\n",
      "### Example Output ###\n",
      "{\n",
      "\"location\": \"chicago, il\",\n",
      "\"status_type\": \"ForRent\",\n",
      "\"rentMaxPrice\": 3000,\n",
      "\"bedsMin\": 1,\n",
      "\"keywords\": \"South Loop\",\n",
      "\"sort\":\"Newest\"\n",
      "}\n",
      "\n",
      "### Example query ###\n",
      "I am looking for a rental in West Loop, Chicago, with one bedroom and a rent between $2000 and $2500.\n",
      "\n",
      "### Example Output ###\n",
      "{\n",
      "\"location\": \"chicago, il\",\n",
      "\"status_type\": \"ForRent\",\n",
      "\"rentMinPrice\": 2500,\n",
      "\"rentMaxPrice\": 3000,\n",
      "\"bedsMin\": 1,\n",
      "\"bedsMax\": 1,\n",
      "\"keywords\": \"West Loop\",\n",
      "\"sort\":\"Newest\"\n",
      "}\n",
      "\n",
      "### Example query ###\n",
      "I want to buy a house in River North with at least two bedrooms.\n",
      "\n",
      "### Example Output ###\n",
      "{\n",
      "\"location\":\"chicago, il\",\n",
      "\"status_type\": \"ForSale\",\n",
      "\"keywords\":\"River North\",\n",
      "\"bedsMin\":\"2\",\n",
      "\"sort\":\"Newest\"\n",
      "}\n",
      "\n",
      "### Example query ###\n",
      "I am looking for a rental around Wicker Park in Chicago with a gym and a pool. It should be built within the last 10 years.\n",
      "\n",
      "### Example Output ###\n",
      "{\n",
      "\"location\": \"chicago, il\",\n",
      "\"home_type\": \"Apartments_Condos_Co-ops\",\n",
      "\"status_type\": \"ForRent\",\n",
      "\"buildYearMin\": 2014,\n",
      "\"keywords\": \"Wicker Park, gym, pool\",\n",
      "\"sort\":\"Newest\"\n",
      "}\n",
      "\n",
      "### Example query ###\n",
      "I am looking for a rental with a balcony, over 700 sqft in size, and less than 5 years old, located near downtown.\n",
      "\n",
      "### Example Output ###\n",
      "{\n",
      "\"location\": \"chicago, il\",\n",
      "\"status_type\": \"ForRent\",\n",
      "\"sqftMin\":\"700\",\n",
      "\"buildYearMin\": 2019,\n",
      "\"keywords\": \"downtown, balcony\",\n",
      "\"sort\":\"Newest\"\n",
      "}\n",
      "\n",
      "\n",
      "### User’s query ###\n",
      "I am looking for a two-bedroom.\n",
      "\n",
      "### Output ###\n",
      "\n"
     ]
    }
   ],
   "source": [
    "user_query = \"I am looking for a two-bedroom.\"\n",
    "print(generate_prompt_apifilter(instruction, user_query))"
   ]
  },
  {
   "cell_type": "markdown",
   "id": "ee9ef9f4-bc65-4980-89aa-7dad0dad4bb9",
   "metadata": {},
   "source": [
    "### Test"
   ]
  },
  {
   "cell_type": "code",
   "execution_count": 8,
   "id": "bbc789aa-8430-4ef1-8b97-b98a12d4701a",
   "metadata": {
    "tags": []
   },
   "outputs": [
    {
     "name": "stdout",
     "output_type": "stream",
     "text": [
      "{\n",
      "\"bedsMin\":2,\n",
      "\"bedsMax\":2,\n",
      "\"sort\":\"Newest\"\n",
      "}\n"
     ]
    }
   ],
   "source": [
    "user_query = \"I am looking for a two-bedroom.\"\n",
    "prompt = generate_prompt_apifilter(instruction, user_query)\n",
    "print(get_chat_response(chat, prompt))"
   ]
  },
  {
   "cell_type": "code",
   "execution_count": 9,
   "id": "0691ee73-cfda-432e-863d-c439070d9e59",
   "metadata": {
    "tags": []
   },
   "outputs": [
    {
     "name": "stdout",
     "output_type": "stream",
     "text": [
      "{\n",
      "\"location\": \"chicago, il\",\n",
      "\"status_type\": \"ForRent\",\n",
      "\"rentMaxPrice\": 3500,\n",
      "\"bedsMin\": 1,\n",
      "\"keywords\": \"Fulton Market\",\n",
      "\"sort\":\"Newest\"\n",
      "}\n",
      "\n",
      "\n"
     ]
    }
   ],
   "source": [
    "user_query = \"I am looking for a rental in Fulton Market, Chicago, with at least one bedroom and a rent of $3500 or less per month.\"\n",
    "prompt = generate_prompt_apifilter(instruction, user_query)\n",
    "print(get_chat_response(chat, prompt))"
   ]
  },
  {
   "cell_type": "code",
   "execution_count": 10,
   "id": "fdb3441e-1201-4d32-9f3b-94cb737248be",
   "metadata": {
    "tags": []
   },
   "outputs": [
    {
     "name": "stdout",
     "output_type": "stream",
     "text": [
      "{\n",
      "\"location\":\"chicago, il\",\n",
      "\"status_type\": \"ForSale\",\n",
      "\"keywords\":\"Chinatown\",\n",
      "\"bedsMin\":\"2\",\n",
      "\"bathsMin\":\"2\",\n",
      "\"sort\":\"Newest\"\n",
      "}\n"
     ]
    }
   ],
   "source": [
    "user_query = \"I want to buy a house in Chinatown, Chicago with a minimum of 2 bathrooms and 2 bedrooms.\"\n",
    "prompt = generate_prompt_apifilter(instruction, user_query)\n",
    "print(get_chat_response(chat, prompt))"
   ]
  },
  {
   "cell_type": "code",
   "execution_count": 11,
   "id": "86ebac00-96bd-4447-9c7c-86bccfb4134e",
   "metadata": {
    "tags": []
   },
   "outputs": [
    {
     "name": "stdout",
     "output_type": "stream",
     "text": [
      "{\n",
      "\"location\": \"chicago, il\",\n",
      "\"home_type\": \"Apartments_Condos_Co-ops\",\n",
      "\"status_type\": \"ForRent\",\n",
      "\"buildYearMin\": 2008,\n",
      "\"keywords\": \"Hyde Park, gym, pool\",\n",
      "\"sort\":\"Newest\"\n",
      "}\n"
     ]
    }
   ],
   "source": [
    "user_query = \"I am looking for a rental around Hyde Park with a gym and a pool. It should be built within the last 15 years.\"\n",
    "prompt = generate_prompt_apifilter(instruction, user_query)\n",
    "print(get_chat_response(chat, prompt))"
   ]
  },
  {
   "cell_type": "code",
   "execution_count": 12,
   "id": "a7d26cad-2417-4a2d-9475-4833fdd67eca",
   "metadata": {
    "tags": []
   },
   "outputs": [
    {
     "name": "stdout",
     "output_type": "stream",
     "text": [
      "{\n",
      "\"location\": \"chicago, il\",\n",
      "\"home_type\": \"Apartments_Condos_Co-ops\",\n",
      "\"status_type\": \"ForRent\",\n",
      "\"keywords\": \"Old Town, balcony, pool\",\n",
      "\"sort\":\"Newest\"\n",
      "}\n"
     ]
    }
   ],
   "source": [
    "user_query = \"I am looking for a rental in the Old Town area of Chicago with a balcony and a pool.\"\n",
    "prompt = generate_prompt_apifilter(instruction, user_query)\n",
    "print(get_chat_response(chat, prompt))"
   ]
  }
 ],
 "metadata": {
  "environment": {
   "kernel": "python3",
   "name": "tf2-cpu.2-11.m121",
   "type": "gcloud",
   "uri": "us-docker.pkg.dev/deeplearning-platform-release/gcr.io/tf2-cpu.2-11:m121"
  },
  "kernelspec": {
   "display_name": "Python 3 (Local)",
   "language": "python",
   "name": "python3"
  },
  "language_info": {
   "codemirror_mode": {
    "name": "ipython",
    "version": 3
   },
   "file_extension": ".py",
   "mimetype": "text/x-python",
   "name": "python",
   "nbconvert_exporter": "python",
   "pygments_lexer": "ipython3",
   "version": "3.10.14"
  }
 },
 "nbformat": 4,
 "nbformat_minor": 5
}
