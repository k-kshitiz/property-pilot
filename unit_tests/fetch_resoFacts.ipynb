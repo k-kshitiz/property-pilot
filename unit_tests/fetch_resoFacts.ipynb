{
 "cells": [
  {
   "cell_type": "markdown",
   "id": "04e5262d-f63d-42ff-abcc-c7ccfe2cc246",
   "metadata": {
    "tags": []
   },
   "source": [
    "# Property details(resoFacts)\n",
    "## Function: fetch_resoFacts"
   ]
  },
  {
   "cell_type": "markdown",
   "id": "d63e188e-0f1a-4149-9159-9bf7d29bb83b",
   "metadata": {
    "jp-MarkdownHeadingCollapsed": true,
    "tags": []
   },
   "source": [
    "## Model Setting - Gemini pro 1.0"
   ]
  },
  {
   "cell_type": "code",
   "execution_count": 4,
   "id": "e453cc87-ca5d-4907-a121-454951441cf3",
   "metadata": {},
   "outputs": [],
   "source": [
    "# %pip list | grep google-cloud-aiplatform\n",
    "# %pip list | grep google-api-core"
   ]
  },
  {
   "cell_type": "code",
   "execution_count": 5,
   "id": "9356612e-a512-4a97-ab07-92a06a7f04bf",
   "metadata": {},
   "outputs": [],
   "source": [
    "# %pip install google-cloud-aiplatform==1.43.0\n",
    "# %pip install google-api-core==2.17.1"
   ]
  },
  {
   "cell_type": "code",
   "execution_count": 6,
   "id": "09e7078b-9bef-427e-a1ae-9e0528a15f77",
   "metadata": {
    "tags": []
   },
   "outputs": [
    {
     "name": "stderr",
     "output_type": "stream",
     "text": [
      "2024-05-07 22:05:56.764255: I tensorflow/core/platform/cpu_feature_guard.cc:193] This TensorFlow binary is optimized with oneAPI Deep Neural Network Library (oneDNN) to use the following CPU instructions in performance-critical operations:  AVX2 FMA\n",
      "To enable them in other operations, rebuild TensorFlow with the appropriate compiler flags.\n",
      "2024-05-07 22:05:57.936525: W tensorflow/compiler/xla/stream_executor/platform/default/dso_loader.cc:64] Could not load dynamic library 'libnvinfer.so.7'; dlerror: libnvinfer.so.7: cannot open shared object file: No such file or directory; LD_LIBRARY_PATH: /usr/local/cuda/lib64:/usr/local/nccl2/lib:/usr/local/cuda/extras/CUPTI/lib64\n",
      "2024-05-07 22:05:57.936651: W tensorflow/compiler/xla/stream_executor/platform/default/dso_loader.cc:64] Could not load dynamic library 'libnvinfer_plugin.so.7'; dlerror: libnvinfer_plugin.so.7: cannot open shared object file: No such file or directory; LD_LIBRARY_PATH: /usr/local/cuda/lib64:/usr/local/nccl2/lib:/usr/local/cuda/extras/CUPTI/lib64\n",
      "2024-05-07 22:05:57.936662: W tensorflow/compiler/tf2tensorrt/utils/py_utils.cc:38] TF-TRT Warning: Cannot dlopen some TensorRT libraries. If you would like to use Nvidia GPU with TensorRT, please make sure the missing libraries mentioned above are installed properly.\n"
     ]
    }
   ],
   "source": [
    "import vertexai\n",
    "from vertexai.preview.generative_models import GenerativeModel, ChatSession, Part\n",
    "import vertexai.preview.generative_models as generative_models"
   ]
  },
  {
   "cell_type": "code",
   "execution_count": 7,
   "id": "280e74f1-21fe-46ed-bbbc-82aea16c9117",
   "metadata": {
    "tags": []
   },
   "outputs": [],
   "source": [
    "vertexai.init(project=\"adsp-capstone-property-pilot\", location=\"us-central1\")"
   ]
  },
  {
   "cell_type": "code",
   "execution_count": 1,
   "id": "1693b1ef-469d-4835-b4fb-f27ed6d7adb2",
   "metadata": {
    "tags": []
   },
   "outputs": [],
   "source": [
    "# model = GenerativeModel(\"gemini-1.0-pro\")\n",
    "# chat = model.start_chat()\n",
    "\n",
    "# def get_chat_response(chat: ChatSession, prompt: str) -> str:\n",
    "#     text_response = []\n",
    "#     responses = chat.send_message(prompt, stream=True)\n",
    "#     for chunk in responses:\n",
    "#         text_response.append(chunk.text)\n",
    "#     return \"\".join(text_response)"
   ]
  },
  {
   "cell_type": "markdown",
   "id": "096ead08-e996-4735-8856-912f7afc10dc",
   "metadata": {},
   "source": [
    "### Test"
   ]
  },
  {
   "cell_type": "code",
   "execution_count": 2,
   "id": "ba942672-c60b-46ca-9e69-f7bfcdc4af62",
   "metadata": {
    "tags": []
   },
   "outputs": [],
   "source": [
    "# prompt = \"Hello.\"\n",
    "# print(get_chat_response(chat, prompt))"
   ]
  },
  {
   "cell_type": "markdown",
   "id": "f1c4b6b5-05a3-4d95-aede-71a5bdc2ac4b",
   "metadata": {},
   "source": [
    "## resoFacts"
   ]
  },
  {
   "cell_type": "code",
   "execution_count": 5,
   "id": "f69cf834-7cf2-4c3d-a3af-164d157aea1f",
   "metadata": {
    "tags": []
   },
   "outputs": [],
   "source": [
    "def fetch_resoFacts(properties, headers, keys_to_fetch):\n",
    "    \"\"\"\n",
    "    Fetches specific information from the resoFacts dictionary of each property and appends it in a nested format.\n",
    "\n",
    "    Parameters:\n",
    "    - properties: A list of dictionaries representing properties.\n",
    "    - headers: Headers for the API request.\n",
    "    - keys_to_fetch: A list of keys to fetch from the resoFacts dictionary.\n",
    "\n",
    "    Returns:\n",
    "    - A list of dictionaries with the specified information appended in a nested format.\n",
    "    \"\"\"\n",
    "    url_details = \"https://zillow-com1.p.rapidapi.com/property\"\n",
    "\n",
    "    for prop in properties:\n",
    "        # Fetch detailed information using detailUrl\n",
    "        querystring = {\"property_url\": prop['detailUrl']}\n",
    "        response = requests.get(url_details, headers=headers, params=querystring)\n",
    "        detail_data = response.json()\n",
    "\n",
    "        # Fetch information from the resoFacts dictionary\n",
    "        resoFacts = detail_data.get('resoFacts', {})\n",
    "\n",
    "        # Create a nested dictionary to store resoFacts information\n",
    "        prop['resoFacts'] = {}\n",
    "\n",
    "        for key in keys_to_fetch:\n",
    "            prop['resoFacts'][key] = resoFacts.get(key, 'N/A')\n",
    "\n",
    "    return properties"
   ]
  },
  {
   "cell_type": "code",
   "execution_count": 6,
   "id": "e58711e0-cfc6-413d-8914-073b49bf7926",
   "metadata": {
    "tags": []
   },
   "outputs": [],
   "source": [
    "# Example top properties\n",
    "\n",
    "top_properties = [{'propertyType': None,\n",
    "  'address': '2611 N Hermitage Ave, Chicago, IL',\n",
    "  'price': None,\n",
    "  'bedrooms': None,\n",
    "  'bathrooms': None,\n",
    "  'detailUrl': 'https://www.zillow.com/apartments/chicago-il/norweta/BXQZ9R/',\n",
    "  'imgSrc': 'https://photos.zillowstatic.com/fp/65ca2c82486f45afdc0e1f156f6b514f-p_e.jpg',\n",
    "  'description': 'No description available'},\n",
    " {'propertyType': 'SINGLE_FAMILY',\n",
    "  'address': '3240 W Fulton Blvd, Chicago, IL 60624',\n",
    "  'price': 2800,\n",
    "  'bedrooms': 5,\n",
    "  'bathrooms': 2,\n",
    "  'detailUrl': 'https://www.zillow.com/homedetails/3240-W-Fulton-Blvd-Chicago-IL-60624/158698100_zpid/',\n",
    "  'imgSrc': 'https://photos.zillowstatic.com/fp/402d1685a0321ebbd7c3b2ceaecb3822-p_e.jpg',\n",
    "  'description': \"Hello!\\n\\nThis rehabbed house has central heat & air, exposed bricks, dark hardwood floors, new stainless steel kitchen appliances, in-unit washer and dryer, and plenty of storage space in the basement. It also has a firepit in the backyard for bonfires. \\n\\nAbout the neighborhood:\\nThis unfurnished house is in the heart of East Garfield Park, less than a five-minute walk from the Kedzie Green line and Metra stations, as well as the nearest 52 Kedzie, 82 Homan and 94 California bus stops. There is plenty of space downstairs for your bikes, so you can get around very easily from here without a car. If you do have a car though, you can have a spot out back for $25/month each, or use one of the parking spots on the street out front. \\n\\nThis house is within a few blocks of cool neighborhood spots like Passion House Coffee, Breakthrough Community Center, Inspiration Kitchens, and the Garfield Park Conservatory, and just a short bike ride away from everything in Humboldt Park, Ukranian Village and West Loop. \\n\\nAbout the dollar bills/paperwork:\\nThis lease will start June 1 and go until June 30, 2025, with a chance to renew for a full year. If you see the place and like it, you will complete an application that includes a background check and credit check for each person on the lease. Once you've been approved, you will pay a non-refundable $250 move-in fee for reach person on the lease, plus first month's rent. \\n\\nIf all that sounds good to you, send us a message so we can share details with you about our open house this Sunday, May 5.\\n\\nThis lease will start June 1 and go until June 30, 2025, with a chance to renew for a full year. If you see the place and like it, you will complete an application that includes a background check and credit check for each person on the lease. Once you've been approved, you will pay a non-refundable $250 move-in fee for reach person on the lease, plus first month's rent.\"},\n",
    " {'propertyType': 'APARTMENT',\n",
    "  'address': '3251 W Evergreen Ave #2, Chicago, IL 60651',\n",
    "  'price': 2300,\n",
    "  'bedrooms': 3,\n",
    "  'bathrooms': 1,\n",
    "  'detailUrl': 'https://www.zillow.com/homedetails/3251-W-Evergreen-Ave-2-Chicago-IL-60651/348824068_zpid/',\n",
    "  'imgSrc': 'https://photos.zillowstatic.com/fp/6253b10423f0bf3cee38170605b73c8b-p_e.jpg',\n",
    "  'description': \"Conveniently located just a short commute from downtown Chicago, minutes away from 606 Bloomingdale Trail. Humboldt Park/ Logan Square Edge offers the perfect balance of urban excitement and neighborhood tranquility. With its tree-lined streets, historic architecture, and welcoming atmosphere, it's no wonder why so many people are proud to call Humboldt Park home.\\n\\nFully remodeled unit with contemporary design, Hardwood Floors. Stainless steel appliances: Range, Over Range-Microwave, Refrigerator. In-unit Samsung Washer/Dryer. Central AC/Furnace.\\n\\nOne parking spot in Detached Garage included. Gas/Electric utilities paid by tenant. (1) Pet allowed upon approval.\\n\\nTenant is responsible for electric/gas utilities. One parking spot detached is included if requested. (1) small pet allowed upon approval if applicable. Last month rent due at signing of lease with first month's rent payment. No smoking in unit allowed. (1) year leases.\"}]"
   ]
  },
  {
   "cell_type": "code",
   "execution_count": 7,
   "id": "5f67ccea-8c44-43c7-9560-96d6dc8bd970",
   "metadata": {
    "tags": []
   },
   "outputs": [
    {
     "data": {
      "text/plain": [
       "[{'propertyType': None,\n",
       "  'address': '2611 N Hermitage Ave, Chicago, IL',\n",
       "  'price': None,\n",
       "  'bedrooms': None,\n",
       "  'bathrooms': None,\n",
       "  'detailUrl': 'https://www.zillow.com/apartments/chicago-il/norweta/BXQZ9R/',\n",
       "  'imgSrc': 'https://photos.zillowstatic.com/fp/65ca2c82486f45afdc0e1f156f6b514f-p_e.jpg',\n",
       "  'description': 'No description available'},\n",
       " {'propertyType': 'SINGLE_FAMILY',\n",
       "  'address': '3240 W Fulton Blvd, Chicago, IL 60624',\n",
       "  'price': 2800,\n",
       "  'bedrooms': 5,\n",
       "  'bathrooms': 2,\n",
       "  'detailUrl': 'https://www.zillow.com/homedetails/3240-W-Fulton-Blvd-Chicago-IL-60624/158698100_zpid/',\n",
       "  'imgSrc': 'https://photos.zillowstatic.com/fp/402d1685a0321ebbd7c3b2ceaecb3822-p_e.jpg',\n",
       "  'description': \"Hello!\\n\\nThis rehabbed house has central heat & air, exposed bricks, dark hardwood floors, new stainless steel kitchen appliances, in-unit washer and dryer, and plenty of storage space in the basement. It also has a firepit in the backyard for bonfires. \\n\\nAbout the neighborhood:\\nThis unfurnished house is in the heart of East Garfield Park, less than a five-minute walk from the Kedzie Green line and Metra stations, as well as the nearest 52 Kedzie, 82 Homan and 94 California bus stops. There is plenty of space downstairs for your bikes, so you can get around very easily from here without a car. If you do have a car though, you can have a spot out back for $25/month each, or use one of the parking spots on the street out front. \\n\\nThis house is within a few blocks of cool neighborhood spots like Passion House Coffee, Breakthrough Community Center, Inspiration Kitchens, and the Garfield Park Conservatory, and just a short bike ride away from everything in Humboldt Park, Ukranian Village and West Loop. \\n\\nAbout the dollar bills/paperwork:\\nThis lease will start June 1 and go until June 30, 2025, with a chance to renew for a full year. If you see the place and like it, you will complete an application that includes a background check and credit check for each person on the lease. Once you've been approved, you will pay a non-refundable $250 move-in fee for reach person on the lease, plus first month's rent. \\n\\nIf all that sounds good to you, send us a message so we can share details with you about our open house this Sunday, May 5.\\n\\nThis lease will start June 1 and go until June 30, 2025, with a chance to renew for a full year. If you see the place and like it, you will complete an application that includes a background check and credit check for each person on the lease. Once you've been approved, you will pay a non-refundable $250 move-in fee for reach person on the lease, plus first month's rent.\"},\n",
       " {'propertyType': 'APARTMENT',\n",
       "  'address': '3251 W Evergreen Ave #2, Chicago, IL 60651',\n",
       "  'price': 2300,\n",
       "  'bedrooms': 3,\n",
       "  'bathrooms': 1,\n",
       "  'detailUrl': 'https://www.zillow.com/homedetails/3251-W-Evergreen-Ave-2-Chicago-IL-60651/348824068_zpid/',\n",
       "  'imgSrc': 'https://photos.zillowstatic.com/fp/6253b10423f0bf3cee38170605b73c8b-p_e.jpg',\n",
       "  'description': \"Conveniently located just a short commute from downtown Chicago, minutes away from 606 Bloomingdale Trail. Humboldt Park/ Logan Square Edge offers the perfect balance of urban excitement and neighborhood tranquility. With its tree-lined streets, historic architecture, and welcoming atmosphere, it's no wonder why so many people are proud to call Humboldt Park home.\\n\\nFully remodeled unit with contemporary design, Hardwood Floors. Stainless steel appliances: Range, Over Range-Microwave, Refrigerator. In-unit Samsung Washer/Dryer. Central AC/Furnace.\\n\\nOne parking spot in Detached Garage included. Gas/Electric utilities paid by tenant. (1) Pet allowed upon approval.\\n\\nTenant is responsible for electric/gas utilities. One parking spot detached is included if requested. (1) small pet allowed upon approval if applicable. Last month rent due at signing of lease with first month's rent payment. No smoking in unit allowed. (1) year leases.\"}]"
      ]
     },
     "execution_count": 7,
     "metadata": {},
     "output_type": "execute_result"
    }
   ],
   "source": [
    "top_properties"
   ]
  },
  {
   "cell_type": "code",
   "execution_count": 9,
   "id": "cd14c1db-aec7-486b-bb30-c9bc57d7b923",
   "metadata": {
    "tags": []
   },
   "outputs": [],
   "source": [
    "import requests\n",
    "\n",
    "headers = {\n",
    "\t\"X-RapidAPI-Key\": \"RAPID_API_KEY\",\n",
    "\t\"X-RapidAPI-Host\": \"zillow-com1.p.rapidapi.com\"\n",
    "}\n",
    "\n",
    "# Endpoint(specifiled in the function)\n",
    "# url_details = \"https://zillow-com1.p.rapidapi.com/property\""
   ]
  },
  {
   "cell_type": "code",
   "execution_count": 10,
   "id": "cba4961c-b49f-48db-bd0a-abef51516f5e",
   "metadata": {
    "tags": []
   },
   "outputs": [
    {
     "data": {
      "text/plain": [
       "[{'propertyType': None,\n",
       "  'address': '2611 N Hermitage Ave, Chicago, IL',\n",
       "  'price': None,\n",
       "  'bedrooms': None,\n",
       "  'bathrooms': None,\n",
       "  'detailUrl': 'https://www.zillow.com/apartments/chicago-il/norweta/BXQZ9R/',\n",
       "  'imgSrc': 'https://photos.zillowstatic.com/fp/65ca2c82486f45afdc0e1f156f6b514f-p_e.jpg',\n",
       "  'description': 'No description available',\n",
       "  'resoFacts': {'hasGarage': 'N/A',\n",
       "   'hasPetsAllowed': 'N/A',\n",
       "   'heating': 'N/A',\n",
       "   'cooling': 'N/A',\n",
       "   'flooring': 'N/A',\n",
       "   'appliances': 'N/A',\n",
       "   'laundryFeatures': 'N/A',\n",
       "   'associationFee': 'N/A',\n",
       "   'livingArea': 'N/A',\n",
       "   'taxAnnualAmount': 'N/A',\n",
       "   'parkingFeatures': 'N/A',\n",
       "   'stories': 'N/A'}},\n",
       " {'propertyType': 'SINGLE_FAMILY',\n",
       "  'address': '3240 W Fulton Blvd, Chicago, IL 60624',\n",
       "  'price': 2800,\n",
       "  'bedrooms': 5,\n",
       "  'bathrooms': 2,\n",
       "  'detailUrl': 'https://www.zillow.com/homedetails/3240-W-Fulton-Blvd-Chicago-IL-60624/158698100_zpid/',\n",
       "  'imgSrc': 'https://photos.zillowstatic.com/fp/402d1685a0321ebbd7c3b2ceaecb3822-p_e.jpg',\n",
       "  'description': \"Hello!\\n\\nThis rehabbed house has central heat & air, exposed bricks, dark hardwood floors, new stainless steel kitchen appliances, in-unit washer and dryer, and plenty of storage space in the basement. It also has a firepit in the backyard for bonfires. \\n\\nAbout the neighborhood:\\nThis unfurnished house is in the heart of East Garfield Park, less than a five-minute walk from the Kedzie Green line and Metra stations, as well as the nearest 52 Kedzie, 82 Homan and 94 California bus stops. There is plenty of space downstairs for your bikes, so you can get around very easily from here without a car. If you do have a car though, you can have a spot out back for $25/month each, or use one of the parking spots on the street out front. \\n\\nThis house is within a few blocks of cool neighborhood spots like Passion House Coffee, Breakthrough Community Center, Inspiration Kitchens, and the Garfield Park Conservatory, and just a short bike ride away from everything in Humboldt Park, Ukranian Village and West Loop. \\n\\nAbout the dollar bills/paperwork:\\nThis lease will start June 1 and go until June 30, 2025, with a chance to renew for a full year. If you see the place and like it, you will complete an application that includes a background check and credit check for each person on the lease. Once you've been approved, you will pay a non-refundable $250 move-in fee for reach person on the lease, plus first month's rent. \\n\\nIf all that sounds good to you, send us a message so we can share details with you about our open house this Sunday, May 5.\\n\\nThis lease will start June 1 and go until June 30, 2025, with a chance to renew for a full year. If you see the place and like it, you will complete an application that includes a background check and credit check for each person on the lease. Once you've been approved, you will pay a non-refundable $250 move-in fee for reach person on the lease, plus first month's rent.\",\n",
       "  'resoFacts': {'hasGarage': 'N/A',\n",
       "   'hasPetsAllowed': 'N/A',\n",
       "   'heating': 'N/A',\n",
       "   'cooling': 'N/A',\n",
       "   'flooring': 'N/A',\n",
       "   'appliances': 'N/A',\n",
       "   'laundryFeatures': 'N/A',\n",
       "   'associationFee': 'N/A',\n",
       "   'livingArea': 'N/A',\n",
       "   'taxAnnualAmount': 'N/A',\n",
       "   'parkingFeatures': 'N/A',\n",
       "   'stories': 'N/A'}},\n",
       " {'propertyType': 'APARTMENT',\n",
       "  'address': '3251 W Evergreen Ave #2, Chicago, IL 60651',\n",
       "  'price': 2300,\n",
       "  'bedrooms': 3,\n",
       "  'bathrooms': 1,\n",
       "  'detailUrl': 'https://www.zillow.com/homedetails/3251-W-Evergreen-Ave-2-Chicago-IL-60651/348824068_zpid/',\n",
       "  'imgSrc': 'https://photos.zillowstatic.com/fp/6253b10423f0bf3cee38170605b73c8b-p_e.jpg',\n",
       "  'description': \"Conveniently located just a short commute from downtown Chicago, minutes away from 606 Bloomingdale Trail. Humboldt Park/ Logan Square Edge offers the perfect balance of urban excitement and neighborhood tranquility. With its tree-lined streets, historic architecture, and welcoming atmosphere, it's no wonder why so many people are proud to call Humboldt Park home.\\n\\nFully remodeled unit with contemporary design, Hardwood Floors. Stainless steel appliances: Range, Over Range-Microwave, Refrigerator. In-unit Samsung Washer/Dryer. Central AC/Furnace.\\n\\nOne parking spot in Detached Garage included. Gas/Electric utilities paid by tenant. (1) Pet allowed upon approval.\\n\\nTenant is responsible for electric/gas utilities. One parking spot detached is included if requested. (1) small pet allowed upon approval if applicable. Last month rent due at signing of lease with first month's rent payment. No smoking in unit allowed. (1) year leases.\",\n",
       "  'resoFacts': {'hasGarage': 'N/A',\n",
       "   'hasPetsAllowed': 'N/A',\n",
       "   'heating': 'N/A',\n",
       "   'cooling': 'N/A',\n",
       "   'flooring': 'N/A',\n",
       "   'appliances': 'N/A',\n",
       "   'laundryFeatures': 'N/A',\n",
       "   'associationFee': 'N/A',\n",
       "   'livingArea': 'N/A',\n",
       "   'taxAnnualAmount': 'N/A',\n",
       "   'parkingFeatures': 'N/A',\n",
       "   'stories': 'N/A'}}]"
      ]
     },
     "execution_count": 10,
     "metadata": {},
     "output_type": "execute_result"
    }
   ],
   "source": [
    "# Apply the function to 3 top properties\n",
    "\n",
    "# key to fetch\n",
    "keys_to_fetch_resoFacts = [\n",
    "    'hasGarage', 'hasPetsAllowed', 'heating', 'cooling', 'flooring', 'appliances',\n",
    "    'laundryFeatures', 'associationFee',\n",
    "    'livingArea', 'taxAnnualAmount', 'parkingFeatures', 'stories'\n",
    "]\n",
    "\n",
    "top_properties = fetch_resoFacts(top_properties, headers, keys_to_fetch_resoFacts)\n",
    "top_properties"
   ]
  }
 ],
 "metadata": {
  "environment": {
   "kernel": "python3",
   "name": "tf2-cpu.2-11.m119",
   "type": "gcloud",
   "uri": "us-docker.pkg.dev/deeplearning-platform-release/gcr.io/tf2-cpu.2-11:m119"
  },
  "kernelspec": {
   "display_name": "Python 3",
   "language": "python",
   "name": "python3"
  },
  "language_info": {
   "codemirror_mode": {
    "name": "ipython",
    "version": 3
   },
   "file_extension": ".py",
   "mimetype": "text/x-python",
   "name": "python",
   "nbconvert_exporter": "python",
   "pygments_lexer": "ipython3",
   "version": "3.10.14"
  }
 },
 "nbformat": 4,
 "nbformat_minor": 5
}
